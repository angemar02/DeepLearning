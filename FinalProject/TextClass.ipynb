{
 "cells": [
  {
   "cell_type": "markdown",
   "metadata": {},
   "source": [
    "# TEXT CLASSIFICATION\n",
    "\n",
    "*Angélica María Gómez Buitrago*\n",
    "\n",
    "*Juan Camilo Castillo Castro*"
   ]
  },
  {
   "cell_type": "code",
   "execution_count": 333,
   "metadata": {},
   "outputs": [],
   "source": [
    "import pandas as pd\n",
    "import os\n",
    "import numpy as np\n",
    "\n",
    "from sklearn.feature_extraction.text import CountVectorizer\n",
    "from sklearn.preprocessing import MultiLabelBinarizer\n",
    "from sklearn.multiclass import OneVsRestClassifier\n",
    "from sklearn.ensemble import RandomForestRegressor, RandomForestClassifier\n",
    "from sklearn.metrics import r2_score, roc_auc_score\n",
    "from sklearn.model_selection import train_test_split"
   ]
  },
  {
   "cell_type": "markdown",
   "metadata": {},
   "source": [
    "# Read Data"
   ]
  },
  {
   "cell_type": "code",
   "execution_count": 334,
   "metadata": {},
   "outputs": [],
   "source": [
    "path = ''"
   ]
  },
  {
   "cell_type": "code",
   "execution_count": 335,
   "metadata": {},
   "outputs": [],
   "source": [
    "dataTraining = pd.read_csv(os.path.join(path, 'data', 'dataTraining.csv'), encoding='UTF-8', index_col=0)\n",
    "dataTesting = pd.read_csv(os.path.join(path, 'data', 'dataTesting.csv'), encoding='UTF-8', index_col=0)"
   ]
  },
  {
   "cell_type": "code",
   "execution_count": 336,
   "metadata": {
    "scrolled": true
   },
   "outputs": [
    {
     "data": {
      "text/html": [
       "<div>\n",
       "<style scoped>\n",
       "    .dataframe tbody tr th:only-of-type {\n",
       "        vertical-align: middle;\n",
       "    }\n",
       "\n",
       "    .dataframe tbody tr th {\n",
       "        vertical-align: top;\n",
       "    }\n",
       "\n",
       "    .dataframe thead th {\n",
       "        text-align: right;\n",
       "    }\n",
       "</style>\n",
       "<table border=\"1\" class=\"dataframe\">\n",
       "  <thead>\n",
       "    <tr style=\"text-align: right;\">\n",
       "      <th></th>\n",
       "      <th>year</th>\n",
       "      <th>title</th>\n",
       "      <th>plot</th>\n",
       "      <th>genres</th>\n",
       "      <th>rating</th>\n",
       "    </tr>\n",
       "  </thead>\n",
       "  <tbody>\n",
       "    <tr>\n",
       "      <th>3107</th>\n",
       "      <td>2003</td>\n",
       "      <td>Most</td>\n",
       "      <td>most is the story of a single father who takes...</td>\n",
       "      <td>['Short', 'Drama']</td>\n",
       "      <td>8.0</td>\n",
       "    </tr>\n",
       "    <tr>\n",
       "      <th>900</th>\n",
       "      <td>2008</td>\n",
       "      <td>How to Be a Serial Killer</td>\n",
       "      <td>a serial killer decides to teach the secrets o...</td>\n",
       "      <td>['Comedy', 'Crime', 'Horror']</td>\n",
       "      <td>5.6</td>\n",
       "    </tr>\n",
       "    <tr>\n",
       "      <th>6724</th>\n",
       "      <td>1941</td>\n",
       "      <td>A Woman's Face</td>\n",
       "      <td>in sweden ,  a female blackmailer with a disfi...</td>\n",
       "      <td>['Drama', 'Film-Noir', 'Thriller']</td>\n",
       "      <td>7.2</td>\n",
       "    </tr>\n",
       "    <tr>\n",
       "      <th>4704</th>\n",
       "      <td>1954</td>\n",
       "      <td>Executive Suite</td>\n",
       "      <td>in a friday afternoon in new york ,  the presi...</td>\n",
       "      <td>['Drama']</td>\n",
       "      <td>7.4</td>\n",
       "    </tr>\n",
       "    <tr>\n",
       "      <th>2582</th>\n",
       "      <td>1990</td>\n",
       "      <td>Narrow Margin</td>\n",
       "      <td>in los angeles ,  the editor of a publishing h...</td>\n",
       "      <td>['Action', 'Crime', 'Thriller']</td>\n",
       "      <td>6.6</td>\n",
       "    </tr>\n",
       "  </tbody>\n",
       "</table>\n",
       "</div>"
      ],
      "text/plain": [
       "      year                      title  \\\n",
       "3107  2003                       Most   \n",
       "900   2008  How to Be a Serial Killer   \n",
       "6724  1941             A Woman's Face   \n",
       "4704  1954            Executive Suite   \n",
       "2582  1990              Narrow Margin   \n",
       "\n",
       "                                                   plot  \\\n",
       "3107  most is the story of a single father who takes...   \n",
       "900   a serial killer decides to teach the secrets o...   \n",
       "6724  in sweden ,  a female blackmailer with a disfi...   \n",
       "4704  in a friday afternoon in new york ,  the presi...   \n",
       "2582  in los angeles ,  the editor of a publishing h...   \n",
       "\n",
       "                                  genres  rating  \n",
       "3107                  ['Short', 'Drama']     8.0  \n",
       "900        ['Comedy', 'Crime', 'Horror']     5.6  \n",
       "6724  ['Drama', 'Film-Noir', 'Thriller']     7.2  \n",
       "4704                           ['Drama']     7.4  \n",
       "2582     ['Action', 'Crime', 'Thriller']     6.6  "
      ]
     },
     "execution_count": 336,
     "metadata": {},
     "output_type": "execute_result"
    }
   ],
   "source": [
    "dataTraining.head()"
   ]
  },
  {
   "cell_type": "code",
   "execution_count": 337,
   "metadata": {},
   "outputs": [
    {
     "data": {
      "text/plain": [
       "(7895, 5)"
      ]
     },
     "execution_count": 337,
     "metadata": {},
     "output_type": "execute_result"
    }
   ],
   "source": [
    "dataTraining.shape"
   ]
  },
  {
   "cell_type": "markdown",
   "metadata": {},
   "source": [
    "# Create y"
   ]
  },
  {
   "cell_type": "code",
   "execution_count": 338,
   "metadata": {},
   "outputs": [],
   "source": [
    "dataTraining['genres'] = dataTraining['genres'].map(lambda x: eval(x))\n",
    "\n",
    "le                     = MultiLabelBinarizer()\n",
    "y_genres               = le.fit_transform(dataTraining['genres'])"
   ]
  },
  {
   "cell_type": "code",
   "execution_count": 339,
   "metadata": {
    "scrolled": true
   },
   "outputs": [
    {
     "data": {
      "text/plain": [
       "(7895, 24)"
      ]
     },
     "execution_count": 339,
     "metadata": {},
     "output_type": "execute_result"
    }
   ],
   "source": [
    "y_genres.shape #Hay 24 categorías de películas"
   ]
  },
  {
   "cell_type": "markdown",
   "metadata": {},
   "source": [
    "# Split train and test\n",
    "\n",
    "Primero se debe hacer el split de datos y posteriormente sí aplicar el vectorizer solamente a los datos de X_train."
   ]
  },
  {
   "cell_type": "code",
   "execution_count": 340,
   "metadata": {},
   "outputs": [],
   "source": [
    "X_train, X_test, y_train_genres, y_test_genres = train_test_split(dataTraining['plot'],y_genres, test_size=0.33, random_state=42)"
   ]
  },
  {
   "cell_type": "code",
   "execution_count": 341,
   "metadata": {},
   "outputs": [
    {
     "data": {
      "text/plain": [
       "((5289,), (2606,), (5289, 24), (2606, 24))"
      ]
     },
     "execution_count": 341,
     "metadata": {},
     "output_type": "execute_result"
    }
   ],
   "source": [
    "X_train.shape, X_test.shape, y_train_genres.shape, y_test_genres.shape"
   ]
  },
  {
   "cell_type": "markdown",
   "metadata": {},
   "source": [
    "# Create TfidVectorizer"
   ]
  },
  {
   "cell_type": "code",
   "execution_count": 414,
   "metadata": {},
   "outputs": [],
   "source": [
    "from sklearn.feature_extraction.text import CountVectorizer, TfidfVectorizer"
   ]
  },
  {
   "cell_type": "code",
   "execution_count": 460,
   "metadata": {},
   "outputs": [
    {
     "data": {
      "text/plain": [
       "(5289, 1000)"
      ]
     },
     "execution_count": 460,
     "metadata": {},
     "output_type": "execute_result"
    }
   ],
   "source": [
    "vect = CountVectorizer(stop_words='english', max_features=1000,ngram_range=(1, 2))\n",
    "X_train_dtm  = vect.fit_transform(X_train)\n",
    "X_train_dtm.shape"
   ]
  },
  {
   "cell_type": "code",
   "execution_count": 461,
   "metadata": {},
   "outputs": [],
   "source": [
    "X_test_dtm = vect.transform(X_test)"
   ]
  },
  {
   "cell_type": "code",
   "execution_count": 462,
   "metadata": {},
   "outputs": [
    {
     "data": {
      "text/plain": [
       "(2606, 1000)"
      ]
     },
     "execution_count": 462,
     "metadata": {},
     "output_type": "execute_result"
    }
   ],
   "source": [
    "X_test_dtm.shape"
   ]
  },
  {
   "cell_type": "markdown",
   "metadata": {},
   "source": [
    "# Train multi-class multi-label model"
   ]
  },
  {
   "cell_type": "markdown",
   "metadata": {},
   "source": [
    "We tested different number of estimators and depht, selectin the following parameters in a Random Forest Classifier."
   ]
  },
  {
   "cell_type": "code",
   "execution_count": 418,
   "metadata": {},
   "outputs": [
    {
     "data": {
      "text/plain": [
       "OneVsRestClassifier(estimator=RandomForestClassifier(bootstrap=True, class_weight=None, criterion='gini',\n",
       "            max_depth=10, max_features='auto', max_leaf_nodes=None,\n",
       "            min_impurity_decrease=0.0, min_impurity_split=None,\n",
       "            min_samples_leaf=1, min_samples_split=2,\n",
       "            min_weight_fraction_leaf=0.0, n_estimators=220, n_jobs=-5,\n",
       "            oob_score=False, random_state=42, verbose=0, warm_start=False),\n",
       "          n_jobs=1)"
      ]
     },
     "execution_count": 418,
     "metadata": {},
     "output_type": "execute_result"
    }
   ],
   "source": [
    "clf = OneVsRestClassifier(RandomForestClassifier(n_jobs=-5, n_estimators=220, max_depth=10, random_state=42))\n",
    "clf "
   ]
  },
  {
   "cell_type": "code",
   "execution_count": 419,
   "metadata": {},
   "outputs": [
    {
     "data": {
      "text/plain": [
       "OneVsRestClassifier(estimator=RandomForestClassifier(bootstrap=True, class_weight=None, criterion='gini',\n",
       "            max_depth=10, max_features='auto', max_leaf_nodes=None,\n",
       "            min_impurity_decrease=0.0, min_impurity_split=None,\n",
       "            min_samples_leaf=1, min_samples_split=2,\n",
       "            min_weight_fraction_leaf=0.0, n_estimators=220, n_jobs=-5,\n",
       "            oob_score=False, random_state=42, verbose=0, warm_start=False),\n",
       "          n_jobs=1)"
      ]
     },
     "execution_count": 419,
     "metadata": {},
     "output_type": "execute_result"
    }
   ],
   "source": [
    "clf.fit(X_train_dtm , y_train_genres)"
   ]
  },
  {
   "cell_type": "code",
   "execution_count": 420,
   "metadata": {},
   "outputs": [
    {
     "data": {
      "text/plain": [
       "array([[0.14531685, 0.11088103, 0.02726866, ..., 0.25793315, 0.03846824,\n",
       "        0.02567747],\n",
       "       [0.14343473, 0.12798791, 0.02397985, ..., 0.22827102, 0.14170132,\n",
       "        0.0254259 ],\n",
       "       [0.18514528, 0.1343943 , 0.02396616, ..., 0.25190901, 0.03615788,\n",
       "        0.0219488 ],\n",
       "       ...,\n",
       "       [0.17356591, 0.12667528, 0.02455989, ..., 0.25195057, 0.03483763,\n",
       "        0.03004736],\n",
       "       [0.14060639, 0.11217894, 0.02396616, ..., 0.24801523, 0.03406183,\n",
       "        0.02115944],\n",
       "       [0.14704403, 0.11406634, 0.02383524, ..., 0.26164256, 0.03406183,\n",
       "        0.02115944]])"
      ]
     },
     "execution_count": 420,
     "metadata": {},
     "output_type": "execute_result"
    }
   ],
   "source": [
    "y_pred_genres = clf.predict_proba(X_test_dtm)\n",
    "y_pred_genres"
   ]
  },
  {
   "cell_type": "markdown",
   "metadata": {},
   "source": [
    "### ROC"
   ]
  },
  {
   "cell_type": "code",
   "execution_count": 421,
   "metadata": {},
   "outputs": [
    {
     "data": {
      "text/plain": [
       "0.8238598812838025"
      ]
     },
     "execution_count": 421,
     "metadata": {},
     "output_type": "execute_result"
    }
   ],
   "source": [
    "roc_auc_score(y_test_genres, y_pred_genres, average='macro')"
   ]
  },
  {
   "cell_type": "code",
   "execution_count": 422,
   "metadata": {},
   "outputs": [
    {
     "data": {
      "text/plain": [
       "(2606, 24)"
      ]
     },
     "execution_count": 422,
     "metadata": {},
     "output_type": "execute_result"
    }
   ],
   "source": [
    "y_pred_genres.shape"
   ]
  },
  {
   "cell_type": "markdown",
   "metadata": {},
   "source": [
    "### Apply RF to kaggle test"
   ]
  },
  {
   "cell_type": "code",
   "execution_count": 423,
   "metadata": {},
   "outputs": [],
   "source": [
    "X_test_k_dtm = vect.transform(dataTesting['plot'])"
   ]
  },
  {
   "cell_type": "code",
   "execution_count": 424,
   "metadata": {},
   "outputs": [],
   "source": [
    "cols = ['p_Action', 'p_Adventure', 'p_Animation', 'p_Biography', 'p_Comedy', 'p_Crime', 'p_Documentary', 'p_Drama', 'p_Family',\n",
    "        'p_Fantasy', 'p_Film-Noir', 'p_History', 'p_Horror', 'p_Music', 'p_Musical', 'p_Mystery', 'p_News', 'p_Romance',\n",
    "        'p_Sci-Fi', 'p_Short', 'p_Sport', 'p_Thriller', 'p_War', 'p_Western']\n",
    "\n",
    "y_pred_test_genres = clf.predict_proba(X_test_k_dtm)\n",
    "\n",
    "pd.DataFrame(y_pred_test_genres, index=dataTesting.index, columns=cols).to_csv('pred_genres_text_RF.csv', index_label='ID')"
   ]
  },
  {
   "cell_type": "code",
   "execution_count": 425,
   "metadata": {},
   "outputs": [
    {
     "data": {
      "text/plain": [
       "(3383, 24)"
      ]
     },
     "execution_count": 425,
     "metadata": {},
     "output_type": "execute_result"
    }
   ],
   "source": [
    "y_pred_test_genres.shape"
   ]
  },
  {
   "cell_type": "markdown",
   "metadata": {},
   "source": [
    "# NEURAL NETWORK"
   ]
  },
  {
   "cell_type": "markdown",
   "metadata": {},
   "source": [
    "Now we will try a basic Neural Network:"
   ]
  },
  {
   "cell_type": "code",
   "execution_count": 463,
   "metadata": {},
   "outputs": [
    {
     "data": {
      "text/plain": [
       "array([[0, 0, 0, ..., 1, 0, 0],\n",
       "       [0, 0, 0, ..., 0, 0, 0],\n",
       "       [0, 0, 0, ..., 1, 0, 0],\n",
       "       ...,\n",
       "       [0, 0, 0, ..., 0, 0, 0],\n",
       "       [0, 0, 0, ..., 1, 0, 0],\n",
       "       [0, 0, 1, ..., 0, 0, 0]])"
      ]
     },
     "execution_count": 463,
     "metadata": {},
     "output_type": "execute_result"
    }
   ],
   "source": [
    "y_train_genres"
   ]
  },
  {
   "cell_type": "code",
   "execution_count": 464,
   "metadata": {},
   "outputs": [
    {
     "data": {
      "text/plain": [
       "(2606, 24)"
      ]
     },
     "execution_count": 464,
     "metadata": {},
     "output_type": "execute_result"
    }
   ],
   "source": [
    "y_pred_genres.shape"
   ]
  },
  {
   "cell_type": "code",
   "execution_count": 465,
   "metadata": {},
   "outputs": [],
   "source": [
    "from keras.models import Sequential\n",
    "from keras.utils import np_utils\n",
    "from keras.layers import Dense, Dropout, Activation, BatchNormalization\n",
    "from keras.optimizers import RMSprop\n",
    "from keras.callbacks import History\n",
    "from livelossplot import PlotLossesKeras"
   ]
  },
  {
   "cell_type": "code",
   "execution_count": 466,
   "metadata": {},
   "outputs": [
    {
     "data": {
      "text/plain": [
       "(1000,)"
      ]
     },
     "execution_count": 466,
     "metadata": {},
     "output_type": "execute_result"
    }
   ],
   "source": [
    "input_shape=X_train_dtm.shape[1:]\n",
    "input_shape"
   ]
  },
  {
   "cell_type": "code",
   "execution_count": 467,
   "metadata": {},
   "outputs": [
    {
     "name": "stdout",
     "output_type": "stream",
     "text": [
      "_________________________________________________________________\n",
      "Layer (type)                 Output Shape              Param #   \n",
      "=================================================================\n",
      "dense_46 (Dense)             (None, 256)               256256    \n",
      "_________________________________________________________________\n",
      "activation_40 (Activation)   (None, 256)               0         \n",
      "_________________________________________________________________\n",
      "batch_normalization_21 (Batc (None, 256)               1024      \n",
      "_________________________________________________________________\n",
      "dropout_27 (Dropout)         (None, 256)               0         \n",
      "_________________________________________________________________\n",
      "dense_47 (Dense)             (None, 24)                6168      \n",
      "_________________________________________________________________\n",
      "activation_41 (Activation)   (None, 24)                0         \n",
      "=================================================================\n",
      "Total params: 263,448\n",
      "Trainable params: 262,936\n",
      "Non-trainable params: 512\n",
      "_________________________________________________________________\n"
     ]
    }
   ],
   "source": [
    "model = Sequential()\n",
    "\n",
    "model.add(Dense(units=256,input_shape=input_shape))\n",
    "model.add(Activation('selu'))\n",
    "model.add(BatchNormalization())\n",
    "model.add(Dropout(0.5))\n",
    "model.add(Dense(units=24))\n",
    "model.add(Activation('sigmoid'))\n",
    "model.summary()"
   ]
  },
  {
   "cell_type": "code",
   "execution_count": 468,
   "metadata": {},
   "outputs": [],
   "source": [
    "from keras.optimizers import rmsprop\n",
    "model.compile(loss = 'categorical_crossentropy',\n",
    "              optimizer = RMSprop(lr=0.0001, rho=0.9, epsilon=None, decay=0.0),\n",
    "              metrics = ['accuracy'])"
   ]
  },
  {
   "cell_type": "code",
   "execution_count": 469,
   "metadata": {
    "scrolled": true
   },
   "outputs": [
    {
     "name": "stdout",
     "output_type": "stream",
     "text": [
      "Epoch 1/50\n",
      " - 3s - loss: 9.3461 - acc: 0.0550\n",
      "Epoch 2/50\n",
      " - 2s - loss: 8.8722 - acc: 0.0758\n",
      "Epoch 3/50\n",
      " - 1s - loss: 8.5467 - acc: 0.1049\n",
      "Epoch 4/50\n",
      " - 1s - loss: 8.2890 - acc: 0.1306\n",
      "Epoch 5/50\n",
      " - 1s - loss: 8.0965 - acc: 0.1479\n",
      "Epoch 6/50\n",
      " - 2s - loss: 7.9018 - acc: 0.1738\n",
      "Epoch 7/50\n",
      " - 1s - loss: 7.7585 - acc: 0.1834\n",
      "Epoch 8/50\n",
      " - 1s - loss: 7.6259 - acc: 0.1970\n",
      "Epoch 9/50\n",
      " - 1s - loss: 7.4645 - acc: 0.2123\n",
      "Epoch 10/50\n",
      " - 2s - loss: 7.3238 - acc: 0.2144\n",
      "Epoch 11/50\n",
      " - 1s - loss: 7.2078 - acc: 0.2358\n",
      "Epoch 12/50\n",
      " - 1s - loss: 7.0837 - acc: 0.2377\n",
      "Epoch 13/50\n",
      " - 1s - loss: 6.9589 - acc: 0.2477\n",
      "Epoch 14/50\n",
      " - 1s - loss: 6.8421 - acc: 0.2551\n",
      "Epoch 15/50\n",
      " - 1s - loss: 6.7129 - acc: 0.2702\n",
      "Epoch 16/50\n",
      " - 1s - loss: 6.5900 - acc: 0.2846\n",
      "Epoch 17/50\n",
      " - 1s - loss: 6.4787 - acc: 0.2855\n",
      "Epoch 18/50\n",
      " - 1s - loss: 6.3625 - acc: 0.2872\n",
      "Epoch 19/50\n",
      " - 1s - loss: 6.2777 - acc: 0.2897\n",
      "Epoch 20/50\n",
      " - 1s - loss: 6.1800 - acc: 0.2934\n",
      "Epoch 21/50\n",
      " - 1s - loss: 6.1085 - acc: 0.2985\n",
      "Epoch 22/50\n",
      " - 1s - loss: 6.0372 - acc: 0.3108\n",
      "Epoch 23/50\n",
      " - 1s - loss: 5.9791 - acc: 0.3157\n",
      "Epoch 24/50\n",
      " - 1s - loss: 5.8934 - acc: 0.3021\n",
      "Epoch 25/50\n",
      " - 1s - loss: 5.8708 - acc: 0.3097\n",
      "Epoch 26/50\n",
      " - 1s - loss: 5.8024 - acc: 0.3080\n",
      "Epoch 27/50\n",
      " - 1s - loss: 5.7763 - acc: 0.3116\n",
      "Epoch 28/50\n",
      " - 1s - loss: 5.7470 - acc: 0.3123\n",
      "Epoch 29/50\n",
      " - 1s - loss: 5.7115 - acc: 0.3199\n",
      "Epoch 30/50\n",
      " - 1s - loss: 5.6617 - acc: 0.3188\n",
      "Epoch 31/50\n",
      " - 1s - loss: 5.6450 - acc: 0.3156\n",
      "Epoch 32/50\n",
      " - 1s - loss: 5.5965 - acc: 0.3246\n",
      "Epoch 33/50\n",
      " - 1s - loss: 5.5728 - acc: 0.3239\n",
      "Epoch 34/50\n",
      " - 1s - loss: 5.5511 - acc: 0.3142\n",
      "Epoch 35/50\n",
      " - 1s - loss: 5.5224 - acc: 0.3237\n",
      "Epoch 36/50\n",
      " - 1s - loss: 5.5365 - acc: 0.3186\n",
      "Epoch 37/50\n",
      " - 1s - loss: 5.5062 - acc: 0.3252\n",
      "Epoch 38/50\n",
      " - 1s - loss: 5.4568 - acc: 0.3252\n",
      "Epoch 39/50\n",
      " - 1s - loss: 5.4613 - acc: 0.3207\n",
      "Epoch 40/50\n",
      " - 1s - loss: 5.4309 - acc: 0.3237\n",
      "Epoch 41/50\n",
      " - 1s - loss: 5.4334 - acc: 0.3294\n",
      "Epoch 42/50\n",
      " - 1s - loss: 5.3991 - acc: 0.3235\n",
      "Epoch 43/50\n",
      " - 1s - loss: 5.3882 - acc: 0.3248\n",
      "Epoch 44/50\n",
      " - 1s - loss: 5.3790 - acc: 0.3279\n",
      "Epoch 45/50\n",
      " - 1s - loss: 5.3799 - acc: 0.3324\n",
      "Epoch 46/50\n",
      " - 1s - loss: 5.3425 - acc: 0.3322\n",
      "Epoch 47/50\n",
      " - 1s - loss: 5.3609 - acc: 0.3301\n",
      "Epoch 48/50\n",
      " - 2s - loss: 5.3180 - acc: 0.3324\n",
      "Epoch 49/50\n",
      " - 2s - loss: 5.3110 - acc: 0.3235\n",
      "Epoch 50/50\n",
      " - 1s - loss: 5.3245 - acc: 0.3422\n"
     ]
    },
    {
     "data": {
      "text/plain": [
       "<keras.callbacks.History at 0x21d87f1fac8>"
      ]
     },
     "execution_count": 469,
     "metadata": {},
     "output_type": "execute_result"
    }
   ],
   "source": [
    "model.fit(X_train_dtm, y_train_genres, epochs=50, verbose=2)"
   ]
  },
  {
   "cell_type": "code",
   "execution_count": 470,
   "metadata": {},
   "outputs": [
    {
     "name": "stdout",
     "output_type": "stream",
     "text": [
      "[[3.0628386e-01 2.4277601e-02 3.8436188e-03 ... 8.8317758e-01\n",
      "  2.0321861e-02 2.5566021e-02]\n",
      " [2.2602795e-01 6.7917681e-01 5.5814948e-02 ... 1.2016610e-01\n",
      "  9.2123103e-01 8.1038270e-03]\n",
      " [9.0923464e-01 5.4359949e-01 1.9043674e-03 ... 8.6974233e-01\n",
      "  6.5683812e-04 3.0532244e-04]\n",
      " ...\n",
      " [4.2449674e-01 6.4177370e-01 2.2234070e-01 ... 6.6152476e-02\n",
      "  2.6359099e-05 3.2629131e-03]\n",
      " [1.2384346e-03 2.0290844e-02 1.4278771e-02 ... 1.3498975e-01\n",
      "  1.3781590e-03 3.2579515e-03]\n",
      " [5.5987889e-01 2.8047264e-01 1.0438242e-01 ... 9.1931540e-01\n",
      "  8.7956684e-03 4.6066057e-02]]\n"
     ]
    }
   ],
   "source": [
    "print(model.predict(X_test_dtm))"
   ]
  },
  {
   "cell_type": "code",
   "execution_count": 471,
   "metadata": {},
   "outputs": [
    {
     "name": "stdout",
     "output_type": "stream",
     "text": [
      "2606/2606 [==============================] - 1s 254us/step\n",
      "Test score: 6.726376350531647\n",
      "Test accuracy: 0.3069838834147406\n"
     ]
    }
   ],
   "source": [
    "score = model.evaluate(X_test_dtm,y_test_genres)\n",
    "print('Test score:', score[0])\n",
    "print('Test accuracy:', score[1])"
   ]
  },
  {
   "cell_type": "markdown",
   "metadata": {},
   "source": [
    "#### ROC"
   ]
  },
  {
   "cell_type": "code",
   "execution_count": 472,
   "metadata": {},
   "outputs": [
    {
     "data": {
      "text/plain": [
       "0.8094322701492113"
      ]
     },
     "execution_count": 472,
     "metadata": {},
     "output_type": "execute_result"
    }
   ],
   "source": [
    "roc_auc_score(y_test_genres, model.predict(X_test_dtm), average='macro')"
   ]
  },
  {
   "cell_type": "markdown",
   "metadata": {},
   "source": [
    "#### Apply NN to kaggle test"
   ]
  },
  {
   "cell_type": "code",
   "execution_count": 437,
   "metadata": {},
   "outputs": [],
   "source": [
    "cols = ['p_Action', 'p_Adventure', 'p_Animation', 'p_Biography', 'p_Comedy', 'p_Crime', 'p_Documentary', 'p_Drama', 'p_Family',\n",
    "        'p_Fantasy', 'p_Film-Noir', 'p_History', 'p_Horror', 'p_Music', 'p_Musical', 'p_Mystery', 'p_News', 'p_Romance',\n",
    "        'p_Sci-Fi', 'p_Short', 'p_Sport', 'p_Thriller', 'p_War', 'p_Western']\n",
    "\n",
    "y_pred_test_genres_nn = model.predict_proba(X_test_k_dtm)\n",
    "\n",
    "pd.DataFrame(y_pred_test_genres_nn, index=dataTesting.index, columns=cols).to_csv('pred_genres_text_NN.csv', index_label='ID')"
   ]
  },
  {
   "cell_type": "markdown",
   "metadata": {},
   "source": [
    "# USING LSTM NN"
   ]
  },
  {
   "cell_type": "markdown",
   "metadata": {},
   "source": [
    "Please go to this link:\n",
    "\n",
    "https://colab.research.google.com/drive/1gE-_zTbGw6-Nzhif5Ozhp13aJh3s4D5m"
   ]
  }
 ],
 "metadata": {
  "kernelspec": {
   "display_name": "Python 3",
   "language": "python",
   "name": "python3"
  },
  "language_info": {
   "codemirror_mode": {
    "name": "ipython",
    "version": 3
   },
   "file_extension": ".py",
   "mimetype": "text/x-python",
   "name": "python",
   "nbconvert_exporter": "python",
   "pygments_lexer": "ipython3",
   "version": "3.6.5"
  }
 },
 "nbformat": 4,
 "nbformat_minor": 2
}
