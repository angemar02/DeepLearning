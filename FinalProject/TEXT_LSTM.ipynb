{
  "nbformat": 4,
  "nbformat_minor": 0,
  "metadata": {
    "colab": {
      "name": "TEXT_LSTM.ipynb",
      "version": "0.3.2",
      "views": {},
      "default_view": {},
      "provenance": [
        {
          "file_id": "1ttgSHXynBRM8J9YAwEyXMAtHzFfgs2Fx",
          "timestamp": 1532240738759
        }
      ],
      "collapsed_sections": []
    },
    "kernelspec": {
      "name": "python3",
      "display_name": "Python 3"
    },
    "accelerator": "GPU"
  },
  "cells": [
    {
      "metadata": {
        "id": "kif5Xbd3ll8e",
        "colab_type": "text"
      },
      "cell_type": "markdown",
      "source": [
        "# TEXT LSTM CLASSIFICATION\n",
        "\n",
        "*Angélica María Gómez Buitrago*\n",
        "\n",
        "*Juan Camilo Castillo Castro*"
      ]
    },
    {
      "metadata": {
        "id": "MgZGstHllkyb",
        "colab_type": "code",
        "colab": {
          "autoexec": {
            "startup": false,
            "wait_interval": 0
          }
        }
      },
      "cell_type": "code",
      "source": [
        "|import pandas as pd\n",
        "import os\n",
        "import numpy as np\n",
        "\n",
        "from sklearn.feature_extraction.text import CountVectorizer\n",
        "from sklearn.preprocessing import MultiLabelBinarizer\n",
        "from sklearn.multiclass import OneVsRestClassifier\n",
        "from sklearn.ensemble import RandomForestRegressor, RandomForestClassifier\n",
        "from sklearn.metrics import r2_score, roc_auc_score\n",
        "from sklearn.model_selection import train_test_split"
      ],
      "execution_count": 0,
      "outputs": []
    },
    {
      "metadata": {
        "id": "2MBm9nQznPPN",
        "colab_type": "text"
      },
      "cell_type": "markdown",
      "source": [
        "## Read Data"
      ]
    },
    {
      "metadata": {
        "id": "0J0SPFLSl4zR",
        "colab_type": "code",
        "colab": {
          "autoexec": {
            "startup": false,
            "wait_interval": 0
          },
          "base_uri": "https://localhost:8080/",
          "height": 106
        },
        "outputId": "0c576d6b-e910-47b1-cf1f-8de1297d94a1",
        "executionInfo": {
          "status": "ok",
          "timestamp": 1532307202155,
          "user_tz": 300,
          "elapsed": 58417,
          "user": {
            "displayName": "Angelica Gómez",
            "photoUrl": "//lh4.googleusercontent.com/-NTtteiBewWM/AAAAAAAAAAI/AAAAAAAAAwg/pdsFmLJ6xkk/s50-c-k-no/photo.jpg",
            "userId": "116700998896291777565"
          }
        }
      },
      "cell_type": "code",
      "source": [
        "from google.colab import files\n",
        "uploaded = files.upload()"
      ],
      "execution_count": 3,
      "outputs": [
        {
          "output_type": "display_data",
          "data": {
            "text/html": [
              "\n",
              "     <input type=\"file\" id=\"files-d7f09b59-7b5b-4267-96df-a4ee4120b261\" name=\"files[]\" multiple disabled />\n",
              "     <output id=\"result-d7f09b59-7b5b-4267-96df-a4ee4120b261\">\n",
              "      Upload widget is only available when the cell has been executed in the\n",
              "      current browser session. Please rerun this cell to enable.\n",
              "      </output>\n",
              "      <script src=\"/nbextensions/google.colab/files.js\"></script> "
            ],
            "text/plain": [
              "<IPython.core.display.HTML object>"
            ]
          },
          "metadata": {
            "tags": []
          }
        },
        {
          "output_type": "stream",
          "text": [
            "Saving dataTesting.csv to dataTesting (1).csv\n",
            "Saving dataTraining.csv to dataTraining (1).csv\n"
          ],
          "name": "stdout"
        }
      ]
    },
    {
      "metadata": {
        "id": "GVw-SWeYmAvt",
        "colab_type": "code",
        "colab": {
          "autoexec": {
            "startup": false,
            "wait_interval": 0
          },
          "base_uri": "https://localhost:8080/",
          "height": 204
        },
        "outputId": "2fdd68dc-ba20-4be6-8a84-e95bfe918ce5",
        "executionInfo": {
          "status": "ok",
          "timestamp": 1532307396832,
          "user_tz": 300,
          "elapsed": 580,
          "user": {
            "displayName": "Angelica Gómez",
            "photoUrl": "//lh4.googleusercontent.com/-NTtteiBewWM/AAAAAAAAAAI/AAAAAAAAAwg/pdsFmLJ6xkk/s50-c-k-no/photo.jpg",
            "userId": "116700998896291777565"
          }
        }
      },
      "cell_type": "code",
      "source": [
        "import pandas as pd \n",
        "import io\n",
        "dataTraining = pd.read_csv(io.StringIO(uploaded['dataTraining.csv'].decode('utf-8'))) \n",
        "dataTraining.head()"
      ],
      "execution_count": 4,
      "outputs": [
        {
          "output_type": "execute_result",
          "data": {
            "text/html": [
              "<div>\n",
              "<style scoped>\n",
              "    .dataframe tbody tr th:only-of-type {\n",
              "        vertical-align: middle;\n",
              "    }\n",
              "\n",
              "    .dataframe tbody tr th {\n",
              "        vertical-align: top;\n",
              "    }\n",
              "\n",
              "    .dataframe thead th {\n",
              "        text-align: right;\n",
              "    }\n",
              "</style>\n",
              "<table border=\"1\" class=\"dataframe\">\n",
              "  <thead>\n",
              "    <tr style=\"text-align: right;\">\n",
              "      <th></th>\n",
              "      <th>Unnamed: 0</th>\n",
              "      <th>year</th>\n",
              "      <th>title</th>\n",
              "      <th>plot</th>\n",
              "      <th>genres</th>\n",
              "      <th>rating</th>\n",
              "    </tr>\n",
              "  </thead>\n",
              "  <tbody>\n",
              "    <tr>\n",
              "      <th>0</th>\n",
              "      <td>3107</td>\n",
              "      <td>2003</td>\n",
              "      <td>Most</td>\n",
              "      <td>most is the story of a single father who takes...</td>\n",
              "      <td>['Short', 'Drama']</td>\n",
              "      <td>8.0</td>\n",
              "    </tr>\n",
              "    <tr>\n",
              "      <th>1</th>\n",
              "      <td>900</td>\n",
              "      <td>2008</td>\n",
              "      <td>How to Be a Serial Killer</td>\n",
              "      <td>a serial killer decides to teach the secrets o...</td>\n",
              "      <td>['Comedy', 'Crime', 'Horror']</td>\n",
              "      <td>5.6</td>\n",
              "    </tr>\n",
              "    <tr>\n",
              "      <th>2</th>\n",
              "      <td>6724</td>\n",
              "      <td>1941</td>\n",
              "      <td>A Woman's Face</td>\n",
              "      <td>in sweden ,  a female blackmailer with a disfi...</td>\n",
              "      <td>['Drama', 'Film-Noir', 'Thriller']</td>\n",
              "      <td>7.2</td>\n",
              "    </tr>\n",
              "    <tr>\n",
              "      <th>3</th>\n",
              "      <td>4704</td>\n",
              "      <td>1954</td>\n",
              "      <td>Executive Suite</td>\n",
              "      <td>in a friday afternoon in new york ,  the presi...</td>\n",
              "      <td>['Drama']</td>\n",
              "      <td>7.4</td>\n",
              "    </tr>\n",
              "    <tr>\n",
              "      <th>4</th>\n",
              "      <td>2582</td>\n",
              "      <td>1990</td>\n",
              "      <td>Narrow Margin</td>\n",
              "      <td>in los angeles ,  the editor of a publishing h...</td>\n",
              "      <td>['Action', 'Crime', 'Thriller']</td>\n",
              "      <td>6.6</td>\n",
              "    </tr>\n",
              "  </tbody>\n",
              "</table>\n",
              "</div>"
            ],
            "text/plain": [
              "   Unnamed: 0  year                      title  \\\n",
              "0        3107  2003                       Most   \n",
              "1         900  2008  How to Be a Serial Killer   \n",
              "2        6724  1941             A Woman's Face   \n",
              "3        4704  1954            Executive Suite   \n",
              "4        2582  1990              Narrow Margin   \n",
              "\n",
              "                                                plot  \\\n",
              "0  most is the story of a single father who takes...   \n",
              "1  a serial killer decides to teach the secrets o...   \n",
              "2  in sweden ,  a female blackmailer with a disfi...   \n",
              "3  in a friday afternoon in new york ,  the presi...   \n",
              "4  in los angeles ,  the editor of a publishing h...   \n",
              "\n",
              "                               genres  rating  \n",
              "0                  ['Short', 'Drama']     8.0  \n",
              "1       ['Comedy', 'Crime', 'Horror']     5.6  \n",
              "2  ['Drama', 'Film-Noir', 'Thriller']     7.2  \n",
              "3                           ['Drama']     7.4  \n",
              "4     ['Action', 'Crime', 'Thriller']     6.6  "
            ]
          },
          "metadata": {
            "tags": []
          },
          "execution_count": 4
        }
      ]
    },
    {
      "metadata": {
        "id": "fiEvusHomUmn",
        "colab_type": "code",
        "colab": {
          "autoexec": {
            "startup": false,
            "wait_interval": 0
          },
          "base_uri": "https://localhost:8080/",
          "height": 34
        },
        "outputId": "a87ec264-88e3-4310-bdf4-ea05e25dade8",
        "executionInfo": {
          "status": "ok",
          "timestamp": 1532307399910,
          "user_tz": 300,
          "elapsed": 502,
          "user": {
            "displayName": "Angelica Gómez",
            "photoUrl": "//lh4.googleusercontent.com/-NTtteiBewWM/AAAAAAAAAAI/AAAAAAAAAwg/pdsFmLJ6xkk/s50-c-k-no/photo.jpg",
            "userId": "116700998896291777565"
          }
        }
      },
      "cell_type": "code",
      "source": [
        "dataTraining.shape"
      ],
      "execution_count": 5,
      "outputs": [
        {
          "output_type": "execute_result",
          "data": {
            "text/plain": [
              "(7895, 6)"
            ]
          },
          "metadata": {
            "tags": []
          },
          "execution_count": 5
        }
      ]
    },
    {
      "metadata": {
        "id": "lpDsth2fs6hY",
        "colab_type": "code",
        "colab": {
          "autoexec": {
            "startup": false,
            "wait_interval": 0
          },
          "base_uri": "https://localhost:8080/",
          "height": 204
        },
        "outputId": "118cf8e0-69e7-4350-da90-b8e2073dd993",
        "executionInfo": {
          "status": "ok",
          "timestamp": 1532307401615,
          "user_tz": 300,
          "elapsed": 427,
          "user": {
            "displayName": "Angelica Gómez",
            "photoUrl": "//lh4.googleusercontent.com/-NTtteiBewWM/AAAAAAAAAAI/AAAAAAAAAwg/pdsFmLJ6xkk/s50-c-k-no/photo.jpg",
            "userId": "116700998896291777565"
          }
        }
      },
      "cell_type": "code",
      "source": [
        "dataTesting = pd.read_csv(io.StringIO(uploaded['dataTesting.csv'].decode('utf-8'))) \n",
        "dataTesting.head()"
      ],
      "execution_count": 6,
      "outputs": [
        {
          "output_type": "execute_result",
          "data": {
            "text/html": [
              "<div>\n",
              "<style scoped>\n",
              "    .dataframe tbody tr th:only-of-type {\n",
              "        vertical-align: middle;\n",
              "    }\n",
              "\n",
              "    .dataframe tbody tr th {\n",
              "        vertical-align: top;\n",
              "    }\n",
              "\n",
              "    .dataframe thead th {\n",
              "        text-align: right;\n",
              "    }\n",
              "</style>\n",
              "<table border=\"1\" class=\"dataframe\">\n",
              "  <thead>\n",
              "    <tr style=\"text-align: right;\">\n",
              "      <th></th>\n",
              "      <th>Unnamed: 0</th>\n",
              "      <th>year</th>\n",
              "      <th>title</th>\n",
              "      <th>plot</th>\n",
              "    </tr>\n",
              "  </thead>\n",
              "  <tbody>\n",
              "    <tr>\n",
              "      <th>0</th>\n",
              "      <td>1</td>\n",
              "      <td>1999</td>\n",
              "      <td>Message in a Bottle</td>\n",
              "      <td>who meets by fate ,  shall be sealed by fate ....</td>\n",
              "    </tr>\n",
              "    <tr>\n",
              "      <th>1</th>\n",
              "      <td>4</td>\n",
              "      <td>1978</td>\n",
              "      <td>Midnight Express</td>\n",
              "      <td>the true story of billy hayes ,  an american c...</td>\n",
              "    </tr>\n",
              "    <tr>\n",
              "      <th>2</th>\n",
              "      <td>5</td>\n",
              "      <td>1996</td>\n",
              "      <td>Primal Fear</td>\n",
              "      <td>martin vail left the chicago da ' s office to ...</td>\n",
              "    </tr>\n",
              "    <tr>\n",
              "      <th>3</th>\n",
              "      <td>6</td>\n",
              "      <td>1950</td>\n",
              "      <td>Crisis</td>\n",
              "      <td>husband and wife americans dr .  eugene and mr...</td>\n",
              "    </tr>\n",
              "    <tr>\n",
              "      <th>4</th>\n",
              "      <td>7</td>\n",
              "      <td>1959</td>\n",
              "      <td>The Tingler</td>\n",
              "      <td>the coroner and scientist dr .  warren chapin ...</td>\n",
              "    </tr>\n",
              "  </tbody>\n",
              "</table>\n",
              "</div>"
            ],
            "text/plain": [
              "   Unnamed: 0  year                title  \\\n",
              "0           1  1999  Message in a Bottle   \n",
              "1           4  1978     Midnight Express   \n",
              "2           5  1996          Primal Fear   \n",
              "3           6  1950               Crisis   \n",
              "4           7  1959          The Tingler   \n",
              "\n",
              "                                                plot  \n",
              "0  who meets by fate ,  shall be sealed by fate ....  \n",
              "1  the true story of billy hayes ,  an american c...  \n",
              "2  martin vail left the chicago da ' s office to ...  \n",
              "3  husband and wife americans dr .  eugene and mr...  \n",
              "4  the coroner and scientist dr .  warren chapin ...  "
            ]
          },
          "metadata": {
            "tags": []
          },
          "execution_count": 6
        }
      ]
    },
    {
      "metadata": {
        "id": "IRM0mb3arwmW",
        "colab_type": "text"
      },
      "cell_type": "markdown",
      "source": [
        "# Create y"
      ]
    },
    {
      "metadata": {
        "id": "rn53viqvnV63",
        "colab_type": "code",
        "colab": {
          "autoexec": {
            "startup": false,
            "wait_interval": 0
          }
        }
      },
      "cell_type": "code",
      "source": [
        "dataTraining['genres'] = dataTraining['genres'].map(lambda x: eval(x))\n",
        "\n",
        "le                     = MultiLabelBinarizer()\n",
        "y_genres               = le.fit_transform(dataTraining['genres'])"
      ],
      "execution_count": 0,
      "outputs": []
    },
    {
      "metadata": {
        "id": "Z68KZgzSsD_H",
        "colab_type": "code",
        "colab": {
          "autoexec": {
            "startup": false,
            "wait_interval": 0
          },
          "base_uri": "https://localhost:8080/",
          "height": 34
        },
        "outputId": "b057cb9c-dce8-4a8d-92f1-1d76a9a42750",
        "executionInfo": {
          "status": "ok",
          "timestamp": 1532307406769,
          "user_tz": 300,
          "elapsed": 451,
          "user": {
            "displayName": "Angelica Gómez",
            "photoUrl": "//lh4.googleusercontent.com/-NTtteiBewWM/AAAAAAAAAAI/AAAAAAAAAwg/pdsFmLJ6xkk/s50-c-k-no/photo.jpg",
            "userId": "116700998896291777565"
          }
        }
      },
      "cell_type": "code",
      "source": [
        "y_genres.shape #Hay 24 categorías de películas"
      ],
      "execution_count": 8,
      "outputs": [
        {
          "output_type": "execute_result",
          "data": {
            "text/plain": [
              "(7895, 24)"
            ]
          },
          "metadata": {
            "tags": []
          },
          "execution_count": 8
        }
      ]
    },
    {
      "metadata": {
        "id": "9c5sdQeysf7m",
        "colab_type": "text"
      },
      "cell_type": "markdown",
      "source": [
        "# Split train and test"
      ]
    },
    {
      "metadata": {
        "id": "e5hCL4GjsaIV",
        "colab_type": "code",
        "colab": {
          "autoexec": {
            "startup": false,
            "wait_interval": 0
          }
        }
      },
      "cell_type": "code",
      "source": [
        "X_train, X_test, y_train_genres, y_test_genres = train_test_split(dataTraining['plot'],y_genres, test_size=0.33, random_state=42)"
      ],
      "execution_count": 0,
      "outputs": []
    },
    {
      "metadata": {
        "id": "A_S9gkHWsip5",
        "colab_type": "code",
        "colab": {
          "autoexec": {
            "startup": false,
            "wait_interval": 0
          },
          "base_uri": "https://localhost:8080/",
          "height": 34
        },
        "outputId": "b322ec51-4b46-44e5-a88e-2b63dda02179",
        "executionInfo": {
          "status": "ok",
          "timestamp": 1532307411114,
          "user_tz": 300,
          "elapsed": 378,
          "user": {
            "displayName": "Angelica Gómez",
            "photoUrl": "//lh4.googleusercontent.com/-NTtteiBewWM/AAAAAAAAAAI/AAAAAAAAAwg/pdsFmLJ6xkk/s50-c-k-no/photo.jpg",
            "userId": "116700998896291777565"
          }
        }
      },
      "cell_type": "code",
      "source": [
        "X_train.shape, X_test.shape, y_train_genres.shape, y_test_genres.shape"
      ],
      "execution_count": 10,
      "outputs": [
        {
          "output_type": "execute_result",
          "data": {
            "text/plain": [
              "((5289,), (2606,), (5289, 24), (2606, 24))"
            ]
          },
          "metadata": {
            "tags": []
          },
          "execution_count": 10
        }
      ]
    },
    {
      "metadata": {
        "id": "CokyCcokuThn",
        "colab_type": "text"
      },
      "cell_type": "markdown",
      "source": [
        "# Applying a  LSTM NN"
      ]
    },
    {
      "metadata": {
        "id": "UBSchCteuiQH",
        "colab_type": "code",
        "colab": {
          "autoexec": {
            "startup": false,
            "wait_interval": 0
          }
        }
      },
      "cell_type": "code",
      "source": [
        "!pip install livelossplot"
      ],
      "execution_count": 0,
      "outputs": []
    },
    {
      "metadata": {
        "id": "ddrY2jnAsw28",
        "colab_type": "code",
        "colab": {
          "autoexec": {
            "startup": false,
            "wait_interval": 0
          },
          "base_uri": "https://localhost:8080/",
          "height": 51
        },
        "outputId": "6ff627cb-524e-4918-f672-57d1e3b7f40f",
        "executionInfo": {
          "status": "ok",
          "timestamp": 1532307446749,
          "user_tz": 300,
          "elapsed": 1993,
          "user": {
            "displayName": "Angelica Gómez",
            "photoUrl": "//lh4.googleusercontent.com/-NTtteiBewWM/AAAAAAAAAAI/AAAAAAAAAwg/pdsFmLJ6xkk/s50-c-k-no/photo.jpg",
            "userId": "116700998896291777565"
          }
        }
      },
      "cell_type": "code",
      "source": [
        "import tensorflow as tf\n",
        "sess = tf.Session(config=tf.ConfigProto(log_device_placement=True))\n",
        "import keras\n",
        "from keras import backend as K\n",
        "print(K.tensorflow_backend._get_available_gpus())\n",
        "\n",
        "from keras.models import Sequential\n",
        "from keras.layers.recurrent import LSTM\n",
        "from keras.layers.core import Dense, Dropout\n",
        "from keras.layers.embeddings import Embedding\n",
        "from keras.preprocessing import sequence\n",
        "from keras.preprocessing.text import Tokenizer\n",
        "from keras.models import Model\n",
        "from keras.layers import LSTM, Activation, Dense, Dropout, Input, Embedding\n",
        "from keras.optimizers import RMSprop, SGD\n",
        "from keras.layers.convolutional import Conv1D\n",
        "from keras.layers.convolutional import MaxPooling1D\n",
        "from keras.callbacks import EarlyStopping\n",
        "\n",
        "from livelossplot import PlotLossesKeras\n",
        "%matplotlib inline"
      ],
      "execution_count": 14,
      "outputs": [
        {
          "output_type": "stream",
          "text": [
            "['/job:localhost/replica:0/task:0/device:GPU:0']\n"
          ],
          "name": "stdout"
        },
        {
          "output_type": "stream",
          "text": [
            "Using TensorFlow backend.\n"
          ],
          "name": "stderr"
        }
      ]
    },
    {
      "metadata": {
        "id": "57s3udRaBtBb",
        "colab_type": "text"
      },
      "cell_type": "markdown",
      "source": [
        "We use another approach to create the vocabulary: \"Tokenizer\""
      ]
    },
    {
      "metadata": {
        "id": "FWX3cBQDBX_C",
        "colab_type": "code",
        "colab": {
          "autoexec": {
            "startup": false,
            "wait_interval": 0
          }
        }
      },
      "cell_type": "code",
      "source": [
        "max_words = 10000\n",
        "max_len = 1000\n",
        "tok = Tokenizer(num_words=max_words)\n",
        "tok.fit_on_texts(X_train)\n",
        "sequences = tok.texts_to_sequences(X_train)\n",
        "sequences_matrix = sequence.pad_sequences(sequences,maxlen=max_len)"
      ],
      "execution_count": 0,
      "outputs": []
    },
    {
      "metadata": {
        "id": "RiVQ7-nnEm2X",
        "colab_type": "code",
        "colab": {
          "autoexec": {
            "startup": false,
            "wait_interval": 0
          }
        }
      },
      "cell_type": "code",
      "source": [
        "tok.fit_on_texts(X_test)\n",
        "sequences_test = tok.texts_to_sequences(X_test)\n",
        "sequences_matrix_test = sequence.pad_sequences(sequences_test,maxlen=max_len)"
      ],
      "execution_count": 0,
      "outputs": []
    },
    {
      "metadata": {
        "id": "1Gj8hx0_3bob",
        "colab_type": "code",
        "colab": {
          "autoexec": {
            "startup": false,
            "wait_interval": 0
          },
          "base_uri": "https://localhost:8080/",
          "height": 340
        },
        "outputId": "9fe2a41f-0892-451e-fb6a-74618c7b6a0b",
        "executionInfo": {
          "status": "ok",
          "timestamp": 1532313955893,
          "user_tz": 300,
          "elapsed": 885,
          "user": {
            "displayName": "Angelica Gómez",
            "photoUrl": "//lh4.googleusercontent.com/-NTtteiBewWM/AAAAAAAAAAI/AAAAAAAAAwg/pdsFmLJ6xkk/s50-c-k-no/photo.jpg",
            "userId": "116700998896291777565"
          }
        }
      },
      "cell_type": "code",
      "source": [
        "model = Sequential()\n",
        "\n",
        "model.add(Embedding(max_words, 32, input_shape=[max_len,]))\n",
        "model.add(LSTM(100)) #32=neuronas del LSTM\n",
        "model.add(Dropout(0.2))\n",
        "model.add(Dense(units=256,activation='relu'))\n",
        "model.add(Dropout(0.2))\n",
        "model.add(Dense(24, activation='sigmoid'))\n",
        "\n",
        "model.compile(loss='categorical_crossentropy', optimizer=RMSprop(lr=0.01), metrics=['accuracy'])\n",
        "\n",
        "model.summary()"
      ],
      "execution_count": 26,
      "outputs": [
        {
          "output_type": "stream",
          "text": [
            "_________________________________________________________________\n",
            "Layer (type)                 Output Shape              Param #   \n",
            "=================================================================\n",
            "embedding_3 (Embedding)      (None, 1000, 32)          320000    \n",
            "_________________________________________________________________\n",
            "lstm_3 (LSTM)                (None, 100)               53200     \n",
            "_________________________________________________________________\n",
            "dropout_4 (Dropout)          (None, 100)               0         \n",
            "_________________________________________________________________\n",
            "dense_5 (Dense)              (None, 256)               25856     \n",
            "_________________________________________________________________\n",
            "dropout_5 (Dropout)          (None, 256)               0         \n",
            "_________________________________________________________________\n",
            "dense_6 (Dense)              (None, 24)                6168      \n",
            "=================================================================\n",
            "Total params: 405,224\n",
            "Trainable params: 405,224\n",
            "Non-trainable params: 0\n",
            "_________________________________________________________________\n"
          ],
          "name": "stdout"
        }
      ]
    },
    {
      "metadata": {
        "id": "hp93c9KDvTaM",
        "colab_type": "code",
        "colab": {
          "autoexec": {
            "startup": false,
            "wait_interval": 0
          },
          "base_uri": "https://localhost:8080/",
          "height": 340
        },
        "outputId": "1a63b263-e791-4cb2-9bcf-e7830ccd1f26",
        "executionInfo": {
          "status": "ok",
          "timestamp": 1532313968316,
          "user_tz": 300,
          "elapsed": 422,
          "user": {
            "displayName": "Angelica Gómez",
            "photoUrl": "//lh4.googleusercontent.com/-NTtteiBewWM/AAAAAAAAAAI/AAAAAAAAAwg/pdsFmLJ6xkk/s50-c-k-no/photo.jpg",
            "userId": "116700998896291777565"
          }
        }
      },
      "cell_type": "code",
      "source": [
        "model.summary()\n",
        "model.compile(loss='categorical_crossentropy',optimizer=RMSprop(),metrics=['accuracy'])"
      ],
      "execution_count": 27,
      "outputs": [
        {
          "output_type": "stream",
          "text": [
            "_________________________________________________________________\n",
            "Layer (type)                 Output Shape              Param #   \n",
            "=================================================================\n",
            "embedding_3 (Embedding)      (None, 1000, 32)          320000    \n",
            "_________________________________________________________________\n",
            "lstm_3 (LSTM)                (None, 100)               53200     \n",
            "_________________________________________________________________\n",
            "dropout_4 (Dropout)          (None, 100)               0         \n",
            "_________________________________________________________________\n",
            "dense_5 (Dense)              (None, 256)               25856     \n",
            "_________________________________________________________________\n",
            "dropout_5 (Dropout)          (None, 256)               0         \n",
            "_________________________________________________________________\n",
            "dense_6 (Dense)              (None, 24)                6168      \n",
            "=================================================================\n",
            "Total params: 405,224\n",
            "Trainable params: 405,224\n",
            "Non-trainable params: 0\n",
            "_________________________________________________________________\n"
          ],
          "name": "stdout"
        }
      ]
    },
    {
      "metadata": {
        "id": "T0LKzVbDwrI4",
        "colab_type": "code",
        "colab": {
          "autoexec": {
            "startup": false,
            "wait_interval": 0
          },
          "base_uri": "https://localhost:8080/",
          "height": 343
        },
        "outputId": "28776e7d-7a77-4eab-f8d9-4535bb0f49b3",
        "executionInfo": {
          "status": "ok",
          "timestamp": 1532314312541,
          "user_tz": 300,
          "elapsed": 221,
          "user": {
            "displayName": "Angelica Gómez",
            "photoUrl": "//lh4.googleusercontent.com/-NTtteiBewWM/AAAAAAAAAAI/AAAAAAAAAwg/pdsFmLJ6xkk/s50-c-k-no/photo.jpg",
            "userId": "116700998896291777565"
          }
        }
      },
      "cell_type": "code",
      "source": [
        "model.fit(sequences_matrix, y_train_genres, validation_data=[sequences_matrix_test, y_test_genres],\n",
        "          batch_size=128, epochs=3, callbacks=[PlotLossesKeras()])"
      ],
      "execution_count": 28,
      "outputs": [
        {
          "output_type": "display_data",
          "data": {
            "image/png": "[encoded data removed]",
            "text/plain": [
              "<matplotlib.figure.Figure at 0x7f24b27149e8>"
            ]
          },
          "metadata": {
            "tags": []
          }
        },
        {
          "output_type": "execute_result",
          "data": {
            "text/plain": [
              "<keras.callbacks.History at 0x7f24b4ae8470>"
            ]
          },
          "metadata": {
            "tags": []
          },
          "execution_count": 28
        }
      ]
    },
    {
      "metadata": {
        "id": "GSUvNadGSz4V",
        "colab_type": "code",
        "colab": {
          "autoexec": {
            "startup": false,
            "wait_interval": 0
          },
          "base_uri": "https://localhost:8080/",
          "height": 68
        },
        "outputId": "9eb7a75d-50e8-4057-8ba5-1bbdce2395a9",
        "executionInfo": {
          "status": "ok",
          "timestamp": 1532314633352,
          "user_tz": 300,
          "elapsed": 44201,
          "user": {
            "displayName": "Angelica Gómez",
            "photoUrl": "//lh4.googleusercontent.com/-NTtteiBewWM/AAAAAAAAAAI/AAAAAAAAAwg/pdsFmLJ6xkk/s50-c-k-no/photo.jpg",
            "userId": "116700998896291777565"
          }
        }
      },
      "cell_type": "code",
      "source": [
        "score = model.evaluate(sequences_matrix_test,y_test_genres)\n",
        "print('Test score:', score[0])\n",
        "print('Test accuracy:', score[1])"
      ],
      "execution_count": 29,
      "outputs": [
        {
          "output_type": "stream",
          "text": [
            "2606/2606 [==============================] - 44s 17ms/step\n",
            "Test score: 7.799413586980274\n",
            "Test accuracy: 0.19263238681112907\n"
          ],
          "name": "stdout"
        }
      ]
    },
    {
      "metadata": {
        "id": "A2nF0g_6ByeL",
        "colab_type": "code",
        "colab": {
          "autoexec": {
            "startup": false,
            "wait_interval": 0
          },
          "base_uri": "https://localhost:8080/",
          "height": 34
        },
        "outputId": "17e79e6e-0a96-4498-a3e2-d8a300249120",
        "executionInfo": {
          "status": "ok",
          "timestamp": 1532314691536,
          "user_tz": 300,
          "elapsed": 43732,
          "user": {
            "displayName": "Angelica Gómez",
            "photoUrl": "//lh4.googleusercontent.com/-NTtteiBewWM/AAAAAAAAAAI/AAAAAAAAAwg/pdsFmLJ6xkk/s50-c-k-no/photo.jpg",
            "userId": "116700998896291777565"
          }
        }
      },
      "cell_type": "code",
      "source": [
        "roc_auc_score(y_test_genres, model.predict(sequences_matrix_test), average='macro')"
      ],
      "execution_count": 30,
      "outputs": [
        {
          "output_type": "execute_result",
          "data": {
            "text/plain": [
              "0.5416351929307012"
            ]
          },
          "metadata": {
            "tags": []
          },
          "execution_count": 30
        }
      ]
    }
  ]
}