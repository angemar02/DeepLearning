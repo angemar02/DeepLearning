{
  "nbformat": 4,
  "nbformat_minor": 0,
  "metadata": {
    "colab": {
      "name": "TiemposConTaxis.ipynb",
      "version": "0.3.2",
      "provenance": [],
      "collapsed_sections": [],
      "include_colab_link": true
    },
    "kernelspec": {
      "name": "python3",
      "display_name": "Python 3"
    },
    "accelerator": "GPU"
  },
  "cells": [
    {
      "cell_type": "markdown",
      "metadata": {
        "id": "view-in-github",
        "colab_type": "text"
      },
      "source": [
        "<a href=\"https://colab.research.google.com/github/angemar02/DeepLearning/blob/master/TiemposConTaxis.ipynb\" target=\"_parent\"><img src=\"https://colab.research.google.com/assets/colab-badge.svg\" alt=\"Open In Colab\"/></a>"
      ]
    },
    {
      "metadata": {
        "id": "g6GeP-bLxasn",
        "colab_type": "text"
      },
      "cell_type": "markdown",
      "source": [
        " ## **MODELO DE ESTIMACIÓN DE TIEMPOS**"
      ]
    },
    {
      "metadata": {
        "id": "qCeCBG_qqmC9",
        "colab_type": "code",
        "outputId": "00d633ef-6b9c-43dc-aabb-48b6ac90d952",
        "colab": {
          "resources": {
            "http://localhost:8080/nbextensions/google.colab/files.js": {
              "data": "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",
              "ok": true,
              "headers": [
                [
                  "content-type",
                  "application/javascript"
                ]
              ],
              "status": 200,
              "status_text": ""
            }
          },
          "base_uri": "https://localhost:8080/",
          "height": 72
        }
      },
      "cell_type": "code",
      "source": [
        "from google.colab import files\n",
        "uploaded = files.upload()"
      ],
      "execution_count": 29,
      "outputs": [
        {
          "output_type": "display_data",
          "data": {
            "text/html": [
              "\n",
              "     <input type=\"file\" id=\"files-4ba56424-7336-47a3-9626-f04f75742975\" name=\"files[]\" multiple disabled />\n",
              "     <output id=\"result-4ba56424-7336-47a3-9626-f04f75742975\">\n",
              "      Upload widget is only available when the cell has been executed in the\n",
              "      current browser session. Please rerun this cell to enable.\n",
              "      </output>\n",
              "      <script src=\"/nbextensions/google.colab/files.js\"></script> "
            ],
            "text/plain": [
              "<IPython.core.display.HTML object>"
            ]
          },
          "metadata": {
            "tags": []
          }
        },
        {
          "output_type": "stream",
          "text": [
            "Saving tiempos_con_taxis.csv to tiempos_con_taxis (2).csv\n"
          ],
          "name": "stdout"
        }
      ]
    },
    {
      "metadata": {
        "id": "k6S5T-fNzwM2",
        "colab_type": "text"
      },
      "cell_type": "markdown",
      "source": [
        "### CARGA DE LIBRERIAS\n",
        "\n"
      ]
    },
    {
      "metadata": {
        "id": "XFIJ_DP8iyk0",
        "colab_type": "code",
        "colab": {}
      },
      "cell_type": "code",
      "source": [
        "import pandas as pd\n",
        "import numpy as np\n",
        "import matplotlib.pyplot as plt\n",
        "import seaborn as sns\n",
        "import sklearn.cluster as cluster\n",
        "import time\n",
        "import os\n",
        "from sklearn import preprocessing\n",
        "%matplotlib inline\n",
        "sns.set_context('poster')\n",
        "sns.set_color_codes()\n",
        "plot_kwds = {'alpha' : 0.25, 's' : 80, 'linewidths':0}"
      ],
      "execution_count": 0,
      "outputs": []
    },
    {
      "metadata": {
        "id": "tkIIkxEY13DV",
        "colab_type": "text"
      },
      "cell_type": "markdown",
      "source": [
        "###  LECTURA DE LA BASE DE DATOS"
      ]
    },
    {
      "metadata": {
        "id": "KmCaci6DjJ_Y",
        "colab_type": "code",
        "outputId": "e19ea99d-170c-4031-92cd-2abddf0538ad",
        "colab": {
          "base_uri": "https://localhost:8080/",
          "height": 204
        }
      },
      "cell_type": "code",
      "source": [
        "data = pd.read_csv('tiempos_con_taxis (2).csv',decimal=\",\",delimiter=\";\",encoding=\"latin-1\")\n",
        "#data=data[(data['min_entrega'] < 150) & (data['min_entrega'] > 5) & (data['distancia_km'] > 0.005) & (data['distancia_km'] <= 20)]\n",
        "data.head(5)"
      ],
      "execution_count": 32,
      "outputs": [
        {
          "output_type": "execute_result",
          "data": {
            "text/html": [
              "<div>\n",
              "<style scoped>\n",
              "    .dataframe tbody tr th:only-of-type {\n",
              "        vertical-align: middle;\n",
              "    }\n",
              "\n",
              "    .dataframe tbody tr th {\n",
              "        vertical-align: top;\n",
              "    }\n",
              "\n",
              "    .dataframe thead th {\n",
              "        text-align: right;\n",
              "    }\n",
              "</style>\n",
              "<table border=\"1\" class=\"dataframe\">\n",
              "  <thead>\n",
              "    <tr style=\"text-align: right;\">\n",
              "      <th></th>\n",
              "      <th>mes</th>\n",
              "      <th>dia_mes</th>\n",
              "      <th>day</th>\n",
              "      <th>Latitud_OGN</th>\n",
              "      <th>Longitud_OGN</th>\n",
              "      <th>Latitud_DST</th>\n",
              "      <th>Longitud_DST</th>\n",
              "      <th>distancia_km</th>\n",
              "      <th>min_entrega</th>\n",
              "    </tr>\n",
              "  </thead>\n",
              "  <tbody>\n",
              "    <tr>\n",
              "      <th>0</th>\n",
              "      <td>10</td>\n",
              "      <td>1</td>\n",
              "      <td>domingo</td>\n",
              "      <td>4.688093</td>\n",
              "      <td>-74.084569</td>\n",
              "      <td>4.643890</td>\n",
              "      <td>-74.107783</td>\n",
              "      <td>7.487995</td>\n",
              "      <td>63.0</td>\n",
              "    </tr>\n",
              "    <tr>\n",
              "      <th>1</th>\n",
              "      <td>10</td>\n",
              "      <td>1</td>\n",
              "      <td>domingo</td>\n",
              "      <td>4.656579</td>\n",
              "      <td>-74.112030</td>\n",
              "      <td>4.670556</td>\n",
              "      <td>-74.123332</td>\n",
              "      <td>2.806767</td>\n",
              "      <td>75.0</td>\n",
              "    </tr>\n",
              "    <tr>\n",
              "      <th>2</th>\n",
              "      <td>10</td>\n",
              "      <td>1</td>\n",
              "      <td>domingo</td>\n",
              "      <td>4.670556</td>\n",
              "      <td>-74.123332</td>\n",
              "      <td>4.673245</td>\n",
              "      <td>-74.118105</td>\n",
              "      <td>0.878274</td>\n",
              "      <td>26.0</td>\n",
              "    </tr>\n",
              "    <tr>\n",
              "      <th>3</th>\n",
              "      <td>10</td>\n",
              "      <td>1</td>\n",
              "      <td>domingo</td>\n",
              "      <td>4.673245</td>\n",
              "      <td>-74.118105</td>\n",
              "      <td>4.670514</td>\n",
              "      <td>-74.118844</td>\n",
              "      <td>0.385607</td>\n",
              "      <td>46.0</td>\n",
              "    </tr>\n",
              "    <tr>\n",
              "      <th>4</th>\n",
              "      <td>10</td>\n",
              "      <td>1</td>\n",
              "      <td>domingo</td>\n",
              "      <td>4.670514</td>\n",
              "      <td>-74.118844</td>\n",
              "      <td>4.669219</td>\n",
              "      <td>-74.125305</td>\n",
              "      <td>0.860045</td>\n",
              "      <td>11.0</td>\n",
              "    </tr>\n",
              "  </tbody>\n",
              "</table>\n",
              "</div>"
            ],
            "text/plain": [
              "   mes  dia_mes      day  Latitud_OGN  Longitud_OGN  Latitud_DST  \\\n",
              "0   10        1  domingo     4.688093    -74.084569     4.643890   \n",
              "1   10        1  domingo     4.656579    -74.112030     4.670556   \n",
              "2   10        1  domingo     4.670556    -74.123332     4.673245   \n",
              "3   10        1  domingo     4.673245    -74.118105     4.670514   \n",
              "4   10        1  domingo     4.670514    -74.118844     4.669219   \n",
              "\n",
              "   Longitud_DST  distancia_km  min_entrega  \n",
              "0    -74.107783      7.487995         63.0  \n",
              "1    -74.123332      2.806767         75.0  \n",
              "2    -74.118105      0.878274         26.0  \n",
              "3    -74.118844      0.385607         46.0  \n",
              "4    -74.125305      0.860045         11.0  "
            ]
          },
          "metadata": {
            "tags": []
          },
          "execution_count": 32
        }
      ]
    },
    {
      "metadata": {
        "id": "Yzsnf3xEs-RC",
        "colab_type": "code",
        "colab": {
          "base_uri": "https://localhost:8080/",
          "height": 34
        },
        "outputId": "8131f159-27be-4bef-acfc-72e83824682f"
      },
      "cell_type": "code",
      "source": [
        "data.shape"
      ],
      "execution_count": 33,
      "outputs": [
        {
          "output_type": "execute_result",
          "data": {
            "text/plain": [
              "(616451, 9)"
            ]
          },
          "metadata": {
            "tags": []
          },
          "execution_count": 33
        }
      ]
    },
    {
      "metadata": {
        "id": "8s0kzQAzozjG",
        "colab_type": "text"
      },
      "cell_type": "markdown",
      "source": [
        "### **TIPO DE DATOS ACTUAL**"
      ]
    },
    {
      "metadata": {
        "id": "9OUC7YzHjKJM",
        "colab_type": "code",
        "outputId": "57df61f6-82a6-4b1e-c10b-af9b3480b4bd",
        "colab": {
          "base_uri": "https://localhost:8080/",
          "height": 187
        }
      },
      "cell_type": "code",
      "source": [
        "data.dtypes"
      ],
      "execution_count": 34,
      "outputs": [
        {
          "output_type": "execute_result",
          "data": {
            "text/plain": [
              "mes               int64\n",
              "dia_mes           int64\n",
              "day              object\n",
              "Latitud_OGN     float64\n",
              "Longitud_OGN    float64\n",
              "Latitud_DST     float64\n",
              "Longitud_DST    float64\n",
              "distancia_km    float64\n",
              "min_entrega     float64\n",
              "dtype: object"
            ]
          },
          "metadata": {
            "tags": []
          },
          "execution_count": 34
        }
      ]
    },
    {
      "metadata": {
        "id": "_4Hqo77qnDzb",
        "colab_type": "text"
      },
      "cell_type": "markdown",
      "source": [
        "### **AJUSTE DEL TIPO DE DATOS**"
      ]
    },
    {
      "metadata": {
        "id": "TQOt82iWjKSt",
        "colab_type": "code",
        "colab": {}
      },
      "cell_type": "code",
      "source": [
        "data['mes']=data['mes'].astype('category')\n",
        "data['dia_mes']=data['dia_mes'].astype('category')\n",
        "data['day']=data['day'].astype('category')\n",
        "#data['Bodega']=data['Bodega'].astype('category')\n",
        "#data['MetodoDePago']=data['MetodoDePago'].astype('category')\n",
        "#data['Zona_OGN']=data['Zona_OGN'].astype('category')\n",
        "##data['Zona_DST']=data['Zona_DST'].astype('category')\n",
        "#data['min_entrega']=data['min_entrega'].astype('float64')\n"
      ],
      "execution_count": 0,
      "outputs": []
    },
    {
      "metadata": {
        "id": "6KDTEgdPpLOq",
        "colab_type": "text"
      },
      "cell_type": "markdown",
      "source": [
        "data.dtypes"
      ]
    },
    {
      "metadata": {
        "id": "CIOJ7RIejKX5",
        "colab_type": "code",
        "outputId": "3602f01e-708f-4e94-a4aa-04ab71610a70",
        "colab": {
          "base_uri": "https://localhost:8080/",
          "height": 187
        }
      },
      "cell_type": "code",
      "source": [
        "data.dtypes"
      ],
      "execution_count": 36,
      "outputs": [
        {
          "output_type": "execute_result",
          "data": {
            "text/plain": [
              "mes             category\n",
              "dia_mes         category\n",
              "day             category\n",
              "Latitud_OGN      float64\n",
              "Longitud_OGN     float64\n",
              "Latitud_DST      float64\n",
              "Longitud_DST     float64\n",
              "distancia_km     float64\n",
              "min_entrega      float64\n",
              "dtype: object"
            ]
          },
          "metadata": {
            "tags": []
          },
          "execution_count": 36
        }
      ]
    },
    {
      "metadata": {
        "id": "szyUhkQHpnY2",
        "colab_type": "text"
      },
      "cell_type": "markdown",
      "source": [
        "### **CORRELACIÓN VARIABLES NUMERICAS**"
      ]
    },
    {
      "metadata": {
        "id": "0XdUv6SGoKzi",
        "colab_type": "code",
        "outputId": "09927c40-cc0a-40ec-d95e-71e97594a588",
        "colab": {
          "base_uri": "https://localhost:8080/",
          "height": 235
        }
      },
      "cell_type": "code",
      "source": [
        "data.corr()"
      ],
      "execution_count": 37,
      "outputs": [
        {
          "output_type": "execute_result",
          "data": {
            "text/html": [
              "<div>\n",
              "<style scoped>\n",
              "    .dataframe tbody tr th:only-of-type {\n",
              "        vertical-align: middle;\n",
              "    }\n",
              "\n",
              "    .dataframe tbody tr th {\n",
              "        vertical-align: top;\n",
              "    }\n",
              "\n",
              "    .dataframe thead th {\n",
              "        text-align: right;\n",
              "    }\n",
              "</style>\n",
              "<table border=\"1\" class=\"dataframe\">\n",
              "  <thead>\n",
              "    <tr style=\"text-align: right;\">\n",
              "      <th></th>\n",
              "      <th>Latitud_OGN</th>\n",
              "      <th>Longitud_OGN</th>\n",
              "      <th>Latitud_DST</th>\n",
              "      <th>Longitud_DST</th>\n",
              "      <th>distancia_km</th>\n",
              "      <th>min_entrega</th>\n",
              "    </tr>\n",
              "  </thead>\n",
              "  <tbody>\n",
              "    <tr>\n",
              "      <th>Latitud_OGN</th>\n",
              "      <td>1.000000</td>\n",
              "      <td>0.530972</td>\n",
              "      <td>0.245582</td>\n",
              "      <td>0.206284</td>\n",
              "      <td>-0.009490</td>\n",
              "      <td>0.002332</td>\n",
              "    </tr>\n",
              "    <tr>\n",
              "      <th>Longitud_OGN</th>\n",
              "      <td>0.530972</td>\n",
              "      <td>1.000000</td>\n",
              "      <td>0.139744</td>\n",
              "      <td>0.359513</td>\n",
              "      <td>0.032074</td>\n",
              "      <td>-0.016287</td>\n",
              "    </tr>\n",
              "    <tr>\n",
              "      <th>Latitud_DST</th>\n",
              "      <td>0.245582</td>\n",
              "      <td>0.139744</td>\n",
              "      <td>1.000000</td>\n",
              "      <td>-0.219567</td>\n",
              "      <td>-0.017160</td>\n",
              "      <td>0.001886</td>\n",
              "    </tr>\n",
              "    <tr>\n",
              "      <th>Longitud_DST</th>\n",
              "      <td>0.206284</td>\n",
              "      <td>0.359513</td>\n",
              "      <td>-0.219567</td>\n",
              "      <td>1.000000</td>\n",
              "      <td>-0.280476</td>\n",
              "      <td>-0.240068</td>\n",
              "    </tr>\n",
              "    <tr>\n",
              "      <th>distancia_km</th>\n",
              "      <td>-0.009490</td>\n",
              "      <td>0.032074</td>\n",
              "      <td>-0.017160</td>\n",
              "      <td>-0.280476</td>\n",
              "      <td>1.000000</td>\n",
              "      <td>0.707996</td>\n",
              "    </tr>\n",
              "    <tr>\n",
              "      <th>min_entrega</th>\n",
              "      <td>0.002332</td>\n",
              "      <td>-0.016287</td>\n",
              "      <td>0.001886</td>\n",
              "      <td>-0.240068</td>\n",
              "      <td>0.707996</td>\n",
              "      <td>1.000000</td>\n",
              "    </tr>\n",
              "  </tbody>\n",
              "</table>\n",
              "</div>"
            ],
            "text/plain": [
              "              Latitud_OGN  Longitud_OGN  Latitud_DST  Longitud_DST  \\\n",
              "Latitud_OGN      1.000000      0.530972     0.245582      0.206284   \n",
              "Longitud_OGN     0.530972      1.000000     0.139744      0.359513   \n",
              "Latitud_DST      0.245582      0.139744     1.000000     -0.219567   \n",
              "Longitud_DST     0.206284      0.359513    -0.219567      1.000000   \n",
              "distancia_km    -0.009490      0.032074    -0.017160     -0.280476   \n",
              "min_entrega      0.002332     -0.016287     0.001886     -0.240068   \n",
              "\n",
              "              distancia_km  min_entrega  \n",
              "Latitud_OGN      -0.009490     0.002332  \n",
              "Longitud_OGN      0.032074    -0.016287  \n",
              "Latitud_DST      -0.017160     0.001886  \n",
              "Longitud_DST     -0.280476    -0.240068  \n",
              "distancia_km      1.000000     0.707996  \n",
              "min_entrega       0.707996     1.000000  "
            ]
          },
          "metadata": {
            "tags": []
          },
          "execution_count": 37
        }
      ]
    },
    {
      "metadata": {
        "id": "IfX-M0y4qmwS",
        "colab_type": "text"
      },
      "cell_type": "markdown",
      "source": [
        "### **GENERACIÓN DE VARIABLES DUMMIES**"
      ]
    },
    {
      "metadata": {
        "id": "DD8Bi7crjKdk",
        "colab_type": "code",
        "outputId": "f7911e0d-9e17-446b-cda1-6b8ab94651f3",
        "colab": {
          "base_uri": "https://localhost:8080/",
          "height": 253
        }
      },
      "cell_type": "code",
      "source": [
        "data_dum = pd.get_dummies(data, drop_first=True)\n",
        "data_dum.head()"
      ],
      "execution_count": 38,
      "outputs": [
        {
          "output_type": "execute_result",
          "data": {
            "text/html": [
              "<div>\n",
              "<style scoped>\n",
              "    .dataframe tbody tr th:only-of-type {\n",
              "        vertical-align: middle;\n",
              "    }\n",
              "\n",
              "    .dataframe tbody tr th {\n",
              "        vertical-align: top;\n",
              "    }\n",
              "\n",
              "    .dataframe thead th {\n",
              "        text-align: right;\n",
              "    }\n",
              "</style>\n",
              "<table border=\"1\" class=\"dataframe\">\n",
              "  <thead>\n",
              "    <tr style=\"text-align: right;\">\n",
              "      <th></th>\n",
              "      <th>Latitud_OGN</th>\n",
              "      <th>Longitud_OGN</th>\n",
              "      <th>Latitud_DST</th>\n",
              "      <th>Longitud_DST</th>\n",
              "      <th>distancia_km</th>\n",
              "      <th>min_entrega</th>\n",
              "      <th>mes_2</th>\n",
              "      <th>mes_3</th>\n",
              "      <th>mes_4</th>\n",
              "      <th>mes_5</th>\n",
              "      <th>...</th>\n",
              "      <th>dia_mes_28</th>\n",
              "      <th>dia_mes_29</th>\n",
              "      <th>dia_mes_30</th>\n",
              "      <th>dia_mes_31</th>\n",
              "      <th>day_jueves</th>\n",
              "      <th>day_lunes</th>\n",
              "      <th>day_martes</th>\n",
              "      <th>day_miercoles</th>\n",
              "      <th>day_sabado</th>\n",
              "      <th>day_viernes</th>\n",
              "    </tr>\n",
              "  </thead>\n",
              "  <tbody>\n",
              "    <tr>\n",
              "      <th>0</th>\n",
              "      <td>4.688093</td>\n",
              "      <td>-74.084569</td>\n",
              "      <td>4.643890</td>\n",
              "      <td>-74.107783</td>\n",
              "      <td>7.487995</td>\n",
              "      <td>63.0</td>\n",
              "      <td>0</td>\n",
              "      <td>0</td>\n",
              "      <td>0</td>\n",
              "      <td>0</td>\n",
              "      <td>...</td>\n",
              "      <td>0</td>\n",
              "      <td>0</td>\n",
              "      <td>0</td>\n",
              "      <td>0</td>\n",
              "      <td>0</td>\n",
              "      <td>0</td>\n",
              "      <td>0</td>\n",
              "      <td>0</td>\n",
              "      <td>0</td>\n",
              "      <td>0</td>\n",
              "    </tr>\n",
              "    <tr>\n",
              "      <th>1</th>\n",
              "      <td>4.656579</td>\n",
              "      <td>-74.112030</td>\n",
              "      <td>4.670556</td>\n",
              "      <td>-74.123332</td>\n",
              "      <td>2.806767</td>\n",
              "      <td>75.0</td>\n",
              "      <td>0</td>\n",
              "      <td>0</td>\n",
              "      <td>0</td>\n",
              "      <td>0</td>\n",
              "      <td>...</td>\n",
              "      <td>0</td>\n",
              "      <td>0</td>\n",
              "      <td>0</td>\n",
              "      <td>0</td>\n",
              "      <td>0</td>\n",
              "      <td>0</td>\n",
              "      <td>0</td>\n",
              "      <td>0</td>\n",
              "      <td>0</td>\n",
              "      <td>0</td>\n",
              "    </tr>\n",
              "    <tr>\n",
              "      <th>2</th>\n",
              "      <td>4.670556</td>\n",
              "      <td>-74.123332</td>\n",
              "      <td>4.673245</td>\n",
              "      <td>-74.118105</td>\n",
              "      <td>0.878274</td>\n",
              "      <td>26.0</td>\n",
              "      <td>0</td>\n",
              "      <td>0</td>\n",
              "      <td>0</td>\n",
              "      <td>0</td>\n",
              "      <td>...</td>\n",
              "      <td>0</td>\n",
              "      <td>0</td>\n",
              "      <td>0</td>\n",
              "      <td>0</td>\n",
              "      <td>0</td>\n",
              "      <td>0</td>\n",
              "      <td>0</td>\n",
              "      <td>0</td>\n",
              "      <td>0</td>\n",
              "      <td>0</td>\n",
              "    </tr>\n",
              "    <tr>\n",
              "      <th>3</th>\n",
              "      <td>4.673245</td>\n",
              "      <td>-74.118105</td>\n",
              "      <td>4.670514</td>\n",
              "      <td>-74.118844</td>\n",
              "      <td>0.385607</td>\n",
              "      <td>46.0</td>\n",
              "      <td>0</td>\n",
              "      <td>0</td>\n",
              "      <td>0</td>\n",
              "      <td>0</td>\n",
              "      <td>...</td>\n",
              "      <td>0</td>\n",
              "      <td>0</td>\n",
              "      <td>0</td>\n",
              "      <td>0</td>\n",
              "      <td>0</td>\n",
              "      <td>0</td>\n",
              "      <td>0</td>\n",
              "      <td>0</td>\n",
              "      <td>0</td>\n",
              "      <td>0</td>\n",
              "    </tr>\n",
              "    <tr>\n",
              "      <th>4</th>\n",
              "      <td>4.670514</td>\n",
              "      <td>-74.118844</td>\n",
              "      <td>4.669219</td>\n",
              "      <td>-74.125305</td>\n",
              "      <td>0.860045</td>\n",
              "      <td>11.0</td>\n",
              "      <td>0</td>\n",
              "      <td>0</td>\n",
              "      <td>0</td>\n",
              "      <td>0</td>\n",
              "      <td>...</td>\n",
              "      <td>0</td>\n",
              "      <td>0</td>\n",
              "      <td>0</td>\n",
              "      <td>0</td>\n",
              "      <td>0</td>\n",
              "      <td>0</td>\n",
              "      <td>0</td>\n",
              "      <td>0</td>\n",
              "      <td>0</td>\n",
              "      <td>0</td>\n",
              "    </tr>\n",
              "  </tbody>\n",
              "</table>\n",
              "<p>5 rows × 53 columns</p>\n",
              "</div>"
            ],
            "text/plain": [
              "   Latitud_OGN  Longitud_OGN  Latitud_DST  Longitud_DST  distancia_km  \\\n",
              "0     4.688093    -74.084569     4.643890    -74.107783      7.487995   \n",
              "1     4.656579    -74.112030     4.670556    -74.123332      2.806767   \n",
              "2     4.670556    -74.123332     4.673245    -74.118105      0.878274   \n",
              "3     4.673245    -74.118105     4.670514    -74.118844      0.385607   \n",
              "4     4.670514    -74.118844     4.669219    -74.125305      0.860045   \n",
              "\n",
              "   min_entrega  mes_2  mes_3  mes_4  mes_5     ...       dia_mes_28  \\\n",
              "0         63.0      0      0      0      0     ...                0   \n",
              "1         75.0      0      0      0      0     ...                0   \n",
              "2         26.0      0      0      0      0     ...                0   \n",
              "3         46.0      0      0      0      0     ...                0   \n",
              "4         11.0      0      0      0      0     ...                0   \n",
              "\n",
              "   dia_mes_29  dia_mes_30  dia_mes_31  day_jueves  day_lunes  day_martes  \\\n",
              "0           0           0           0           0          0           0   \n",
              "1           0           0           0           0          0           0   \n",
              "2           0           0           0           0          0           0   \n",
              "3           0           0           0           0          0           0   \n",
              "4           0           0           0           0          0           0   \n",
              "\n",
              "   day_miercoles  day_sabado  day_viernes  \n",
              "0              0           0            0  \n",
              "1              0           0            0  \n",
              "2              0           0            0  \n",
              "3              0           0            0  \n",
              "4              0           0            0  \n",
              "\n",
              "[5 rows x 53 columns]"
            ]
          },
          "metadata": {
            "tags": []
          },
          "execution_count": 38
        }
      ]
    },
    {
      "metadata": {
        "id": "FBBmkd2vz9wk",
        "colab_type": "text"
      },
      "cell_type": "markdown",
      "source": [
        "### **INDEXACION VARIABLES**"
      ]
    },
    {
      "metadata": {
        "id": "rTVcKjcyjKoP",
        "colab_type": "code",
        "outputId": "f12048d5-7e6e-4184-b096-33b80a06385f",
        "colab": {
          "base_uri": "https://localhost:8080/",
          "height": 221
        }
      },
      "cell_type": "code",
      "source": [
        "data_dum.columns"
      ],
      "execution_count": 39,
      "outputs": [
        {
          "output_type": "execute_result",
          "data": {
            "text/plain": [
              "Index(['Latitud_OGN', 'Longitud_OGN', 'Latitud_DST', 'Longitud_DST',\n",
              "       'distancia_km', 'min_entrega', 'mes_2', 'mes_3', 'mes_4', 'mes_5',\n",
              "       'mes_6', 'mes_7', 'mes_8', 'mes_9', 'mes_10', 'mes_11', 'mes_12',\n",
              "       'dia_mes_2', 'dia_mes_3', 'dia_mes_4', 'dia_mes_5', 'dia_mes_6',\n",
              "       'dia_mes_7', 'dia_mes_8', 'dia_mes_9', 'dia_mes_10', 'dia_mes_11',\n",
              "       'dia_mes_12', 'dia_mes_13', 'dia_mes_14', 'dia_mes_15', 'dia_mes_16',\n",
              "       'dia_mes_17', 'dia_mes_18', 'dia_mes_19', 'dia_mes_20', 'dia_mes_21',\n",
              "       'dia_mes_22', 'dia_mes_23', 'dia_mes_24', 'dia_mes_25', 'dia_mes_26',\n",
              "       'dia_mes_27', 'dia_mes_28', 'dia_mes_29', 'dia_mes_30', 'dia_mes_31',\n",
              "       'day_jueves', 'day_lunes', 'day_martes', 'day_miercoles', 'day_sabado',\n",
              "       'day_viernes'],\n",
              "      dtype='object')"
            ]
          },
          "metadata": {
            "tags": []
          },
          "execution_count": 39
        }
      ]
    },
    {
      "metadata": {
        "id": "P5XbglO01Fcr",
        "colab_type": "text"
      },
      "cell_type": "markdown",
      "source": [
        "### ** MATRIZ DE DISEÑO X** FULL"
      ]
    },
    {
      "metadata": {
        "id": "DebmdL6kjKw7",
        "colab_type": "code",
        "outputId": "ca823592-2545-4fe2-ea0f-165f1e96091e",
        "colab": {
          "base_uri": "https://localhost:8080/",
          "height": 253
        }
      },
      "cell_type": "code",
      "source": [
        "features=['Latitud_OGN', 'Longitud_OGN', 'Latitud_DST', 'Longitud_DST',\n",
        "       'distancia_km', 'mes_2', 'mes_3', 'mes_4', 'mes_5',\n",
        "       'mes_6', 'mes_7', 'mes_8', 'mes_9', 'mes_10', 'mes_11', 'mes_12',\n",
        "       'dia_mes_2', 'dia_mes_3', 'dia_mes_4', 'dia_mes_5', 'dia_mes_6',\n",
        "       'dia_mes_7', 'dia_mes_8', 'dia_mes_9', 'dia_mes_10', 'dia_mes_11',\n",
        "       'dia_mes_12', 'dia_mes_13', 'dia_mes_14', 'dia_mes_15', 'dia_mes_16',\n",
        "       'dia_mes_17', 'dia_mes_18', 'dia_mes_19', 'dia_mes_20', 'dia_mes_21',\n",
        "       'dia_mes_22', 'dia_mes_23', 'dia_mes_24', 'dia_mes_25', 'dia_mes_26',\n",
        "       'dia_mes_27', 'dia_mes_28', 'dia_mes_29', 'dia_mes_30', 'dia_mes_31',\n",
        "       'day_jueves', 'day_lunes', 'day_martes', 'day_miercoles', 'day_sabado',\n",
        "       'day_viernes']\n",
        "\n",
        "X = data_dum[features]\n",
        "X.head()"
      ],
      "execution_count": 50,
      "outputs": [
        {
          "output_type": "execute_result",
          "data": {
            "text/html": [
              "<div>\n",
              "<style scoped>\n",
              "    .dataframe tbody tr th:only-of-type {\n",
              "        vertical-align: middle;\n",
              "    }\n",
              "\n",
              "    .dataframe tbody tr th {\n",
              "        vertical-align: top;\n",
              "    }\n",
              "\n",
              "    .dataframe thead th {\n",
              "        text-align: right;\n",
              "    }\n",
              "</style>\n",
              "<table border=\"1\" class=\"dataframe\">\n",
              "  <thead>\n",
              "    <tr style=\"text-align: right;\">\n",
              "      <th></th>\n",
              "      <th>Latitud_OGN</th>\n",
              "      <th>Longitud_OGN</th>\n",
              "      <th>Latitud_DST</th>\n",
              "      <th>Longitud_DST</th>\n",
              "      <th>distancia_km</th>\n",
              "      <th>mes_2</th>\n",
              "      <th>mes_3</th>\n",
              "      <th>mes_4</th>\n",
              "      <th>mes_5</th>\n",
              "      <th>mes_6</th>\n",
              "      <th>...</th>\n",
              "      <th>dia_mes_28</th>\n",
              "      <th>dia_mes_29</th>\n",
              "      <th>dia_mes_30</th>\n",
              "      <th>dia_mes_31</th>\n",
              "      <th>day_jueves</th>\n",
              "      <th>day_lunes</th>\n",
              "      <th>day_martes</th>\n",
              "      <th>day_miercoles</th>\n",
              "      <th>day_sabado</th>\n",
              "      <th>day_viernes</th>\n",
              "    </tr>\n",
              "  </thead>\n",
              "  <tbody>\n",
              "    <tr>\n",
              "      <th>0</th>\n",
              "      <td>4.688093</td>\n",
              "      <td>-74.084569</td>\n",
              "      <td>4.643890</td>\n",
              "      <td>-74.107783</td>\n",
              "      <td>7.487995</td>\n",
              "      <td>0</td>\n",
              "      <td>0</td>\n",
              "      <td>0</td>\n",
              "      <td>0</td>\n",
              "      <td>0</td>\n",
              "      <td>...</td>\n",
              "      <td>0</td>\n",
              "      <td>0</td>\n",
              "      <td>0</td>\n",
              "      <td>0</td>\n",
              "      <td>0</td>\n",
              "      <td>0</td>\n",
              "      <td>0</td>\n",
              "      <td>0</td>\n",
              "      <td>0</td>\n",
              "      <td>0</td>\n",
              "    </tr>\n",
              "    <tr>\n",
              "      <th>1</th>\n",
              "      <td>4.656579</td>\n",
              "      <td>-74.112030</td>\n",
              "      <td>4.670556</td>\n",
              "      <td>-74.123332</td>\n",
              "      <td>2.806767</td>\n",
              "      <td>0</td>\n",
              "      <td>0</td>\n",
              "      <td>0</td>\n",
              "      <td>0</td>\n",
              "      <td>0</td>\n",
              "      <td>...</td>\n",
              "      <td>0</td>\n",
              "      <td>0</td>\n",
              "      <td>0</td>\n",
              "      <td>0</td>\n",
              "      <td>0</td>\n",
              "      <td>0</td>\n",
              "      <td>0</td>\n",
              "      <td>0</td>\n",
              "      <td>0</td>\n",
              "      <td>0</td>\n",
              "    </tr>\n",
              "    <tr>\n",
              "      <th>2</th>\n",
              "      <td>4.670556</td>\n",
              "      <td>-74.123332</td>\n",
              "      <td>4.673245</td>\n",
              "      <td>-74.118105</td>\n",
              "      <td>0.878274</td>\n",
              "      <td>0</td>\n",
              "      <td>0</td>\n",
              "      <td>0</td>\n",
              "      <td>0</td>\n",
              "      <td>0</td>\n",
              "      <td>...</td>\n",
              "      <td>0</td>\n",
              "      <td>0</td>\n",
              "      <td>0</td>\n",
              "      <td>0</td>\n",
              "      <td>0</td>\n",
              "      <td>0</td>\n",
              "      <td>0</td>\n",
              "      <td>0</td>\n",
              "      <td>0</td>\n",
              "      <td>0</td>\n",
              "    </tr>\n",
              "    <tr>\n",
              "      <th>3</th>\n",
              "      <td>4.673245</td>\n",
              "      <td>-74.118105</td>\n",
              "      <td>4.670514</td>\n",
              "      <td>-74.118844</td>\n",
              "      <td>0.385607</td>\n",
              "      <td>0</td>\n",
              "      <td>0</td>\n",
              "      <td>0</td>\n",
              "      <td>0</td>\n",
              "      <td>0</td>\n",
              "      <td>...</td>\n",
              "      <td>0</td>\n",
              "      <td>0</td>\n",
              "      <td>0</td>\n",
              "      <td>0</td>\n",
              "      <td>0</td>\n",
              "      <td>0</td>\n",
              "      <td>0</td>\n",
              "      <td>0</td>\n",
              "      <td>0</td>\n",
              "      <td>0</td>\n",
              "    </tr>\n",
              "    <tr>\n",
              "      <th>4</th>\n",
              "      <td>4.670514</td>\n",
              "      <td>-74.118844</td>\n",
              "      <td>4.669219</td>\n",
              "      <td>-74.125305</td>\n",
              "      <td>0.860045</td>\n",
              "      <td>0</td>\n",
              "      <td>0</td>\n",
              "      <td>0</td>\n",
              "      <td>0</td>\n",
              "      <td>0</td>\n",
              "      <td>...</td>\n",
              "      <td>0</td>\n",
              "      <td>0</td>\n",
              "      <td>0</td>\n",
              "      <td>0</td>\n",
              "      <td>0</td>\n",
              "      <td>0</td>\n",
              "      <td>0</td>\n",
              "      <td>0</td>\n",
              "      <td>0</td>\n",
              "      <td>0</td>\n",
              "    </tr>\n",
              "  </tbody>\n",
              "</table>\n",
              "<p>5 rows × 52 columns</p>\n",
              "</div>"
            ],
            "text/plain": [
              "   Latitud_OGN  Longitud_OGN  Latitud_DST  Longitud_DST  distancia_km  mes_2  \\\n",
              "0     4.688093    -74.084569     4.643890    -74.107783      7.487995      0   \n",
              "1     4.656579    -74.112030     4.670556    -74.123332      2.806767      0   \n",
              "2     4.670556    -74.123332     4.673245    -74.118105      0.878274      0   \n",
              "3     4.673245    -74.118105     4.670514    -74.118844      0.385607      0   \n",
              "4     4.670514    -74.118844     4.669219    -74.125305      0.860045      0   \n",
              "\n",
              "   mes_3  mes_4  mes_5  mes_6     ...       dia_mes_28  dia_mes_29  \\\n",
              "0      0      0      0      0     ...                0           0   \n",
              "1      0      0      0      0     ...                0           0   \n",
              "2      0      0      0      0     ...                0           0   \n",
              "3      0      0      0      0     ...                0           0   \n",
              "4      0      0      0      0     ...                0           0   \n",
              "\n",
              "   dia_mes_30  dia_mes_31  day_jueves  day_lunes  day_martes  day_miercoles  \\\n",
              "0           0           0           0          0           0              0   \n",
              "1           0           0           0          0           0              0   \n",
              "2           0           0           0          0           0              0   \n",
              "3           0           0           0          0           0              0   \n",
              "4           0           0           0          0           0              0   \n",
              "\n",
              "   day_sabado  day_viernes  \n",
              "0           0            0  \n",
              "1           0            0  \n",
              "2           0            0  \n",
              "3           0            0  \n",
              "4           0            0  \n",
              "\n",
              "[5 rows x 52 columns]"
            ]
          },
          "metadata": {
            "tags": []
          },
          "execution_count": 50
        }
      ]
    },
    {
      "metadata": {
        "id": "l064Sgqj1bF_",
        "colab_type": "text"
      },
      "cell_type": "markdown",
      "source": [
        "### ** MATRIZ DE DISEÑO X** REDUCIDA"
      ]
    },
    {
      "metadata": {
        "id": "qycitrlzjK2b",
        "colab_type": "code",
        "outputId": "3029d08c-1c1d-4dfa-c270-cff42710721a",
        "colab": {
          "base_uri": "https://localhost:8080/",
          "height": 204
        }
      },
      "cell_type": "code",
      "source": [
        "features=['Latitud_OGN', 'Longitud_OGN', 'Latitud_DST', 'Longitud_DST',\n",
        "       'distancia_km']\n",
        "\n",
        "X = data_dum[features]\n",
        "X.head()\n"
      ],
      "execution_count": 43,
      "outputs": [
        {
          "output_type": "execute_result",
          "data": {
            "text/html": [
              "<div>\n",
              "<style scoped>\n",
              "    .dataframe tbody tr th:only-of-type {\n",
              "        vertical-align: middle;\n",
              "    }\n",
              "\n",
              "    .dataframe tbody tr th {\n",
              "        vertical-align: top;\n",
              "    }\n",
              "\n",
              "    .dataframe thead th {\n",
              "        text-align: right;\n",
              "    }\n",
              "</style>\n",
              "<table border=\"1\" class=\"dataframe\">\n",
              "  <thead>\n",
              "    <tr style=\"text-align: right;\">\n",
              "      <th></th>\n",
              "      <th>Latitud_OGN</th>\n",
              "      <th>Longitud_OGN</th>\n",
              "      <th>Latitud_DST</th>\n",
              "      <th>Longitud_DST</th>\n",
              "      <th>distancia_km</th>\n",
              "    </tr>\n",
              "  </thead>\n",
              "  <tbody>\n",
              "    <tr>\n",
              "      <th>0</th>\n",
              "      <td>4.688093</td>\n",
              "      <td>-74.084569</td>\n",
              "      <td>4.643890</td>\n",
              "      <td>-74.107783</td>\n",
              "      <td>7.487995</td>\n",
              "    </tr>\n",
              "    <tr>\n",
              "      <th>1</th>\n",
              "      <td>4.656579</td>\n",
              "      <td>-74.112030</td>\n",
              "      <td>4.670556</td>\n",
              "      <td>-74.123332</td>\n",
              "      <td>2.806767</td>\n",
              "    </tr>\n",
              "    <tr>\n",
              "      <th>2</th>\n",
              "      <td>4.670556</td>\n",
              "      <td>-74.123332</td>\n",
              "      <td>4.673245</td>\n",
              "      <td>-74.118105</td>\n",
              "      <td>0.878274</td>\n",
              "    </tr>\n",
              "    <tr>\n",
              "      <th>3</th>\n",
              "      <td>4.673245</td>\n",
              "      <td>-74.118105</td>\n",
              "      <td>4.670514</td>\n",
              "      <td>-74.118844</td>\n",
              "      <td>0.385607</td>\n",
              "    </tr>\n",
              "    <tr>\n",
              "      <th>4</th>\n",
              "      <td>4.670514</td>\n",
              "      <td>-74.118844</td>\n",
              "      <td>4.669219</td>\n",
              "      <td>-74.125305</td>\n",
              "      <td>0.860045</td>\n",
              "    </tr>\n",
              "  </tbody>\n",
              "</table>\n",
              "</div>"
            ],
            "text/plain": [
              "   Latitud_OGN  Longitud_OGN  Latitud_DST  Longitud_DST  distancia_km\n",
              "0     4.688093    -74.084569     4.643890    -74.107783      7.487995\n",
              "1     4.656579    -74.112030     4.670556    -74.123332      2.806767\n",
              "2     4.670556    -74.123332     4.673245    -74.118105      0.878274\n",
              "3     4.673245    -74.118105     4.670514    -74.118844      0.385607\n",
              "4     4.670514    -74.118844     4.669219    -74.125305      0.860045"
            ]
          },
          "metadata": {
            "tags": []
          },
          "execution_count": 43
        }
      ]
    },
    {
      "metadata": {
        "id": "Hv8AwjB6kIFY",
        "colab_type": "text"
      },
      "cell_type": "markdown",
      "source": [
        "### **VECTOR TARGET**"
      ]
    },
    {
      "metadata": {
        "id": "YRpEodx6jK5b",
        "colab_type": "code",
        "outputId": "5f074ba8-961f-4a19-bc72-c63a77f7226a",
        "colab": {
          "base_uri": "https://localhost:8080/",
          "height": 119
        }
      },
      "cell_type": "code",
      "source": [
        "\n",
        "Y= data[\"min_entrega\"]\n",
        "Y.head()"
      ],
      "execution_count": 51,
      "outputs": [
        {
          "output_type": "execute_result",
          "data": {
            "text/plain": [
              "0    63.0\n",
              "1    75.0\n",
              "2    26.0\n",
              "3    46.0\n",
              "4    11.0\n",
              "Name: min_entrega, dtype: float64"
            ]
          },
          "metadata": {
            "tags": []
          },
          "execution_count": 51
        }
      ]
    },
    {
      "metadata": {
        "id": "dvElXseZ5Upi",
        "colab_type": "text"
      },
      "cell_type": "markdown",
      "source": [
        "### **PARTICIÓN DEL SET DE DATOS EN ENTRENAMIENTO Y PRUEBA**"
      ]
    },
    {
      "metadata": {
        "id": "EKGrRn0QjK85",
        "colab_type": "code",
        "colab": {}
      },
      "cell_type": "code",
      "source": [
        "from sklearn.model_selection import train_test_split\n",
        "x_train, x_test, y_train, y_test =train_test_split(X,Y,test_size=0.2,random_state=31415)"
      ],
      "execution_count": 0,
      "outputs": []
    },
    {
      "metadata": {
        "id": "jbgLGAgt6MZB",
        "colab_type": "text"
      },
      "cell_type": "markdown",
      "source": [
        "### **DIMENSIONES DE LOS SUBCONJUNTOS  DE DATOS**"
      ]
    },
    {
      "metadata": {
        "id": "Cf-OyAGSjLC9",
        "colab_type": "code",
        "outputId": "91b49bd1-504c-4528-ea2f-fc3c6a7d9577",
        "colab": {
          "base_uri": "https://localhost:8080/",
          "height": 34
        }
      },
      "cell_type": "code",
      "source": [
        "print(X.shape, x_train.shape, x_test.shape,y_train.shape,y_test.shape)"
      ],
      "execution_count": 53,
      "outputs": [
        {
          "output_type": "stream",
          "text": [
            "(616451, 52) (493160, 52) (123291, 52) (493160,) (123291,)\n"
          ],
          "name": "stdout"
        }
      ]
    },
    {
      "metadata": {
        "id": "Ziu5TZx97HKC",
        "colab_type": "text"
      },
      "cell_type": "markdown",
      "source": [
        ""
      ]
    },
    {
      "metadata": {
        "id": "uCUgtj4W7-wh",
        "colab_type": "text"
      },
      "cell_type": "markdown",
      "source": [
        "### **ESCALAMIENTO DE LAS VARIABLES**"
      ]
    },
    {
      "metadata": {
        "id": "fOXmLgU4jLJT",
        "colab_type": "code",
        "colab": {
          "base_uri": "https://localhost:8080/",
          "height": 105
        },
        "outputId": "acf4953b-2799-40f6-b565-e3a6f9cbe5f3"
      },
      "cell_type": "code",
      "source": [
        "from sklearn.preprocessing import MinMaxScaler\n",
        "\n",
        "scaling    = MinMaxScaler(feature_range=(-1,1)).fit(x_train[0:4])\n",
        "\n",
        "x_train.SM1 = scaling.transform(x_train)\n",
        "x_test.SM1  = scaling.transform(x_test)"
      ],
      "execution_count": 54,
      "outputs": [
        {
          "output_type": "stream",
          "text": [
            "/usr/local/lib/python3.6/dist-packages/ipykernel_launcher.py:5: UserWarning: Pandas doesn't allow columns to be created via a new attribute name - see https://pandas.pydata.org/pandas-docs/stable/indexing.html#attribute-access\n",
            "  \"\"\"\n",
            "/usr/local/lib/python3.6/dist-packages/ipykernel_launcher.py:6: UserWarning: Pandas doesn't allow columns to be created via a new attribute name - see https://pandas.pydata.org/pandas-docs/stable/indexing.html#attribute-access\n",
            "  \n"
          ],
          "name": "stderr"
        }
      ]
    },
    {
      "metadata": {
        "id": "vSpRcAIECSnQ",
        "colab_type": "text"
      },
      "cell_type": "markdown",
      "source": [
        "### **CONJUNTO DE DATOS DE ENTRENAMIENTO Y PRUEBA ESCALADO POR EL METODO 1**"
      ]
    },
    {
      "metadata": {
        "id": "HaDv6FfNAXT1",
        "colab_type": "code",
        "outputId": "72107cf6-a99a-4766-c474-a7e32908a5b9",
        "colab": {
          "base_uri": "https://localhost:8080/",
          "height": 233
        }
      },
      "cell_type": "code",
      "source": [
        "pd.DataFrame(x_train.SM1).head()"
      ],
      "execution_count": 55,
      "outputs": [
        {
          "output_type": "execute_result",
          "data": {
            "text/html": [
              "<div>\n",
              "<style scoped>\n",
              "    .dataframe tbody tr th:only-of-type {\n",
              "        vertical-align: middle;\n",
              "    }\n",
              "\n",
              "    .dataframe tbody tr th {\n",
              "        vertical-align: top;\n",
              "    }\n",
              "\n",
              "    .dataframe thead th {\n",
              "        text-align: right;\n",
              "    }\n",
              "</style>\n",
              "<table border=\"1\" class=\"dataframe\">\n",
              "  <thead>\n",
              "    <tr style=\"text-align: right;\">\n",
              "      <th></th>\n",
              "      <th>0</th>\n",
              "      <th>1</th>\n",
              "      <th>2</th>\n",
              "      <th>3</th>\n",
              "      <th>4</th>\n",
              "      <th>5</th>\n",
              "      <th>6</th>\n",
              "      <th>7</th>\n",
              "      <th>8</th>\n",
              "      <th>9</th>\n",
              "      <th>...</th>\n",
              "      <th>42</th>\n",
              "      <th>43</th>\n",
              "      <th>44</th>\n",
              "      <th>45</th>\n",
              "      <th>46</th>\n",
              "      <th>47</th>\n",
              "      <th>48</th>\n",
              "      <th>49</th>\n",
              "      <th>50</th>\n",
              "      <th>51</th>\n",
              "    </tr>\n",
              "  </thead>\n",
              "  <tbody>\n",
              "    <tr>\n",
              "      <th>0</th>\n",
              "      <td>-0.729671</td>\n",
              "      <td>-0.850110</td>\n",
              "      <td>-0.598484</td>\n",
              "      <td>-1.000000</td>\n",
              "      <td>-0.941181</td>\n",
              "      <td>-1.0</td>\n",
              "      <td>-1.0</td>\n",
              "      <td>-1.0</td>\n",
              "      <td>-1.0</td>\n",
              "      <td>-1.0</td>\n",
              "      <td>...</td>\n",
              "      <td>-1.0</td>\n",
              "      <td>-1.0</td>\n",
              "      <td>1.0</td>\n",
              "      <td>-1.0</td>\n",
              "      <td>-1.0</td>\n",
              "      <td>1.0</td>\n",
              "      <td>-1.0</td>\n",
              "      <td>-1.0</td>\n",
              "      <td>-1.0</td>\n",
              "      <td>-1.0</td>\n",
              "    </tr>\n",
              "    <tr>\n",
              "      <th>1</th>\n",
              "      <td>1.000000</td>\n",
              "      <td>1.000000</td>\n",
              "      <td>1.000000</td>\n",
              "      <td>0.554211</td>\n",
              "      <td>-1.000000</td>\n",
              "      <td>-1.0</td>\n",
              "      <td>-1.0</td>\n",
              "      <td>-1.0</td>\n",
              "      <td>-1.0</td>\n",
              "      <td>-1.0</td>\n",
              "      <td>...</td>\n",
              "      <td>-1.0</td>\n",
              "      <td>-1.0</td>\n",
              "      <td>-1.0</td>\n",
              "      <td>-1.0</td>\n",
              "      <td>-1.0</td>\n",
              "      <td>-1.0</td>\n",
              "      <td>-1.0</td>\n",
              "      <td>-1.0</td>\n",
              "      <td>-1.0</td>\n",
              "      <td>-1.0</td>\n",
              "    </tr>\n",
              "    <tr>\n",
              "      <th>2</th>\n",
              "      <td>-1.000000</td>\n",
              "      <td>-1.000000</td>\n",
              "      <td>-1.000000</td>\n",
              "      <td>-0.614274</td>\n",
              "      <td>0.255951</td>\n",
              "      <td>-1.0</td>\n",
              "      <td>-1.0</td>\n",
              "      <td>-1.0</td>\n",
              "      <td>-1.0</td>\n",
              "      <td>1.0</td>\n",
              "      <td>...</td>\n",
              "      <td>-1.0</td>\n",
              "      <td>-1.0</td>\n",
              "      <td>-1.0</td>\n",
              "      <td>-1.0</td>\n",
              "      <td>-1.0</td>\n",
              "      <td>-1.0</td>\n",
              "      <td>1.0</td>\n",
              "      <td>-1.0</td>\n",
              "      <td>-1.0</td>\n",
              "      <td>-1.0</td>\n",
              "    </tr>\n",
              "    <tr>\n",
              "      <th>3</th>\n",
              "      <td>-0.459971</td>\n",
              "      <td>0.926981</td>\n",
              "      <td>0.557471</td>\n",
              "      <td>1.000000</td>\n",
              "      <td>1.000000</td>\n",
              "      <td>-1.0</td>\n",
              "      <td>-1.0</td>\n",
              "      <td>-1.0</td>\n",
              "      <td>-1.0</td>\n",
              "      <td>1.0</td>\n",
              "      <td>...</td>\n",
              "      <td>-1.0</td>\n",
              "      <td>-1.0</td>\n",
              "      <td>-1.0</td>\n",
              "      <td>-1.0</td>\n",
              "      <td>-1.0</td>\n",
              "      <td>-1.0</td>\n",
              "      <td>-1.0</td>\n",
              "      <td>1.0</td>\n",
              "      <td>-1.0</td>\n",
              "      <td>-1.0</td>\n",
              "    </tr>\n",
              "    <tr>\n",
              "      <th>4</th>\n",
              "      <td>-1.367760</td>\n",
              "      <td>0.641186</td>\n",
              "      <td>-0.461808</td>\n",
              "      <td>0.265224</td>\n",
              "      <td>0.361907</td>\n",
              "      <td>-1.0</td>\n",
              "      <td>-1.0</td>\n",
              "      <td>-1.0</td>\n",
              "      <td>-1.0</td>\n",
              "      <td>1.0</td>\n",
              "      <td>...</td>\n",
              "      <td>-1.0</td>\n",
              "      <td>-1.0</td>\n",
              "      <td>-1.0</td>\n",
              "      <td>-1.0</td>\n",
              "      <td>-1.0</td>\n",
              "      <td>-1.0</td>\n",
              "      <td>1.0</td>\n",
              "      <td>-1.0</td>\n",
              "      <td>-1.0</td>\n",
              "      <td>-1.0</td>\n",
              "    </tr>\n",
              "  </tbody>\n",
              "</table>\n",
              "<p>5 rows × 52 columns</p>\n",
              "</div>"
            ],
            "text/plain": [
              "         0         1         2         3         4    5    6    7    8    9   \\\n",
              "0 -0.729671 -0.850110 -0.598484 -1.000000 -0.941181 -1.0 -1.0 -1.0 -1.0 -1.0   \n",
              "1  1.000000  1.000000  1.000000  0.554211 -1.000000 -1.0 -1.0 -1.0 -1.0 -1.0   \n",
              "2 -1.000000 -1.000000 -1.000000 -0.614274  0.255951 -1.0 -1.0 -1.0 -1.0  1.0   \n",
              "3 -0.459971  0.926981  0.557471  1.000000  1.000000 -1.0 -1.0 -1.0 -1.0  1.0   \n",
              "4 -1.367760  0.641186 -0.461808  0.265224  0.361907 -1.0 -1.0 -1.0 -1.0  1.0   \n",
              "\n",
              "  ...    42   43   44   45   46   47   48   49   50   51  \n",
              "0 ...  -1.0 -1.0  1.0 -1.0 -1.0  1.0 -1.0 -1.0 -1.0 -1.0  \n",
              "1 ...  -1.0 -1.0 -1.0 -1.0 -1.0 -1.0 -1.0 -1.0 -1.0 -1.0  \n",
              "2 ...  -1.0 -1.0 -1.0 -1.0 -1.0 -1.0  1.0 -1.0 -1.0 -1.0  \n",
              "3 ...  -1.0 -1.0 -1.0 -1.0 -1.0 -1.0 -1.0  1.0 -1.0 -1.0  \n",
              "4 ...  -1.0 -1.0 -1.0 -1.0 -1.0 -1.0  1.0 -1.0 -1.0 -1.0  \n",
              "\n",
              "[5 rows x 52 columns]"
            ]
          },
          "metadata": {
            "tags": []
          },
          "execution_count": 55
        }
      ]
    },
    {
      "metadata": {
        "id": "72CvxJgNBbBq",
        "colab_type": "code",
        "outputId": "b4c13536-b091-4e95-eb90-171265d47ce3",
        "colab": {
          "base_uri": "https://localhost:8080/",
          "height": 233
        }
      },
      "cell_type": "code",
      "source": [
        "pd.DataFrame(x_test.SM1).head()"
      ],
      "execution_count": 58,
      "outputs": [
        {
          "output_type": "execute_result",
          "data": {
            "text/html": [
              "<div>\n",
              "<style scoped>\n",
              "    .dataframe tbody tr th:only-of-type {\n",
              "        vertical-align: middle;\n",
              "    }\n",
              "\n",
              "    .dataframe tbody tr th {\n",
              "        vertical-align: top;\n",
              "    }\n",
              "\n",
              "    .dataframe thead th {\n",
              "        text-align: right;\n",
              "    }\n",
              "</style>\n",
              "<table border=\"1\" class=\"dataframe\">\n",
              "  <thead>\n",
              "    <tr style=\"text-align: right;\">\n",
              "      <th></th>\n",
              "      <th>0</th>\n",
              "      <th>1</th>\n",
              "      <th>2</th>\n",
              "      <th>3</th>\n",
              "      <th>4</th>\n",
              "      <th>5</th>\n",
              "      <th>6</th>\n",
              "      <th>7</th>\n",
              "      <th>8</th>\n",
              "      <th>9</th>\n",
              "      <th>...</th>\n",
              "      <th>42</th>\n",
              "      <th>43</th>\n",
              "      <th>44</th>\n",
              "      <th>45</th>\n",
              "      <th>46</th>\n",
              "      <th>47</th>\n",
              "      <th>48</th>\n",
              "      <th>49</th>\n",
              "      <th>50</th>\n",
              "      <th>51</th>\n",
              "    </tr>\n",
              "  </thead>\n",
              "  <tbody>\n",
              "    <tr>\n",
              "      <th>0</th>\n",
              "      <td>-1.230228</td>\n",
              "      <td>-1.488115</td>\n",
              "      <td>-1.102188</td>\n",
              "      <td>-1.628031</td>\n",
              "      <td>-1.072550</td>\n",
              "      <td>-1.0</td>\n",
              "      <td>-1.0</td>\n",
              "      <td>-1.0</td>\n",
              "      <td>-1.0</td>\n",
              "      <td>1.0</td>\n",
              "      <td>...</td>\n",
              "      <td>-1.0</td>\n",
              "      <td>1.0</td>\n",
              "      <td>-1.0</td>\n",
              "      <td>-1.0</td>\n",
              "      <td>-1.0</td>\n",
              "      <td>-1.0</td>\n",
              "      <td>-1.0</td>\n",
              "      <td>-1.0</td>\n",
              "      <td>-1.0</td>\n",
              "      <td>1.0</td>\n",
              "    </tr>\n",
              "    <tr>\n",
              "      <th>1</th>\n",
              "      <td>-2.176397</td>\n",
              "      <td>-1.076429</td>\n",
              "      <td>-1.897342</td>\n",
              "      <td>-1.059459</td>\n",
              "      <td>-0.670662</td>\n",
              "      <td>-1.0</td>\n",
              "      <td>-1.0</td>\n",
              "      <td>-1.0</td>\n",
              "      <td>-1.0</td>\n",
              "      <td>-1.0</td>\n",
              "      <td>...</td>\n",
              "      <td>-1.0</td>\n",
              "      <td>-1.0</td>\n",
              "      <td>-1.0</td>\n",
              "      <td>-1.0</td>\n",
              "      <td>1.0</td>\n",
              "      <td>-1.0</td>\n",
              "      <td>-1.0</td>\n",
              "      <td>-1.0</td>\n",
              "      <td>-1.0</td>\n",
              "      <td>-1.0</td>\n",
              "    </tr>\n",
              "    <tr>\n",
              "      <th>2</th>\n",
              "      <td>-1.561700</td>\n",
              "      <td>0.639945</td>\n",
              "      <td>-0.991066</td>\n",
              "      <td>-0.631724</td>\n",
              "      <td>0.670358</td>\n",
              "      <td>-1.0</td>\n",
              "      <td>-1.0</td>\n",
              "      <td>-1.0</td>\n",
              "      <td>-1.0</td>\n",
              "      <td>1.0</td>\n",
              "      <td>...</td>\n",
              "      <td>-1.0</td>\n",
              "      <td>-1.0</td>\n",
              "      <td>-1.0</td>\n",
              "      <td>-1.0</td>\n",
              "      <td>-1.0</td>\n",
              "      <td>-1.0</td>\n",
              "      <td>1.0</td>\n",
              "      <td>-1.0</td>\n",
              "      <td>-1.0</td>\n",
              "      <td>-1.0</td>\n",
              "    </tr>\n",
              "    <tr>\n",
              "      <th>3</th>\n",
              "      <td>-0.990597</td>\n",
              "      <td>0.776379</td>\n",
              "      <td>0.341017</td>\n",
              "      <td>0.355184</td>\n",
              "      <td>1.178949</td>\n",
              "      <td>-1.0</td>\n",
              "      <td>-1.0</td>\n",
              "      <td>-1.0</td>\n",
              "      <td>-1.0</td>\n",
              "      <td>1.0</td>\n",
              "      <td>...</td>\n",
              "      <td>-1.0</td>\n",
              "      <td>-1.0</td>\n",
              "      <td>-1.0</td>\n",
              "      <td>-1.0</td>\n",
              "      <td>1.0</td>\n",
              "      <td>-1.0</td>\n",
              "      <td>-1.0</td>\n",
              "      <td>-1.0</td>\n",
              "      <td>-1.0</td>\n",
              "      <td>-1.0</td>\n",
              "    </tr>\n",
              "    <tr>\n",
              "      <th>4</th>\n",
              "      <td>1.106674</td>\n",
              "      <td>0.929278</td>\n",
              "      <td>1.141184</td>\n",
              "      <td>0.228280</td>\n",
              "      <td>-0.566560</td>\n",
              "      <td>-1.0</td>\n",
              "      <td>-1.0</td>\n",
              "      <td>-1.0</td>\n",
              "      <td>-1.0</td>\n",
              "      <td>-1.0</td>\n",
              "      <td>...</td>\n",
              "      <td>-1.0</td>\n",
              "      <td>-1.0</td>\n",
              "      <td>-1.0</td>\n",
              "      <td>-1.0</td>\n",
              "      <td>-1.0</td>\n",
              "      <td>-1.0</td>\n",
              "      <td>-1.0</td>\n",
              "      <td>1.0</td>\n",
              "      <td>-1.0</td>\n",
              "      <td>-1.0</td>\n",
              "    </tr>\n",
              "  </tbody>\n",
              "</table>\n",
              "<p>5 rows × 52 columns</p>\n",
              "</div>"
            ],
            "text/plain": [
              "         0         1         2         3         4    5    6    7    8    9   \\\n",
              "0 -1.230228 -1.488115 -1.102188 -1.628031 -1.072550 -1.0 -1.0 -1.0 -1.0  1.0   \n",
              "1 -2.176397 -1.076429 -1.897342 -1.059459 -0.670662 -1.0 -1.0 -1.0 -1.0 -1.0   \n",
              "2 -1.561700  0.639945 -0.991066 -0.631724  0.670358 -1.0 -1.0 -1.0 -1.0  1.0   \n",
              "3 -0.990597  0.776379  0.341017  0.355184  1.178949 -1.0 -1.0 -1.0 -1.0  1.0   \n",
              "4  1.106674  0.929278  1.141184  0.228280 -0.566560 -1.0 -1.0 -1.0 -1.0 -1.0   \n",
              "\n",
              "  ...    42   43   44   45   46   47   48   49   50   51  \n",
              "0 ...  -1.0  1.0 -1.0 -1.0 -1.0 -1.0 -1.0 -1.0 -1.0  1.0  \n",
              "1 ...  -1.0 -1.0 -1.0 -1.0  1.0 -1.0 -1.0 -1.0 -1.0 -1.0  \n",
              "2 ...  -1.0 -1.0 -1.0 -1.0 -1.0 -1.0  1.0 -1.0 -1.0 -1.0  \n",
              "3 ...  -1.0 -1.0 -1.0 -1.0  1.0 -1.0 -1.0 -1.0 -1.0 -1.0  \n",
              "4 ...  -1.0 -1.0 -1.0 -1.0 -1.0 -1.0 -1.0  1.0 -1.0 -1.0  \n",
              "\n",
              "[5 rows x 52 columns]"
            ]
          },
          "metadata": {
            "tags": []
          },
          "execution_count": 58
        }
      ]
    },
    {
      "metadata": {
        "id": "yYiPXhqdDeM2",
        "colab_type": "text"
      },
      "cell_type": "markdown",
      "source": [
        "### **CONJUNTO DE DATOS DE ENTRENAMIENTO Y PRUEBA ESCALADO POR EL METODO 2**"
      ]
    },
    {
      "metadata": {
        "id": "xJpdK8ipjLHT",
        "colab_type": "code",
        "colab": {}
      },
      "cell_type": "code",
      "source": [
        "from sklearn.preprocessing import StandardScaler\n",
        "scaler = StandardScaler()\n",
        "scaler.fit(x_train)  # Don't cheat - fit only on training data\n",
        "x_train.SM2 = scaler.transform(x_train)\n",
        "x_test.SM2  = scaler.transform(x_test)  # apply same transformation to test data"
      ],
      "execution_count": 0,
      "outputs": []
    },
    {
      "metadata": {
        "id": "kazGoXRuDXwO",
        "colab_type": "code",
        "outputId": "03e82820-0277-4d8a-b682-c63cdaf05f63",
        "colab": {
          "base_uri": "https://localhost:8080/",
          "height": 253
        }
      },
      "cell_type": "code",
      "source": [
        "pd.DataFrame(x_train.SM2).head()"
      ],
      "execution_count": 49,
      "outputs": [
        {
          "output_type": "execute_result",
          "data": {
            "text/html": [
              "<div>\n",
              "<style scoped>\n",
              "    .dataframe tbody tr th:only-of-type {\n",
              "        vertical-align: middle;\n",
              "    }\n",
              "\n",
              "    .dataframe tbody tr th {\n",
              "        vertical-align: top;\n",
              "    }\n",
              "\n",
              "    .dataframe thead th {\n",
              "        text-align: right;\n",
              "    }\n",
              "</style>\n",
              "<table border=\"1\" class=\"dataframe\">\n",
              "  <thead>\n",
              "    <tr style=\"text-align: right;\">\n",
              "      <th></th>\n",
              "      <th>0</th>\n",
              "      <th>1</th>\n",
              "      <th>2</th>\n",
              "      <th>3</th>\n",
              "      <th>4</th>\n",
              "      <th>5</th>\n",
              "      <th>6</th>\n",
              "      <th>7</th>\n",
              "      <th>8</th>\n",
              "      <th>9</th>\n",
              "      <th>...</th>\n",
              "      <th>42</th>\n",
              "      <th>43</th>\n",
              "      <th>44</th>\n",
              "      <th>45</th>\n",
              "      <th>46</th>\n",
              "      <th>47</th>\n",
              "      <th>48</th>\n",
              "      <th>49</th>\n",
              "      <th>50</th>\n",
              "      <th>51</th>\n",
              "    </tr>\n",
              "  </thead>\n",
              "  <tbody>\n",
              "    <tr>\n",
              "      <th>0</th>\n",
              "      <td>-0.034395</td>\n",
              "      <td>0.784762</td>\n",
              "      <td>0.934957</td>\n",
              "      <td>-0.200575</td>\n",
              "      <td>1.355727</td>\n",
              "      <td>-0.213566</td>\n",
              "      <td>-0.211577</td>\n",
              "      <td>-0.224836</td>\n",
              "      <td>-0.342836</td>\n",
              "      <td>1.254890</td>\n",
              "      <td>...</td>\n",
              "      <td>-0.195745</td>\n",
              "      <td>-0.186022</td>\n",
              "      <td>-0.162102</td>\n",
              "      <td>-0.135728</td>\n",
              "      <td>-0.429001</td>\n",
              "      <td>-0.381103</td>\n",
              "      <td>2.360179</td>\n",
              "      <td>-0.424293</td>\n",
              "      <td>-0.422844</td>\n",
              "      <td>-0.422722</td>\n",
              "    </tr>\n",
              "    <tr>\n",
              "      <th>1</th>\n",
              "      <td>0.436831</td>\n",
              "      <td>0.401142</td>\n",
              "      <td>-0.164878</td>\n",
              "      <td>-0.957685</td>\n",
              "      <td>1.652493</td>\n",
              "      <td>-0.213566</td>\n",
              "      <td>-0.211577</td>\n",
              "      <td>-0.224836</td>\n",
              "      <td>-0.342836</td>\n",
              "      <td>-0.796883</td>\n",
              "      <td>...</td>\n",
              "      <td>-0.195745</td>\n",
              "      <td>-0.186022</td>\n",
              "      <td>-0.162102</td>\n",
              "      <td>-0.135728</td>\n",
              "      <td>-0.429001</td>\n",
              "      <td>-0.381103</td>\n",
              "      <td>-0.423697</td>\n",
              "      <td>2.356861</td>\n",
              "      <td>-0.422844</td>\n",
              "      <td>-0.422722</td>\n",
              "    </tr>\n",
              "    <tr>\n",
              "      <th>2</th>\n",
              "      <td>0.197657</td>\n",
              "      <td>0.912107</td>\n",
              "      <td>0.613552</td>\n",
              "      <td>1.023002</td>\n",
              "      <td>0.225258</td>\n",
              "      <td>-0.213566</td>\n",
              "      <td>-0.211577</td>\n",
              "      <td>-0.224836</td>\n",
              "      <td>-0.342836</td>\n",
              "      <td>1.254890</td>\n",
              "      <td>...</td>\n",
              "      <td>-0.195745</td>\n",
              "      <td>-0.186022</td>\n",
              "      <td>-0.162102</td>\n",
              "      <td>-0.135728</td>\n",
              "      <td>-0.429001</td>\n",
              "      <td>-0.381103</td>\n",
              "      <td>2.360179</td>\n",
              "      <td>-0.424293</td>\n",
              "      <td>-0.422844</td>\n",
              "      <td>-0.422722</td>\n",
              "    </tr>\n",
              "    <tr>\n",
              "      <th>3</th>\n",
              "      <td>1.501665</td>\n",
              "      <td>1.229533</td>\n",
              "      <td>1.313687</td>\n",
              "      <td>1.740896</td>\n",
              "      <td>-0.011625</td>\n",
              "      <td>-0.213566</td>\n",
              "      <td>-0.211577</td>\n",
              "      <td>-0.224836</td>\n",
              "      <td>-0.342836</td>\n",
              "      <td>1.254890</td>\n",
              "      <td>...</td>\n",
              "      <td>-0.195745</td>\n",
              "      <td>-0.186022</td>\n",
              "      <td>-0.162102</td>\n",
              "      <td>-0.135728</td>\n",
              "      <td>2.330996</td>\n",
              "      <td>-0.381103</td>\n",
              "      <td>-0.423697</td>\n",
              "      <td>-0.424293</td>\n",
              "      <td>-0.422844</td>\n",
              "      <td>-0.422722</td>\n",
              "    </tr>\n",
              "    <tr>\n",
              "      <th>4</th>\n",
              "      <td>0.576001</td>\n",
              "      <td>1.228309</td>\n",
              "      <td>1.910868</td>\n",
              "      <td>1.316477</td>\n",
              "      <td>1.423743</td>\n",
              "      <td>-0.213566</td>\n",
              "      <td>-0.211577</td>\n",
              "      <td>-0.224836</td>\n",
              "      <td>-0.342836</td>\n",
              "      <td>1.254890</td>\n",
              "      <td>...</td>\n",
              "      <td>-0.195745</td>\n",
              "      <td>-0.186022</td>\n",
              "      <td>-0.162102</td>\n",
              "      <td>-0.135728</td>\n",
              "      <td>-0.429001</td>\n",
              "      <td>-0.381103</td>\n",
              "      <td>2.360179</td>\n",
              "      <td>-0.424293</td>\n",
              "      <td>-0.422844</td>\n",
              "      <td>-0.422722</td>\n",
              "    </tr>\n",
              "  </tbody>\n",
              "</table>\n",
              "<p>5 rows × 52 columns</p>\n",
              "</div>"
            ],
            "text/plain": [
              "         0         1         2         3         4         5         6   \\\n",
              "0 -0.034395  0.784762  0.934957 -0.200575  1.355727 -0.213566 -0.211577   \n",
              "1  0.436831  0.401142 -0.164878 -0.957685  1.652493 -0.213566 -0.211577   \n",
              "2  0.197657  0.912107  0.613552  1.023002  0.225258 -0.213566 -0.211577   \n",
              "3  1.501665  1.229533  1.313687  1.740896 -0.011625 -0.213566 -0.211577   \n",
              "4  0.576001  1.228309  1.910868  1.316477  1.423743 -0.213566 -0.211577   \n",
              "\n",
              "         7         8         9     ...           42        43        44  \\\n",
              "0 -0.224836 -0.342836  1.254890    ...    -0.195745 -0.186022 -0.162102   \n",
              "1 -0.224836 -0.342836 -0.796883    ...    -0.195745 -0.186022 -0.162102   \n",
              "2 -0.224836 -0.342836  1.254890    ...    -0.195745 -0.186022 -0.162102   \n",
              "3 -0.224836 -0.342836  1.254890    ...    -0.195745 -0.186022 -0.162102   \n",
              "4 -0.224836 -0.342836  1.254890    ...    -0.195745 -0.186022 -0.162102   \n",
              "\n",
              "         45        46        47        48        49        50        51  \n",
              "0 -0.135728 -0.429001 -0.381103  2.360179 -0.424293 -0.422844 -0.422722  \n",
              "1 -0.135728 -0.429001 -0.381103 -0.423697  2.356861 -0.422844 -0.422722  \n",
              "2 -0.135728 -0.429001 -0.381103  2.360179 -0.424293 -0.422844 -0.422722  \n",
              "3 -0.135728  2.330996 -0.381103 -0.423697 -0.424293 -0.422844 -0.422722  \n",
              "4 -0.135728 -0.429001 -0.381103  2.360179 -0.424293 -0.422844 -0.422722  \n",
              "\n",
              "[5 rows x 52 columns]"
            ]
          },
          "metadata": {
            "tags": []
          },
          "execution_count": 49
        }
      ]
    },
    {
      "metadata": {
        "id": "QdHis_rsDcGE",
        "colab_type": "code",
        "outputId": "190b4d53-fc46-41ca-ae84-7c420ac4eb01",
        "colab": {
          "base_uri": "https://localhost:8080/",
          "height": 253
        }
      },
      "cell_type": "code",
      "source": [
        "pd.DataFrame(x_test.SM2).head()"
      ],
      "execution_count": 60,
      "outputs": [
        {
          "output_type": "execute_result",
          "data": {
            "text/html": [
              "<div>\n",
              "<style scoped>\n",
              "    .dataframe tbody tr th:only-of-type {\n",
              "        vertical-align: middle;\n",
              "    }\n",
              "\n",
              "    .dataframe tbody tr th {\n",
              "        vertical-align: top;\n",
              "    }\n",
              "\n",
              "    .dataframe thead th {\n",
              "        text-align: right;\n",
              "    }\n",
              "</style>\n",
              "<table border=\"1\" class=\"dataframe\">\n",
              "  <thead>\n",
              "    <tr style=\"text-align: right;\">\n",
              "      <th></th>\n",
              "      <th>0</th>\n",
              "      <th>1</th>\n",
              "      <th>2</th>\n",
              "      <th>3</th>\n",
              "      <th>4</th>\n",
              "      <th>5</th>\n",
              "      <th>6</th>\n",
              "      <th>7</th>\n",
              "      <th>8</th>\n",
              "      <th>9</th>\n",
              "      <th>...</th>\n",
              "      <th>42</th>\n",
              "      <th>43</th>\n",
              "      <th>44</th>\n",
              "      <th>45</th>\n",
              "      <th>46</th>\n",
              "      <th>47</th>\n",
              "      <th>48</th>\n",
              "      <th>49</th>\n",
              "      <th>50</th>\n",
              "      <th>51</th>\n",
              "    </tr>\n",
              "  </thead>\n",
              "  <tbody>\n",
              "    <tr>\n",
              "      <th>0</th>\n",
              "      <td>-0.656270</td>\n",
              "      <td>-1.423445</td>\n",
              "      <td>-0.206352</td>\n",
              "      <td>-0.636086</td>\n",
              "      <td>-0.215486</td>\n",
              "      <td>-0.213374</td>\n",
              "      <td>-0.207622</td>\n",
              "      <td>-0.223463</td>\n",
              "      <td>-0.34394</td>\n",
              "      <td>1.252243</td>\n",
              "      <td>...</td>\n",
              "      <td>-0.196076</td>\n",
              "      <td>5.349028</td>\n",
              "      <td>-0.161541</td>\n",
              "      <td>-0.136503</td>\n",
              "      <td>-0.428592</td>\n",
              "      <td>-0.381718</td>\n",
              "      <td>-0.424767</td>\n",
              "      <td>-0.423383</td>\n",
              "      <td>-0.422943</td>\n",
              "      <td>2.372313</td>\n",
              "    </tr>\n",
              "    <tr>\n",
              "      <th>1</th>\n",
              "      <td>-1.552155</td>\n",
              "      <td>-1.004186</td>\n",
              "      <td>-0.454502</td>\n",
              "      <td>-0.333287</td>\n",
              "      <td>-0.136367</td>\n",
              "      <td>-0.213374</td>\n",
              "      <td>-0.207622</td>\n",
              "      <td>-0.223463</td>\n",
              "      <td>-0.34394</td>\n",
              "      <td>-0.798567</td>\n",
              "      <td>...</td>\n",
              "      <td>-0.196076</td>\n",
              "      <td>-0.186950</td>\n",
              "      <td>-0.161541</td>\n",
              "      <td>-0.136503</td>\n",
              "      <td>2.333222</td>\n",
              "      <td>-0.381718</td>\n",
              "      <td>-0.424767</td>\n",
              "      <td>-0.423383</td>\n",
              "      <td>-0.422943</td>\n",
              "      <td>-0.421529</td>\n",
              "    </tr>\n",
              "    <tr>\n",
              "      <th>2</th>\n",
              "      <td>-0.970126</td>\n",
              "      <td>0.743758</td>\n",
              "      <td>-0.171674</td>\n",
              "      <td>-0.105493</td>\n",
              "      <td>0.127640</td>\n",
              "      <td>-0.213374</td>\n",
              "      <td>-0.207622</td>\n",
              "      <td>-0.223463</td>\n",
              "      <td>-0.34394</td>\n",
              "      <td>1.252243</td>\n",
              "      <td>...</td>\n",
              "      <td>-0.196076</td>\n",
              "      <td>-0.186950</td>\n",
              "      <td>-0.161541</td>\n",
              "      <td>-0.136503</td>\n",
              "      <td>-0.428592</td>\n",
              "      <td>-0.381718</td>\n",
              "      <td>2.354231</td>\n",
              "      <td>-0.423383</td>\n",
              "      <td>-0.422943</td>\n",
              "      <td>-0.421529</td>\n",
              "    </tr>\n",
              "    <tr>\n",
              "      <th>3</th>\n",
              "      <td>-0.429375</td>\n",
              "      <td>0.882702</td>\n",
              "      <td>0.244040</td>\n",
              "      <td>0.420094</td>\n",
              "      <td>0.227766</td>\n",
              "      <td>-0.213374</td>\n",
              "      <td>-0.207622</td>\n",
              "      <td>-0.223463</td>\n",
              "      <td>-0.34394</td>\n",
              "      <td>1.252243</td>\n",
              "      <td>...</td>\n",
              "      <td>-0.196076</td>\n",
              "      <td>-0.186950</td>\n",
              "      <td>-0.161541</td>\n",
              "      <td>-0.136503</td>\n",
              "      <td>2.333222</td>\n",
              "      <td>-0.381718</td>\n",
              "      <td>-0.424767</td>\n",
              "      <td>-0.423383</td>\n",
              "      <td>-0.422943</td>\n",
              "      <td>-0.421529</td>\n",
              "    </tr>\n",
              "    <tr>\n",
              "      <th>4</th>\n",
              "      <td>1.556437</td>\n",
              "      <td>1.038413</td>\n",
              "      <td>0.493754</td>\n",
              "      <td>0.352511</td>\n",
              "      <td>-0.115872</td>\n",
              "      <td>-0.213374</td>\n",
              "      <td>-0.207622</td>\n",
              "      <td>-0.223463</td>\n",
              "      <td>-0.34394</td>\n",
              "      <td>-0.798567</td>\n",
              "      <td>...</td>\n",
              "      <td>-0.196076</td>\n",
              "      <td>-0.186950</td>\n",
              "      <td>-0.161541</td>\n",
              "      <td>-0.136503</td>\n",
              "      <td>-0.428592</td>\n",
              "      <td>-0.381718</td>\n",
              "      <td>-0.424767</td>\n",
              "      <td>2.361930</td>\n",
              "      <td>-0.422943</td>\n",
              "      <td>-0.421529</td>\n",
              "    </tr>\n",
              "  </tbody>\n",
              "</table>\n",
              "<p>5 rows × 52 columns</p>\n",
              "</div>"
            ],
            "text/plain": [
              "         0         1         2         3         4         5         6   \\\n",
              "0 -0.656270 -1.423445 -0.206352 -0.636086 -0.215486 -0.213374 -0.207622   \n",
              "1 -1.552155 -1.004186 -0.454502 -0.333287 -0.136367 -0.213374 -0.207622   \n",
              "2 -0.970126  0.743758 -0.171674 -0.105493  0.127640 -0.213374 -0.207622   \n",
              "3 -0.429375  0.882702  0.244040  0.420094  0.227766 -0.213374 -0.207622   \n",
              "4  1.556437  1.038413  0.493754  0.352511 -0.115872 -0.213374 -0.207622   \n",
              "\n",
              "         7        8         9     ...           42        43        44  \\\n",
              "0 -0.223463 -0.34394  1.252243    ...    -0.196076  5.349028 -0.161541   \n",
              "1 -0.223463 -0.34394 -0.798567    ...    -0.196076 -0.186950 -0.161541   \n",
              "2 -0.223463 -0.34394  1.252243    ...    -0.196076 -0.186950 -0.161541   \n",
              "3 -0.223463 -0.34394  1.252243    ...    -0.196076 -0.186950 -0.161541   \n",
              "4 -0.223463 -0.34394 -0.798567    ...    -0.196076 -0.186950 -0.161541   \n",
              "\n",
              "         45        46        47        48        49        50        51  \n",
              "0 -0.136503 -0.428592 -0.381718 -0.424767 -0.423383 -0.422943  2.372313  \n",
              "1 -0.136503  2.333222 -0.381718 -0.424767 -0.423383 -0.422943 -0.421529  \n",
              "2 -0.136503 -0.428592 -0.381718  2.354231 -0.423383 -0.422943 -0.421529  \n",
              "3 -0.136503  2.333222 -0.381718 -0.424767 -0.423383 -0.422943 -0.421529  \n",
              "4 -0.136503 -0.428592 -0.381718 -0.424767  2.361930 -0.422943 -0.421529  \n",
              "\n",
              "[5 rows x 52 columns]"
            ]
          },
          "metadata": {
            "tags": []
          },
          "execution_count": 60
        }
      ]
    },
    {
      "metadata": {
        "id": "0wYJr4ZW0mOR",
        "colab_type": "text"
      },
      "cell_type": "markdown",
      "source": [
        "### **MATRIZ  DE CORRELACIONES SOBRE LOS DATOS ESCALADOS MÉTODO 2*"
      ]
    },
    {
      "metadata": {
        "id": "TtJ3_wAAjK0G",
        "colab_type": "code",
        "outputId": "fe773fdd-b106-4cbb-9226-ddf7f5cf367f",
        "colab": {
          "base_uri": "https://localhost:8080/",
          "height": 253
        }
      },
      "cell_type": "code",
      "source": [
        "pd.DataFrame(x_test.SM2).corr().head()"
      ],
      "execution_count": 61,
      "outputs": [
        {
          "output_type": "execute_result",
          "data": {
            "text/html": [
              "<div>\n",
              "<style scoped>\n",
              "    .dataframe tbody tr th:only-of-type {\n",
              "        vertical-align: middle;\n",
              "    }\n",
              "\n",
              "    .dataframe tbody tr th {\n",
              "        vertical-align: top;\n",
              "    }\n",
              "\n",
              "    .dataframe thead th {\n",
              "        text-align: right;\n",
              "    }\n",
              "</style>\n",
              "<table border=\"1\" class=\"dataframe\">\n",
              "  <thead>\n",
              "    <tr style=\"text-align: right;\">\n",
              "      <th></th>\n",
              "      <th>0</th>\n",
              "      <th>1</th>\n",
              "      <th>2</th>\n",
              "      <th>3</th>\n",
              "      <th>4</th>\n",
              "      <th>5</th>\n",
              "      <th>6</th>\n",
              "      <th>7</th>\n",
              "      <th>8</th>\n",
              "      <th>9</th>\n",
              "      <th>...</th>\n",
              "      <th>42</th>\n",
              "      <th>43</th>\n",
              "      <th>44</th>\n",
              "      <th>45</th>\n",
              "      <th>46</th>\n",
              "      <th>47</th>\n",
              "      <th>48</th>\n",
              "      <th>49</th>\n",
              "      <th>50</th>\n",
              "      <th>51</th>\n",
              "    </tr>\n",
              "  </thead>\n",
              "  <tbody>\n",
              "    <tr>\n",
              "      <th>0</th>\n",
              "      <td>1.000000</td>\n",
              "      <td>0.547933</td>\n",
              "      <td>0.187931</td>\n",
              "      <td>0.165215</td>\n",
              "      <td>-0.009027</td>\n",
              "      <td>0.022623</td>\n",
              "      <td>0.013078</td>\n",
              "      <td>0.021043</td>\n",
              "      <td>-0.007713</td>\n",
              "      <td>-0.025253</td>\n",
              "      <td>...</td>\n",
              "      <td>-0.004831</td>\n",
              "      <td>0.000100</td>\n",
              "      <td>-0.002842</td>\n",
              "      <td>0.007303</td>\n",
              "      <td>-0.004069</td>\n",
              "      <td>0.013084</td>\n",
              "      <td>0.005292</td>\n",
              "      <td>-0.004289</td>\n",
              "      <td>-0.006281</td>\n",
              "      <td>-0.008245</td>\n",
              "    </tr>\n",
              "    <tr>\n",
              "      <th>1</th>\n",
              "      <td>0.547933</td>\n",
              "      <td>1.000000</td>\n",
              "      <td>0.111339</td>\n",
              "      <td>0.277734</td>\n",
              "      <td>0.022246</td>\n",
              "      <td>-0.024320</td>\n",
              "      <td>-0.033968</td>\n",
              "      <td>-0.010971</td>\n",
              "      <td>0.021890</td>\n",
              "      <td>0.161258</td>\n",
              "      <td>...</td>\n",
              "      <td>0.001181</td>\n",
              "      <td>0.003471</td>\n",
              "      <td>-0.013079</td>\n",
              "      <td>-0.002298</td>\n",
              "      <td>0.025514</td>\n",
              "      <td>-0.023045</td>\n",
              "      <td>0.010588</td>\n",
              "      <td>0.021042</td>\n",
              "      <td>-0.007720</td>\n",
              "      <td>0.021430</td>\n",
              "    </tr>\n",
              "    <tr>\n",
              "      <th>2</th>\n",
              "      <td>0.187931</td>\n",
              "      <td>0.111339</td>\n",
              "      <td>1.000000</td>\n",
              "      <td>-0.398403</td>\n",
              "      <td>-0.271283</td>\n",
              "      <td>0.004894</td>\n",
              "      <td>0.003003</td>\n",
              "      <td>-0.000352</td>\n",
              "      <td>0.005541</td>\n",
              "      <td>-0.007979</td>\n",
              "      <td>...</td>\n",
              "      <td>-0.000535</td>\n",
              "      <td>0.000746</td>\n",
              "      <td>0.000224</td>\n",
              "      <td>0.004655</td>\n",
              "      <td>0.003603</td>\n",
              "      <td>0.003498</td>\n",
              "      <td>0.003091</td>\n",
              "      <td>0.003045</td>\n",
              "      <td>-0.002236</td>\n",
              "      <td>-0.014125</td>\n",
              "    </tr>\n",
              "    <tr>\n",
              "      <th>3</th>\n",
              "      <td>0.165215</td>\n",
              "      <td>0.277734</td>\n",
              "      <td>-0.398403</td>\n",
              "      <td>1.000000</td>\n",
              "      <td>-0.169871</td>\n",
              "      <td>-0.005991</td>\n",
              "      <td>-0.008484</td>\n",
              "      <td>-0.001251</td>\n",
              "      <td>0.005535</td>\n",
              "      <td>0.044590</td>\n",
              "      <td>...</td>\n",
              "      <td>-0.003147</td>\n",
              "      <td>0.001152</td>\n",
              "      <td>-0.004065</td>\n",
              "      <td>-0.001275</td>\n",
              "      <td>0.005662</td>\n",
              "      <td>-0.006653</td>\n",
              "      <td>0.003347</td>\n",
              "      <td>0.002623</td>\n",
              "      <td>-0.001947</td>\n",
              "      <td>0.010707</td>\n",
              "    </tr>\n",
              "    <tr>\n",
              "      <th>4</th>\n",
              "      <td>-0.009027</td>\n",
              "      <td>0.022246</td>\n",
              "      <td>-0.271283</td>\n",
              "      <td>-0.169871</td>\n",
              "      <td>1.000000</td>\n",
              "      <td>-0.025795</td>\n",
              "      <td>-0.025025</td>\n",
              "      <td>-0.009520</td>\n",
              "      <td>0.015203</td>\n",
              "      <td>0.101332</td>\n",
              "      <td>...</td>\n",
              "      <td>0.003000</td>\n",
              "      <td>-0.000326</td>\n",
              "      <td>-0.005715</td>\n",
              "      <td>0.000869</td>\n",
              "      <td>0.015475</td>\n",
              "      <td>-0.018402</td>\n",
              "      <td>-0.003018</td>\n",
              "      <td>0.006251</td>\n",
              "      <td>0.005784</td>\n",
              "      <td>0.013715</td>\n",
              "    </tr>\n",
              "  </tbody>\n",
              "</table>\n",
              "<p>5 rows × 52 columns</p>\n",
              "</div>"
            ],
            "text/plain": [
              "         0         1         2         3         4         5         6   \\\n",
              "0  1.000000  0.547933  0.187931  0.165215 -0.009027  0.022623  0.013078   \n",
              "1  0.547933  1.000000  0.111339  0.277734  0.022246 -0.024320 -0.033968   \n",
              "2  0.187931  0.111339  1.000000 -0.398403 -0.271283  0.004894  0.003003   \n",
              "3  0.165215  0.277734 -0.398403  1.000000 -0.169871 -0.005991 -0.008484   \n",
              "4 -0.009027  0.022246 -0.271283 -0.169871  1.000000 -0.025795 -0.025025   \n",
              "\n",
              "         7         8         9     ...           42        43        44  \\\n",
              "0  0.021043 -0.007713 -0.025253    ...    -0.004831  0.000100 -0.002842   \n",
              "1 -0.010971  0.021890  0.161258    ...     0.001181  0.003471 -0.013079   \n",
              "2 -0.000352  0.005541 -0.007979    ...    -0.000535  0.000746  0.000224   \n",
              "3 -0.001251  0.005535  0.044590    ...    -0.003147  0.001152 -0.004065   \n",
              "4 -0.009520  0.015203  0.101332    ...     0.003000 -0.000326 -0.005715   \n",
              "\n",
              "         45        46        47        48        49        50        51  \n",
              "0  0.007303 -0.004069  0.013084  0.005292 -0.004289 -0.006281 -0.008245  \n",
              "1 -0.002298  0.025514 -0.023045  0.010588  0.021042 -0.007720  0.021430  \n",
              "2  0.004655  0.003603  0.003498  0.003091  0.003045 -0.002236 -0.014125  \n",
              "3 -0.001275  0.005662 -0.006653  0.003347  0.002623 -0.001947  0.010707  \n",
              "4  0.000869  0.015475 -0.018402 -0.003018  0.006251  0.005784  0.013715  \n",
              "\n",
              "[5 rows x 52 columns]"
            ]
          },
          "metadata": {
            "tags": []
          },
          "execution_count": 61
        }
      ]
    },
    {
      "metadata": {
        "id": "fJ8Lzm9L5UmK",
        "colab_type": "text"
      },
      "cell_type": "markdown",
      "source": [
        "### **RANDOM FOREST E IMPORTANCIA DE VARIABLES**\n"
      ]
    },
    {
      "metadata": {
        "id": "MJbnSJ9D51kn",
        "colab_type": "text"
      },
      "cell_type": "markdown",
      "source": [
        "### **PRUEBA DE CV DE RANDOM FOREST**"
      ]
    },
    {
      "metadata": {
        "id": "uoVn92JcjKV6",
        "colab_type": "code",
        "outputId": "71cb1de6-d703-4cda-b6e8-5d5725c19756",
        "colab": {
          "base_uri": "https://localhost:8080/",
          "height": 323
        }
      },
      "cell_type": "code",
      "source": [
        "from sklearn.ensemble import RandomForestRegressor\n",
        "rf = RandomForestRegressor(random_state = 42)\n",
        "from pprint import pprint\n",
        "# Look at parameters used by our current forest\n",
        "print('Parameters currently in use:\\n')\n",
        "pprint(rf.get_params())"
      ],
      "execution_count": 62,
      "outputs": [
        {
          "output_type": "stream",
          "text": [
            "Parameters currently in use:\n",
            "\n",
            "{'bootstrap': True,\n",
            " 'criterion': 'mse',\n",
            " 'max_depth': None,\n",
            " 'max_features': 'auto',\n",
            " 'max_leaf_nodes': None,\n",
            " 'min_impurity_decrease': 0.0,\n",
            " 'min_impurity_split': None,\n",
            " 'min_samples_leaf': 1,\n",
            " 'min_samples_split': 2,\n",
            " 'min_weight_fraction_leaf': 0.0,\n",
            " 'n_estimators': 10,\n",
            " 'n_jobs': 1,\n",
            " 'oob_score': False,\n",
            " 'random_state': 42,\n",
            " 'verbose': 0,\n",
            " 'warm_start': False}\n"
          ],
          "name": "stdout"
        }
      ]
    },
    {
      "metadata": {
        "id": "0GPClHZTjKQB",
        "colab_type": "code",
        "outputId": "3607cc1e-21f5-40c2-ade3-793828a008b0",
        "colab": {
          "base_uri": "https://localhost:8080/",
          "height": 119
        }
      },
      "cell_type": "code",
      "source": [
        "from sklearn.model_selection import RandomizedSearchCV\n",
        "# Number of trees in random forest\n",
        "n_estimators = [int(x) for x in np.linspace(start = 5, stop = 200, num = 10)]\n",
        "# Number of features to consider at every split\n",
        "max_features = ['auto', 'sqrt']\n",
        "# Maximum number of levels in tree\n",
        "max_depth = [int(x) for x in np.linspace(5, 60, num = 5)]\n",
        "max_depth.append(None)\n",
        "# Minimum number of samples required to split a node\n",
        "min_samples_split = [2, 10]\n",
        "# Minimum number of samples required at each leaf node\n",
        "min_samples_leaf = [1, 4]\n",
        "# Method of selecting samples for training each tree\n",
        "bootstrap = [True, False]\n",
        "# Create the random grid\n",
        "random_grid = {'n_estimators': n_estimators,\n",
        "               'max_features': max_features,\n",
        "               'max_depth': max_depth,\n",
        "               'min_samples_split': min_samples_split,\n",
        "               'min_samples_leaf': min_samples_leaf,\n",
        "               'bootstrap': bootstrap}\n",
        "pprint(random_grid)"
      ],
      "execution_count": 63,
      "outputs": [
        {
          "output_type": "stream",
          "text": [
            "{'bootstrap': [True, False],\n",
            " 'max_depth': [5, 18, 32, 46, 60, None],\n",
            " 'max_features': ['auto', 'sqrt'],\n",
            " 'min_samples_leaf': [1, 4],\n",
            " 'min_samples_split': [2, 10],\n",
            " 'n_estimators': [5, 26, 48, 70, 91, 113, 135, 156, 178, 200]}\n"
          ],
          "name": "stdout"
        }
      ]
    },
    {
      "metadata": {
        "id": "Zu_WKC0TlBh-",
        "colab_type": "code",
        "colab": {
          "base_uri": "https://localhost:8080/",
          "height": 768
        },
        "outputId": "cdf7994d-c400-4fbf-a100-b5208f4da0f2"
      },
      "cell_type": "code",
      "source": [
        "import tqdm\n",
        "# Use the random grid to search for best hyperparameters\n",
        "# First create the base model to tune\n",
        "rf = RandomForestRegressor()\n",
        "# Random search of parameters, using 3 fold cross validation, \n",
        "# search across 100 different combinations, and use all available cores\n",
        "rf_random = RandomizedSearchCV(estimator = rf, param_distributions = random_grid, n_iter = 5, cv = 3, verbose=2, random_state=42, n_jobs = -1)\n",
        "# Fit the random search model\n",
        "rf_random.fit(x_train, y_train)"
      ],
      "execution_count": 64,
      "outputs": [
        {
          "output_type": "stream",
          "text": [
            "Fitting 3 folds for each of 5 candidates, totalling 15 fits\n",
            "[CV] n_estimators=48, min_samples_split=2, min_samples_leaf=4, max_features=auto, max_depth=18, bootstrap=True \n",
            "[CV] n_estimators=48, min_samples_split=2, min_samples_leaf=4, max_features=auto, max_depth=18, bootstrap=True \n",
            "[CV]  n_estimators=48, min_samples_split=2, min_samples_leaf=4, max_features=auto, max_depth=18, bootstrap=True, total= 4.8min\n",
            "[CV] n_estimators=48, min_samples_split=2, min_samples_leaf=4, max_features=auto, max_depth=18, bootstrap=True \n",
            "[CV]  n_estimators=48, min_samples_split=2, min_samples_leaf=4, max_features=auto, max_depth=18, bootstrap=True, total= 4.8min\n",
            "[CV] n_estimators=113, min_samples_split=10, min_samples_leaf=4, max_features=auto, max_depth=None, bootstrap=True \n",
            "[CV]  n_estimators=48, min_samples_split=2, min_samples_leaf=4, max_features=auto, max_depth=18, bootstrap=True, total= 4.8min\n",
            "[CV] n_estimators=113, min_samples_split=10, min_samples_leaf=4, max_features=auto, max_depth=None, bootstrap=True \n",
            "[CV]  n_estimators=113, min_samples_split=10, min_samples_leaf=4, max_features=auto, max_depth=None, bootstrap=True, total=16.2min\n",
            "[CV] n_estimators=113, min_samples_split=10, min_samples_leaf=4, max_features=auto, max_depth=None, bootstrap=True \n",
            "[CV]  n_estimators=113, min_samples_split=10, min_samples_leaf=4, max_features=auto, max_depth=None, bootstrap=True, total=16.2min\n",
            "[CV] n_estimators=5, min_samples_split=2, min_samples_leaf=4, max_features=sqrt, max_depth=60, bootstrap=False \n",
            "[CV]  n_estimators=5, min_samples_split=2, min_samples_leaf=4, max_features=sqrt, max_depth=60, bootstrap=False, total=  14.0s\n",
            "[CV] n_estimators=5, min_samples_split=2, min_samples_leaf=4, max_features=sqrt, max_depth=60, bootstrap=False \n",
            "[CV]  n_estimators=5, min_samples_split=2, min_samples_leaf=4, max_features=sqrt, max_depth=60, bootstrap=False, total=  13.9s\n",
            "[CV] n_estimators=5, min_samples_split=2, min_samples_leaf=4, max_features=sqrt, max_depth=60, bootstrap=False \n",
            "[CV]  n_estimators=5, min_samples_split=2, min_samples_leaf=4, max_features=sqrt, max_depth=60, bootstrap=False, total=  13.5s\n",
            "[CV] n_estimators=5, min_samples_split=10, min_samples_leaf=4, max_features=auto, max_depth=46, bootstrap=True \n",
            "[CV]  n_estimators=5, min_samples_split=10, min_samples_leaf=4, max_features=auto, max_depth=46, bootstrap=True, total=  42.7s\n",
            "[CV] n_estimators=5, min_samples_split=10, min_samples_leaf=4, max_features=auto, max_depth=46, bootstrap=True \n",
            "[CV]  n_estimators=5, min_samples_split=10, min_samples_leaf=4, max_features=auto, max_depth=46, bootstrap=True, total=  43.6s\n",
            "[CV] n_estimators=5, min_samples_split=10, min_samples_leaf=4, max_features=auto, max_depth=46, bootstrap=True \n",
            "[CV]  n_estimators=5, min_samples_split=10, min_samples_leaf=4, max_features=auto, max_depth=46, bootstrap=True, total=  43.1s\n",
            "[CV] n_estimators=135, min_samples_split=2, min_samples_leaf=4, max_features=auto, max_depth=18, bootstrap=True \n",
            "[CV]  n_estimators=113, min_samples_split=10, min_samples_leaf=4, max_features=auto, max_depth=None, bootstrap=True, total=16.2min\n",
            "[CV] n_estimators=135, min_samples_split=2, min_samples_leaf=4, max_features=auto, max_depth=18, bootstrap=True \n",
            "[CV]  n_estimators=135, min_samples_split=2, min_samples_leaf=4, max_features=auto, max_depth=18, bootstrap=True, total=13.6min\n",
            "[CV] n_estimators=135, min_samples_split=2, min_samples_leaf=4, max_features=auto, max_depth=18, bootstrap=True \n",
            "[CV]  n_estimators=135, min_samples_split=2, min_samples_leaf=4, max_features=auto, max_depth=18, bootstrap=True, total=12.8min\n",
            "[CV]  n_estimators=135, min_samples_split=2, min_samples_leaf=4, max_features=auto, max_depth=18, bootstrap=True, total=10.8min\n"
          ],
          "name": "stdout"
        },
        {
          "output_type": "stream",
          "text": [
            "[Parallel(n_jobs=-1)]: Done  15 out of  15 | elapsed: 54.0min finished\n"
          ],
          "name": "stderr"
        },
        {
          "output_type": "execute_result",
          "data": {
            "text/plain": [
              "RandomizedSearchCV(cv=3, error_score='raise',\n",
              "          estimator=RandomForestRegressor(bootstrap=True, criterion='mse', max_depth=None,\n",
              "           max_features='auto', max_leaf_nodes=None,\n",
              "           min_impurity_decrease=0.0, min_impurity_split=None,\n",
              "           min_samples_leaf=1, min_samples_split=2,\n",
              "           min_weight_fraction_leaf=0.0, n_estimators=10, n_jobs=1,\n",
              "           oob_score=False, random_state=None, verbose=0, warm_start=False),\n",
              "          fit_params=None, iid=True, n_iter=5, n_jobs=-1,\n",
              "          param_distributions={'n_estimators': [5, 26, 48, 70, 91, 113, 135, 156, 178, 200], 'max_features': ['auto', 'sqrt'], 'max_depth': [5, 18, 32, 46, 60, None], 'min_samples_split': [2, 10], 'min_samples_leaf': [1, 4], 'bootstrap': [True, False]},\n",
              "          pre_dispatch='2*n_jobs', random_state=42, refit=True,\n",
              "          return_train_score='warn', scoring=None, verbose=2)"
            ]
          },
          "metadata": {
            "tags": []
          },
          "execution_count": 64
        }
      ]
    },
    {
      "metadata": {
        "id": "yLZhyET4lBs5",
        "colab_type": "code",
        "outputId": "86fc26af-8996-409c-d97a-cc5776b221ae",
        "colab": {
          "base_uri": "https://localhost:8080/",
          "height": 119
        }
      },
      "cell_type": "code",
      "source": [
        "rf_random.best_params_\n"
      ],
      "execution_count": 66,
      "outputs": [
        {
          "output_type": "execute_result",
          "data": {
            "text/plain": [
              "{'bootstrap': True,\n",
              " 'max_depth': 18,\n",
              " 'max_features': 'auto',\n",
              " 'min_samples_leaf': 4,\n",
              " 'min_samples_split': 2,\n",
              " 'n_estimators': 135}"
            ]
          },
          "metadata": {
            "tags": []
          },
          "execution_count": 66
        }
      ]
    },
    {
      "metadata": {
        "id": "0jnSoYIdkoZe",
        "colab_type": "code",
        "colab": {}
      },
      "cell_type": "code",
      "source": [
        "from sklearn.ensemble import RandomForestRegressor\n",
        "rf.calibrate = RandomForestRegressor(max_depth=18, \n",
        "                           random_state=41,\n",
        "                           n_estimators=135,\n",
        "                           max_features= \"auto\",\n",
        "                           min_samples_leaf= 4,\n",
        "                           min_samples_split= 2,\n",
        "                           bootstrap=True)\n",
        "\n",
        "rf.calibrate.fit(x_train, y_train)\n",
        "pred=rf.calibrate.predict(x_test)\n",
        "\n"
      ],
      "execution_count": 0,
      "outputs": []
    },
    {
      "metadata": {
        "id": "KVY70n_WkoXU",
        "colab_type": "code",
        "outputId": "a093ef00-25d9-4ebe-c498-5d14a7191cd8",
        "colab": {
          "base_uri": "https://localhost:8080/",
          "height": 1221
        }
      },
      "cell_type": "code",
      "source": [
        "# Almacenamiento de la importancia de los predictores.\n",
        "importances = rf.calibrate.feature_importances_\n",
        "indices = np.argsort(importances)\n",
        "\n",
        "# Gráfico de importancia de los predictores.\n",
        "#plt.figure(1)\n",
        "\n",
        "plt.figure(figsize=(22,20))\n",
        "plt.title('Importancia de los Predictores')\n",
        "plt.barh(range(len(indices)), importances[indices], color='b', align='center')\n",
        "plt.yticks(range(len(indices)), [features[i] for i in indices])\n",
        "plt.xlabel('Importancia Relativa')"
      ],
      "execution_count": 68,
      "outputs": [
        {
          "output_type": "execute_result",
          "data": {
            "text/plain": [
              "Text(0.5,0,'Importancia Relativa')"
            ]
          },
          "metadata": {
            "tags": []
          },
          "execution_count": 68
        },
        {
          "output_type": "display_data",
          "data": {
            "image/png": "[encoded data removed]",
            "text/plain": [
              "<matplotlib.figure.Figure at 0x7fa555de6be0>"
            ]
          },
          "metadata": {
            "tags": []
          }
        }
      ]
    },
    {
      "metadata": {
        "id": "pYaMmS5nkoUK",
        "colab_type": "code",
        "outputId": "a56ff593-4a77-418f-98a8-d5d45e97b53e",
        "colab": {
          "base_uri": "https://localhost:8080/",
          "height": 34
        }
      },
      "cell_type": "code",
      "source": [
        "from sklearn.metrics import mean_absolute_error,mean_squared_error,mean_squared_log_error,r2_score\n",
        "mean_squared_error(pred,y_test),r2_score(y_test,pred),(np.sqrt(mean_squared_error(y_test, pred)))"
      ],
      "execution_count": 69,
      "outputs": [
        {
          "output_type": "execute_result",
          "data": {
            "text/plain": [
              "(568.2424792978558, 0.521798979267488, 23.83783713548391)"
            ]
          },
          "metadata": {
            "tags": []
          },
          "execution_count": 69
        }
      ]
    },
    {
      "metadata": {
        "id": "cZADA2di6U2U",
        "colab_type": "text"
      },
      "cell_type": "markdown",
      "source": [
        "### **DICCIONARIO CON MODELOS**"
      ]
    },
    {
      "metadata": {
        "id": "cxe7s_a6lB4T",
        "colab_type": "code",
        "colab": {}
      },
      "cell_type": "code",
      "source": [
        "import time\n",
        "from tqdm import *\n",
        "from sklearn import linear_model as lm\n",
        "from sklearn.ensemble import RandomForestRegressor\n",
        "from sklearn.svm import LinearSVR\n",
        "from sklearn.ensemble import GradientBoostingRegressor\n",
        "from sklearn.ensemble import AdaBoostRegressor\n",
        "from sklearn.ensemble import BaggingRegressor\n",
        "from sklearn.ensemble import GradientBoostingRegressor\n",
        "from sklearn.ensemble import ExtraTreesRegressor\n",
        "from sklearn.tree import DecisionTreeRegressor\n",
        "from sklearn.svm import SVR\n",
        "\n",
        "\n",
        "\n",
        "#GradientBoosting parámetros\n",
        "params = {'n_estimators': 20, 'max_depth': 4, 'min_samples_split': 2,\n",
        "          'learning_rate': 0.01, 'loss': 'ls'}\n",
        "\n",
        "#adaBoost parámetros\n",
        "ada_tree_backing = DecisionTreeRegressor(max_features='sqrt', splitter='random', min_samples_split=4, max_depth=3)\n",
        " \n",
        "\n",
        "models = {'lasso': lm.Lasso(alpha = 0.1),\n",
        "          'ridge': lm.Ridge (alpha = .5),\n",
        "          'linear':lm.LinearRegression(),\n",
        "          'rf':RandomForestRegressor(max_depth=6, random_state=0,\n",
        "                                     n_estimators=20,\n",
        "                                     max_features='sqrt',n_jobs=-1),\n",
        "          \"svr\" : LinearSVR(random_state=0, tol=1e-5),\n",
        "          \"lassoLars\":lm.LassoLars(alpha=.1),\n",
        "          \"bayridge\" : lm.BayesianRidge(),\n",
        "          \"gra.Boosting\":GradientBoostingRegressor(**params),\n",
        "          \"BagRegr\":BaggingRegressor(n_estimators=20,random_state=0),\n",
        "          \"AdaBoost\":AdaBoostRegressor(ada_tree_backing, learning_rate=0.1, loss='square', n_estimators=20)\n",
        "          #\"svr_rbf\" : SVR(kernel='rbf', C=1e3, gamma=0.1),\n",
        "          #\"svr_lin\" : SVR(kernel='linear', C=1e3),\n",
        "          #\"svr_poly\" : SVR(kernel='poly', C=1e3, degree=2)\n",
        "    \n",
        "         }"
      ],
      "execution_count": 0,
      "outputs": []
    },
    {
      "metadata": {
        "id": "hnXEpcyUlBp1",
        "colab_type": "code",
        "outputId": "9cac5c37-9e90-4738-844e-a54dc106a08f",
        "colab": {
          "base_uri": "https://localhost:8080/",
          "height": 34
        }
      },
      "cell_type": "code",
      "source": [
        "for model in tqdm(models.keys()):\n",
        "   models[model].fit(x_train, y_train)"
      ],
      "execution_count": 71,
      "outputs": [
        {
          "output_type": "stream",
          "text": [
            "100%|██████████| 10/10 [07:04<00:00, 62.50s/it]\n"
          ],
          "name": "stderr"
        }
      ]
    },
    {
      "metadata": {
        "id": "NN8XfX2-lBm0",
        "colab_type": "code",
        "outputId": "1527f6b2-1912-40f7-d9d0-2516b76df934",
        "colab": {
          "base_uri": "https://localhost:8080/",
          "height": 34
        }
      },
      "cell_type": "code",
      "source": [
        "y_pred = pd.DataFrame(index=x_test.index, columns=models.keys())\n",
        "for model in tqdm(models.keys()):\n",
        "   y_pred[model] = models[model].predict(x_test)"
      ],
      "execution_count": 72,
      "outputs": [
        {
          "output_type": "stream",
          "text": [
            "100%|██████████| 10/10 [00:03<00:00,  2.44it/s]\n"
          ],
          "name": "stderr"
        }
      ]
    },
    {
      "metadata": {
        "id": "7PoPNa1SpOw5",
        "colab_type": "code",
        "outputId": "d1e3885c-0229-4a8c-8494-c3b410791f97",
        "colab": {
          "base_uri": "https://localhost:8080/",
          "height": 527
        }
      },
      "cell_type": "code",
      "source": [
        "from sklearn.metrics import mean_absolute_error,mean_squared_error,mean_squared_log_error,r2_score\n",
        "\n",
        "for model in models.keys():\n",
        "    print(model,'MAE',mean_absolute_error(y_test,y_pred[model]))\n",
        "    print(model,'MSE',mean_squared_error(y_test,y_pred[model]))\n",
        "    print(model,'R2S',r2_score(y_test,y_pred[model]))\n"
      ],
      "execution_count": 73,
      "outputs": [
        {
          "output_type": "stream",
          "text": [
            "lasso MAE 12.15328064267053\n",
            "lasso MSE 509.1387654050035\n",
            "lasso R2S 0.5715373521317761\n",
            "ridge MAE 12.131274467718784\n",
            "ridge MSE 506.74336686050225\n",
            "ridge R2S 0.5735531852853573\n",
            "linear MAE 12.131272744797432\n",
            "linear MSE 506.74363087178574\n",
            "linear R2S 0.5735529631082588\n",
            "rf MAE 12.862241813704593\n",
            "rf MSE 713.4769846065028\n",
            "rf R2S 0.39957775995633527\n",
            "svr MAE 13.970889804590335\n",
            "svr MSE 822.3993146240784\n",
            "svr R2S 0.3079148320820785\n",
            "lassoLars MAE 14.583784388341076\n",
            "lassoLars MSE 1188.2935448535413\n",
            "lassoLars R2S -1.243801701633629e-06\n",
            "bayridge MAE 12.131474632102927\n",
            "bayridge MSE 506.7141476495398\n",
            "bayridge R2S 0.5735777745355739\n",
            "gra.Boosting MAE 13.943294209173319\n",
            "gra.Boosting MSE 983.810700957387\n",
            "gra.Boosting R2S 0.17208005641058421\n",
            "BagRegr MAE 11.022392137350407\n",
            "BagRegr MSE 525.1624979293936\n",
            "BagRegr R2S 0.5580526769653291\n",
            "AdaBoost MAE 14.815108083228326\n",
            "AdaBoost MSE 1186.171670610349\n",
            "AdaBoost R2S 0.0017844066308643214\n"
          ],
          "name": "stdout"
        }
      ]
    },
    {
      "metadata": {
        "id": "3LmYILsK5d5z",
        "colab_type": "text"
      },
      "cell_type": "markdown",
      "source": [
        "### **CALIBRACIÓN MODELO RIDGE  VÍA VALIDACIÓN CRUZADA**"
      ]
    },
    {
      "metadata": {
        "id": "Xn0L4d5OpPCM",
        "colab_type": "code",
        "colab": {}
      },
      "cell_type": "code",
      "source": [
        "alphas     = np.arange(0.001,10,0.01) \n",
        "regRidgeCV = lm.RidgeCV(alphas=alphas , cv=5)\n"
      ],
      "execution_count": 0,
      "outputs": []
    },
    {
      "metadata": {
        "id": "A2AFuRFkUTuV",
        "colab_type": "code",
        "outputId": "18b6f462-b57f-4350-f741-29d6a217f5fe",
        "colab": {
          "base_uri": "https://localhost:8080/",
          "height": 2920
        }
      },
      "cell_type": "code",
      "source": [
        "regRidgeCV.fit(x_train, y_train)"
      ],
      "execution_count": 75,
      "outputs": [
        {
          "output_type": "error",
          "ename": "KeyboardInterrupt",
          "evalue": "ignored",
          "traceback": [
            "\u001b[0;31m---------------------------------------------------------------------------\u001b[0m",
            "\u001b[0;31mTypeError\u001b[0m                                 Traceback (most recent call last)",
            "\u001b[0;32m/usr/local/lib/python3.6/dist-packages/pandas/core/indexes/base.py\u001b[0m in \u001b[0;36m__contains__\u001b[0;34m(self, key)\u001b[0m\n\u001b[1;32m   1695\u001b[0m         \u001b[0;32mtry\u001b[0m\u001b[0;34m:\u001b[0m\u001b[0;34m\u001b[0m\u001b[0m\n\u001b[0;32m-> 1696\u001b[0;31m             \u001b[0;32mreturn\u001b[0m \u001b[0mkey\u001b[0m \u001b[0;32min\u001b[0m \u001b[0mself\u001b[0m\u001b[0;34m.\u001b[0m\u001b[0m_engine\u001b[0m\u001b[0;34m\u001b[0m\u001b[0m\n\u001b[0m\u001b[1;32m   1697\u001b[0m         \u001b[0;32mexcept\u001b[0m \u001b[0;34m(\u001b[0m\u001b[0mOverflowError\u001b[0m\u001b[0;34m,\u001b[0m \u001b[0mTypeError\u001b[0m\u001b[0;34m,\u001b[0m \u001b[0mValueError\u001b[0m\u001b[0;34m)\u001b[0m\u001b[0;34m:\u001b[0m\u001b[0;34m\u001b[0m\u001b[0m\n",
            "\u001b[0;32mpandas/_libs/index.pyx\u001b[0m in \u001b[0;36mpandas._libs.index.IndexEngine.__contains__\u001b[0;34m()\u001b[0m\n",
            "\u001b[0;32mpandas/_libs/hashtable_class_helper.pxi\u001b[0m in \u001b[0;36mpandas._libs.hashtable.Int64HashTable.__contains__\u001b[0;34m()\u001b[0m\n",
            "\u001b[0;31mTypeError\u001b[0m: an integer is required",
            "\nDuring handling of the above exception, another exception occurred:\n",
            "\u001b[0;31mKeyboardInterrupt\u001b[0m                         Traceback (most recent call last)",
            "\u001b[0;32m<ipython-input-75-5d9c48a157e8>\u001b[0m in \u001b[0;36m<module>\u001b[0;34m()\u001b[0m\n\u001b[0;32m----> 1\u001b[0;31m \u001b[0mregRidgeCV\u001b[0m\u001b[0;34m.\u001b[0m\u001b[0mfit\u001b[0m\u001b[0;34m(\u001b[0m\u001b[0mx_train\u001b[0m\u001b[0;34m,\u001b[0m \u001b[0my_train\u001b[0m\u001b[0;34m)\u001b[0m\u001b[0;34m\u001b[0m\u001b[0m\n\u001b[0m",
            "\u001b[0;32m/usr/local/lib/python3.6/dist-packages/sklearn/linear_model/ridge.py\u001b[0m in \u001b[0;36mfit\u001b[0;34m(self, X, y, sample_weight)\u001b[0m\n\u001b[1;32m   1124\u001b[0m                                     normalize=self.normalize),\n\u001b[1;32m   1125\u001b[0m                               parameters, cv=self.cv, scoring=self.scoring)\n\u001b[0;32m-> 1126\u001b[0;31m             \u001b[0mgs\u001b[0m\u001b[0;34m.\u001b[0m\u001b[0mfit\u001b[0m\u001b[0;34m(\u001b[0m\u001b[0mX\u001b[0m\u001b[0;34m,\u001b[0m \u001b[0my\u001b[0m\u001b[0;34m,\u001b[0m \u001b[0msample_weight\u001b[0m\u001b[0;34m=\u001b[0m\u001b[0msample_weight\u001b[0m\u001b[0;34m)\u001b[0m\u001b[0;34m\u001b[0m\u001b[0m\n\u001b[0m\u001b[1;32m   1127\u001b[0m             \u001b[0mestimator\u001b[0m \u001b[0;34m=\u001b[0m \u001b[0mgs\u001b[0m\u001b[0;34m.\u001b[0m\u001b[0mbest_estimator_\u001b[0m\u001b[0;34m\u001b[0m\u001b[0m\n\u001b[1;32m   1128\u001b[0m             \u001b[0mself\u001b[0m\u001b[0;34m.\u001b[0m\u001b[0malpha_\u001b[0m \u001b[0;34m=\u001b[0m \u001b[0mgs\u001b[0m\u001b[0;34m.\u001b[0m\u001b[0mbest_estimator_\u001b[0m\u001b[0;34m.\u001b[0m\u001b[0malpha\u001b[0m\u001b[0;34m\u001b[0m\u001b[0m\n",
            "\u001b[0;32m/usr/local/lib/python3.6/dist-packages/sklearn/model_selection/_search.py\u001b[0m in \u001b[0;36mfit\u001b[0;34m(self, X, y, groups, **fit_params)\u001b[0m\n\u001b[1;32m    638\u001b[0m                                   error_score=self.error_score)\n\u001b[1;32m    639\u001b[0m           for parameters, (train, test) in product(candidate_params,\n\u001b[0;32m--> 640\u001b[0;31m                                                    cv.split(X, y, groups)))\n\u001b[0m\u001b[1;32m    641\u001b[0m \u001b[0;34m\u001b[0m\u001b[0m\n\u001b[1;32m    642\u001b[0m         \u001b[0;31m# if one choose to see train score, \"out\" will contain train score info\u001b[0m\u001b[0;34m\u001b[0m\u001b[0;34m\u001b[0m\u001b[0m\n",
            "\u001b[0;32m/usr/local/lib/python3.6/dist-packages/sklearn/externals/joblib/parallel.py\u001b[0m in \u001b[0;36m__call__\u001b[0;34m(self, iterable)\u001b[0m\n\u001b[1;32m    777\u001b[0m             \u001b[0;31m# was dispatched. In particular this covers the edge\u001b[0m\u001b[0;34m\u001b[0m\u001b[0;34m\u001b[0m\u001b[0m\n\u001b[1;32m    778\u001b[0m             \u001b[0;31m# case of Parallel used with an exhausted iterator.\u001b[0m\u001b[0;34m\u001b[0m\u001b[0;34m\u001b[0m\u001b[0m\n\u001b[0;32m--> 779\u001b[0;31m             \u001b[0;32mwhile\u001b[0m \u001b[0mself\u001b[0m\u001b[0;34m.\u001b[0m\u001b[0mdispatch_one_batch\u001b[0m\u001b[0;34m(\u001b[0m\u001b[0miterator\u001b[0m\u001b[0;34m)\u001b[0m\u001b[0;34m:\u001b[0m\u001b[0;34m\u001b[0m\u001b[0m\n\u001b[0m\u001b[1;32m    780\u001b[0m                 \u001b[0mself\u001b[0m\u001b[0;34m.\u001b[0m\u001b[0m_iterating\u001b[0m \u001b[0;34m=\u001b[0m \u001b[0;32mTrue\u001b[0m\u001b[0;34m\u001b[0m\u001b[0m\n\u001b[1;32m    781\u001b[0m             \u001b[0;32melse\u001b[0m\u001b[0;34m:\u001b[0m\u001b[0;34m\u001b[0m\u001b[0m\n",
            "\u001b[0;32m/usr/local/lib/python3.6/dist-packages/sklearn/externals/joblib/parallel.py\u001b[0m in \u001b[0;36mdispatch_one_batch\u001b[0;34m(self, iterator)\u001b[0m\n\u001b[1;32m    623\u001b[0m                 \u001b[0;32mreturn\u001b[0m \u001b[0;32mFalse\u001b[0m\u001b[0;34m\u001b[0m\u001b[0m\n\u001b[1;32m    624\u001b[0m             \u001b[0;32melse\u001b[0m\u001b[0;34m:\u001b[0m\u001b[0;34m\u001b[0m\u001b[0m\n\u001b[0;32m--> 625\u001b[0;31m                 \u001b[0mself\u001b[0m\u001b[0;34m.\u001b[0m\u001b[0m_dispatch\u001b[0m\u001b[0;34m(\u001b[0m\u001b[0mtasks\u001b[0m\u001b[0;34m)\u001b[0m\u001b[0;34m\u001b[0m\u001b[0m\n\u001b[0m\u001b[1;32m    626\u001b[0m                 \u001b[0;32mreturn\u001b[0m \u001b[0;32mTrue\u001b[0m\u001b[0;34m\u001b[0m\u001b[0m\n\u001b[1;32m    627\u001b[0m \u001b[0;34m\u001b[0m\u001b[0m\n",
            "\u001b[0;32m/usr/local/lib/python3.6/dist-packages/sklearn/externals/joblib/parallel.py\u001b[0m in \u001b[0;36m_dispatch\u001b[0;34m(self, batch)\u001b[0m\n\u001b[1;32m    586\u001b[0m         \u001b[0mdispatch_timestamp\u001b[0m \u001b[0;34m=\u001b[0m \u001b[0mtime\u001b[0m\u001b[0;34m.\u001b[0m\u001b[0mtime\u001b[0m\u001b[0;34m(\u001b[0m\u001b[0;34m)\u001b[0m\u001b[0;34m\u001b[0m\u001b[0m\n\u001b[1;32m    587\u001b[0m         \u001b[0mcb\u001b[0m \u001b[0;34m=\u001b[0m \u001b[0mBatchCompletionCallBack\u001b[0m\u001b[0;34m(\u001b[0m\u001b[0mdispatch_timestamp\u001b[0m\u001b[0;34m,\u001b[0m \u001b[0mlen\u001b[0m\u001b[0;34m(\u001b[0m\u001b[0mbatch\u001b[0m\u001b[0;34m)\u001b[0m\u001b[0;34m,\u001b[0m \u001b[0mself\u001b[0m\u001b[0;34m)\u001b[0m\u001b[0;34m\u001b[0m\u001b[0m\n\u001b[0;32m--> 588\u001b[0;31m         \u001b[0mjob\u001b[0m \u001b[0;34m=\u001b[0m \u001b[0mself\u001b[0m\u001b[0;34m.\u001b[0m\u001b[0m_backend\u001b[0m\u001b[0;34m.\u001b[0m\u001b[0mapply_async\u001b[0m\u001b[0;34m(\u001b[0m\u001b[0mbatch\u001b[0m\u001b[0;34m,\u001b[0m \u001b[0mcallback\u001b[0m\u001b[0;34m=\u001b[0m\u001b[0mcb\u001b[0m\u001b[0;34m)\u001b[0m\u001b[0;34m\u001b[0m\u001b[0m\n\u001b[0m\u001b[1;32m    589\u001b[0m         \u001b[0mself\u001b[0m\u001b[0;34m.\u001b[0m\u001b[0m_jobs\u001b[0m\u001b[0;34m.\u001b[0m\u001b[0mappend\u001b[0m\u001b[0;34m(\u001b[0m\u001b[0mjob\u001b[0m\u001b[0;34m)\u001b[0m\u001b[0;34m\u001b[0m\u001b[0m\n\u001b[1;32m    590\u001b[0m \u001b[0;34m\u001b[0m\u001b[0m\n",
            "\u001b[0;32m/usr/local/lib/python3.6/dist-packages/sklearn/externals/joblib/_parallel_backends.py\u001b[0m in \u001b[0;36mapply_async\u001b[0;34m(self, func, callback)\u001b[0m\n\u001b[1;32m    109\u001b[0m     \u001b[0;32mdef\u001b[0m \u001b[0mapply_async\u001b[0m\u001b[0;34m(\u001b[0m\u001b[0mself\u001b[0m\u001b[0;34m,\u001b[0m \u001b[0mfunc\u001b[0m\u001b[0;34m,\u001b[0m \u001b[0mcallback\u001b[0m\u001b[0;34m=\u001b[0m\u001b[0;32mNone\u001b[0m\u001b[0;34m)\u001b[0m\u001b[0;34m:\u001b[0m\u001b[0;34m\u001b[0m\u001b[0m\n\u001b[1;32m    110\u001b[0m         \u001b[0;34m\"\"\"Schedule a func to be run\"\"\"\u001b[0m\u001b[0;34m\u001b[0m\u001b[0m\n\u001b[0;32m--> 111\u001b[0;31m         \u001b[0mresult\u001b[0m \u001b[0;34m=\u001b[0m \u001b[0mImmediateResult\u001b[0m\u001b[0;34m(\u001b[0m\u001b[0mfunc\u001b[0m\u001b[0;34m)\u001b[0m\u001b[0;34m\u001b[0m\u001b[0m\n\u001b[0m\u001b[1;32m    112\u001b[0m         \u001b[0;32mif\u001b[0m \u001b[0mcallback\u001b[0m\u001b[0;34m:\u001b[0m\u001b[0;34m\u001b[0m\u001b[0m\n\u001b[1;32m    113\u001b[0m             \u001b[0mcallback\u001b[0m\u001b[0;34m(\u001b[0m\u001b[0mresult\u001b[0m\u001b[0;34m)\u001b[0m\u001b[0;34m\u001b[0m\u001b[0m\n",
            "\u001b[0;32m/usr/local/lib/python3.6/dist-packages/sklearn/externals/joblib/_parallel_backends.py\u001b[0m in \u001b[0;36m__init__\u001b[0;34m(self, batch)\u001b[0m\n\u001b[1;32m    330\u001b[0m         \u001b[0;31m# Don't delay the application, to avoid keeping the input\u001b[0m\u001b[0;34m\u001b[0m\u001b[0;34m\u001b[0m\u001b[0m\n\u001b[1;32m    331\u001b[0m         \u001b[0;31m# arguments in memory\u001b[0m\u001b[0;34m\u001b[0m\u001b[0;34m\u001b[0m\u001b[0m\n\u001b[0;32m--> 332\u001b[0;31m         \u001b[0mself\u001b[0m\u001b[0;34m.\u001b[0m\u001b[0mresults\u001b[0m \u001b[0;34m=\u001b[0m \u001b[0mbatch\u001b[0m\u001b[0;34m(\u001b[0m\u001b[0;34m)\u001b[0m\u001b[0;34m\u001b[0m\u001b[0m\n\u001b[0m\u001b[1;32m    333\u001b[0m \u001b[0;34m\u001b[0m\u001b[0m\n\u001b[1;32m    334\u001b[0m     \u001b[0;32mdef\u001b[0m \u001b[0mget\u001b[0m\u001b[0;34m(\u001b[0m\u001b[0mself\u001b[0m\u001b[0;34m)\u001b[0m\u001b[0;34m:\u001b[0m\u001b[0;34m\u001b[0m\u001b[0m\n",
            "\u001b[0;32m/usr/local/lib/python3.6/dist-packages/sklearn/externals/joblib/parallel.py\u001b[0m in \u001b[0;36m__call__\u001b[0;34m(self)\u001b[0m\n\u001b[1;32m    129\u001b[0m \u001b[0;34m\u001b[0m\u001b[0m\n\u001b[1;32m    130\u001b[0m     \u001b[0;32mdef\u001b[0m \u001b[0m__call__\u001b[0m\u001b[0;34m(\u001b[0m\u001b[0mself\u001b[0m\u001b[0;34m)\u001b[0m\u001b[0;34m:\u001b[0m\u001b[0;34m\u001b[0m\u001b[0m\n\u001b[0;32m--> 131\u001b[0;31m         \u001b[0;32mreturn\u001b[0m \u001b[0;34m[\u001b[0m\u001b[0mfunc\u001b[0m\u001b[0;34m(\u001b[0m\u001b[0;34m*\u001b[0m\u001b[0margs\u001b[0m\u001b[0;34m,\u001b[0m \u001b[0;34m**\u001b[0m\u001b[0mkwargs\u001b[0m\u001b[0;34m)\u001b[0m \u001b[0;32mfor\u001b[0m \u001b[0mfunc\u001b[0m\u001b[0;34m,\u001b[0m \u001b[0margs\u001b[0m\u001b[0;34m,\u001b[0m \u001b[0mkwargs\u001b[0m \u001b[0;32min\u001b[0m \u001b[0mself\u001b[0m\u001b[0;34m.\u001b[0m\u001b[0mitems\u001b[0m\u001b[0;34m]\u001b[0m\u001b[0;34m\u001b[0m\u001b[0m\n\u001b[0m\u001b[1;32m    132\u001b[0m \u001b[0;34m\u001b[0m\u001b[0m\n\u001b[1;32m    133\u001b[0m     \u001b[0;32mdef\u001b[0m \u001b[0m__len__\u001b[0m\u001b[0;34m(\u001b[0m\u001b[0mself\u001b[0m\u001b[0;34m)\u001b[0m\u001b[0;34m:\u001b[0m\u001b[0;34m\u001b[0m\u001b[0m\n",
            "\u001b[0;32m/usr/local/lib/python3.6/dist-packages/sklearn/externals/joblib/parallel.py\u001b[0m in \u001b[0;36m<listcomp>\u001b[0;34m(.0)\u001b[0m\n\u001b[1;32m    129\u001b[0m \u001b[0;34m\u001b[0m\u001b[0m\n\u001b[1;32m    130\u001b[0m     \u001b[0;32mdef\u001b[0m \u001b[0m__call__\u001b[0m\u001b[0;34m(\u001b[0m\u001b[0mself\u001b[0m\u001b[0;34m)\u001b[0m\u001b[0;34m:\u001b[0m\u001b[0;34m\u001b[0m\u001b[0m\n\u001b[0;32m--> 131\u001b[0;31m         \u001b[0;32mreturn\u001b[0m \u001b[0;34m[\u001b[0m\u001b[0mfunc\u001b[0m\u001b[0;34m(\u001b[0m\u001b[0;34m*\u001b[0m\u001b[0margs\u001b[0m\u001b[0;34m,\u001b[0m \u001b[0;34m**\u001b[0m\u001b[0mkwargs\u001b[0m\u001b[0;34m)\u001b[0m \u001b[0;32mfor\u001b[0m \u001b[0mfunc\u001b[0m\u001b[0;34m,\u001b[0m \u001b[0margs\u001b[0m\u001b[0;34m,\u001b[0m \u001b[0mkwargs\u001b[0m \u001b[0;32min\u001b[0m \u001b[0mself\u001b[0m\u001b[0;34m.\u001b[0m\u001b[0mitems\u001b[0m\u001b[0;34m]\u001b[0m\u001b[0;34m\u001b[0m\u001b[0m\n\u001b[0m\u001b[1;32m    132\u001b[0m \u001b[0;34m\u001b[0m\u001b[0m\n\u001b[1;32m    133\u001b[0m     \u001b[0;32mdef\u001b[0m \u001b[0m__len__\u001b[0m\u001b[0;34m(\u001b[0m\u001b[0mself\u001b[0m\u001b[0;34m)\u001b[0m\u001b[0;34m:\u001b[0m\u001b[0;34m\u001b[0m\u001b[0m\n",
            "\u001b[0;32m/usr/local/lib/python3.6/dist-packages/sklearn/model_selection/_validation.py\u001b[0m in \u001b[0;36m_fit_and_score\u001b[0;34m(estimator, X, y, scorer, train, test, verbose, parameters, fit_params, return_train_score, return_parameters, return_n_test_samples, return_times, error_score)\u001b[0m\n\u001b[1;32m    490\u001b[0m         \u001b[0;32mif\u001b[0m \u001b[0mreturn_train_score\u001b[0m\u001b[0;34m:\u001b[0m\u001b[0;34m\u001b[0m\u001b[0m\n\u001b[1;32m    491\u001b[0m             train_scores = _score(estimator, X_train, y_train, scorer,\n\u001b[0;32m--> 492\u001b[0;31m                                   is_multimetric)\n\u001b[0m\u001b[1;32m    493\u001b[0m \u001b[0;34m\u001b[0m\u001b[0m\n\u001b[1;32m    494\u001b[0m     \u001b[0;32mif\u001b[0m \u001b[0mverbose\u001b[0m \u001b[0;34m>\u001b[0m \u001b[0;36m2\u001b[0m\u001b[0;34m:\u001b[0m\u001b[0;34m\u001b[0m\u001b[0m\n",
            "\u001b[0;32m/usr/local/lib/python3.6/dist-packages/sklearn/model_selection/_validation.py\u001b[0m in \u001b[0;36m_score\u001b[0;34m(estimator, X_test, y_test, scorer, is_multimetric)\u001b[0m\n\u001b[1;32m    521\u001b[0m     \"\"\"\n\u001b[1;32m    522\u001b[0m     \u001b[0;32mif\u001b[0m \u001b[0mis_multimetric\u001b[0m\u001b[0;34m:\u001b[0m\u001b[0;34m\u001b[0m\u001b[0m\n\u001b[0;32m--> 523\u001b[0;31m         \u001b[0;32mreturn\u001b[0m \u001b[0m_multimetric_score\u001b[0m\u001b[0;34m(\u001b[0m\u001b[0mestimator\u001b[0m\u001b[0;34m,\u001b[0m \u001b[0mX_test\u001b[0m\u001b[0;34m,\u001b[0m \u001b[0my_test\u001b[0m\u001b[0;34m,\u001b[0m \u001b[0mscorer\u001b[0m\u001b[0;34m)\u001b[0m\u001b[0;34m\u001b[0m\u001b[0m\n\u001b[0m\u001b[1;32m    524\u001b[0m     \u001b[0;32melse\u001b[0m\u001b[0;34m:\u001b[0m\u001b[0;34m\u001b[0m\u001b[0m\n\u001b[1;32m    525\u001b[0m         \u001b[0;32mif\u001b[0m \u001b[0my_test\u001b[0m \u001b[0;32mis\u001b[0m \u001b[0;32mNone\u001b[0m\u001b[0;34m:\u001b[0m\u001b[0;34m\u001b[0m\u001b[0m\n",
            "\u001b[0;32m/usr/local/lib/python3.6/dist-packages/sklearn/model_selection/_validation.py\u001b[0m in \u001b[0;36m_multimetric_score\u001b[0;34m(estimator, X_test, y_test, scorers)\u001b[0m\n\u001b[1;32m    551\u001b[0m             \u001b[0mscore\u001b[0m \u001b[0;34m=\u001b[0m \u001b[0mscorer\u001b[0m\u001b[0;34m(\u001b[0m\u001b[0mestimator\u001b[0m\u001b[0;34m,\u001b[0m \u001b[0mX_test\u001b[0m\u001b[0;34m)\u001b[0m\u001b[0;34m\u001b[0m\u001b[0m\n\u001b[1;32m    552\u001b[0m         \u001b[0;32melse\u001b[0m\u001b[0;34m:\u001b[0m\u001b[0;34m\u001b[0m\u001b[0m\n\u001b[0;32m--> 553\u001b[0;31m             \u001b[0mscore\u001b[0m \u001b[0;34m=\u001b[0m \u001b[0mscorer\u001b[0m\u001b[0;34m(\u001b[0m\u001b[0mestimator\u001b[0m\u001b[0;34m,\u001b[0m \u001b[0mX_test\u001b[0m\u001b[0;34m,\u001b[0m \u001b[0my_test\u001b[0m\u001b[0;34m)\u001b[0m\u001b[0;34m\u001b[0m\u001b[0m\n\u001b[0m\u001b[1;32m    554\u001b[0m \u001b[0;34m\u001b[0m\u001b[0m\n\u001b[1;32m    555\u001b[0m         \u001b[0;32mif\u001b[0m \u001b[0mhasattr\u001b[0m\u001b[0;34m(\u001b[0m\u001b[0mscore\u001b[0m\u001b[0;34m,\u001b[0m \u001b[0;34m'item'\u001b[0m\u001b[0;34m)\u001b[0m\u001b[0;34m:\u001b[0m\u001b[0;34m\u001b[0m\u001b[0m\n",
            "\u001b[0;32m/usr/local/lib/python3.6/dist-packages/sklearn/metrics/scorer.py\u001b[0m in \u001b[0;36m_passthrough_scorer\u001b[0;34m(estimator, *args, **kwargs)\u001b[0m\n\u001b[1;32m    242\u001b[0m \u001b[0;32mdef\u001b[0m \u001b[0m_passthrough_scorer\u001b[0m\u001b[0;34m(\u001b[0m\u001b[0mestimator\u001b[0m\u001b[0;34m,\u001b[0m \u001b[0;34m*\u001b[0m\u001b[0margs\u001b[0m\u001b[0;34m,\u001b[0m \u001b[0;34m**\u001b[0m\u001b[0mkwargs\u001b[0m\u001b[0;34m)\u001b[0m\u001b[0;34m:\u001b[0m\u001b[0;34m\u001b[0m\u001b[0m\n\u001b[1;32m    243\u001b[0m     \u001b[0;34m\"\"\"Function that wraps estimator.score\"\"\"\u001b[0m\u001b[0;34m\u001b[0m\u001b[0m\n\u001b[0;32m--> 244\u001b[0;31m     \u001b[0;32mreturn\u001b[0m \u001b[0mestimator\u001b[0m\u001b[0;34m.\u001b[0m\u001b[0mscore\u001b[0m\u001b[0;34m(\u001b[0m\u001b[0;34m*\u001b[0m\u001b[0margs\u001b[0m\u001b[0;34m,\u001b[0m \u001b[0;34m**\u001b[0m\u001b[0mkwargs\u001b[0m\u001b[0;34m)\u001b[0m\u001b[0;34m\u001b[0m\u001b[0m\n\u001b[0m\u001b[1;32m    245\u001b[0m \u001b[0;34m\u001b[0m\u001b[0m\n\u001b[1;32m    246\u001b[0m \u001b[0;34m\u001b[0m\u001b[0m\n",
            "\u001b[0;32m/usr/local/lib/python3.6/dist-packages/sklearn/base.py\u001b[0m in \u001b[0;36mscore\u001b[0;34m(self, X, y, sample_weight)\u001b[0m\n\u001b[1;32m    385\u001b[0m         \u001b[0;32mfrom\u001b[0m \u001b[0;34m.\u001b[0m\u001b[0mmetrics\u001b[0m \u001b[0;32mimport\u001b[0m \u001b[0mr2_score\u001b[0m\u001b[0;34m\u001b[0m\u001b[0m\n\u001b[1;32m    386\u001b[0m         return r2_score(y, self.predict(X), sample_weight=sample_weight,\n\u001b[0;32m--> 387\u001b[0;31m                         multioutput='variance_weighted')\n\u001b[0m\u001b[1;32m    388\u001b[0m \u001b[0;34m\u001b[0m\u001b[0m\n\u001b[1;32m    389\u001b[0m \u001b[0;34m\u001b[0m\u001b[0m\n",
            "\u001b[0;32m/usr/local/lib/python3.6/dist-packages/sklearn/metrics/regression.py\u001b[0m in \u001b[0;36mr2_score\u001b[0;34m(y_true, y_pred, sample_weight, multioutput)\u001b[0m\n\u001b[1;32m    528\u001b[0m     \"\"\"\n\u001b[1;32m    529\u001b[0m     y_type, y_true, y_pred, multioutput = _check_reg_targets(\n\u001b[0;32m--> 530\u001b[0;31m         y_true, y_pred, multioutput)\n\u001b[0m\u001b[1;32m    531\u001b[0m \u001b[0;34m\u001b[0m\u001b[0m\n\u001b[1;32m    532\u001b[0m     \u001b[0;32mif\u001b[0m \u001b[0msample_weight\u001b[0m \u001b[0;32mis\u001b[0m \u001b[0;32mnot\u001b[0m \u001b[0;32mNone\u001b[0m\u001b[0;34m:\u001b[0m\u001b[0;34m\u001b[0m\u001b[0m\n",
            "\u001b[0;32m/usr/local/lib/python3.6/dist-packages/sklearn/metrics/regression.py\u001b[0m in \u001b[0;36m_check_reg_targets\u001b[0;34m(y_true, y_pred, multioutput)\u001b[0m\n\u001b[1;32m     73\u001b[0m \u001b[0;34m\u001b[0m\u001b[0m\n\u001b[1;32m     74\u001b[0m     \"\"\"\n\u001b[0;32m---> 75\u001b[0;31m     \u001b[0mcheck_consistent_length\u001b[0m\u001b[0;34m(\u001b[0m\u001b[0my_true\u001b[0m\u001b[0;34m,\u001b[0m \u001b[0my_pred\u001b[0m\u001b[0;34m)\u001b[0m\u001b[0;34m\u001b[0m\u001b[0m\n\u001b[0m\u001b[1;32m     76\u001b[0m     \u001b[0my_true\u001b[0m \u001b[0;34m=\u001b[0m \u001b[0mcheck_array\u001b[0m\u001b[0;34m(\u001b[0m\u001b[0my_true\u001b[0m\u001b[0;34m,\u001b[0m \u001b[0mensure_2d\u001b[0m\u001b[0;34m=\u001b[0m\u001b[0;32mFalse\u001b[0m\u001b[0;34m)\u001b[0m\u001b[0;34m\u001b[0m\u001b[0m\n\u001b[1;32m     77\u001b[0m     \u001b[0my_pred\u001b[0m \u001b[0;34m=\u001b[0m \u001b[0mcheck_array\u001b[0m\u001b[0;34m(\u001b[0m\u001b[0my_pred\u001b[0m\u001b[0;34m,\u001b[0m \u001b[0mensure_2d\u001b[0m\u001b[0;34m=\u001b[0m\u001b[0;32mFalse\u001b[0m\u001b[0;34m)\u001b[0m\u001b[0;34m\u001b[0m\u001b[0m\n",
            "\u001b[0;32m/usr/local/lib/python3.6/dist-packages/sklearn/utils/validation.py\u001b[0m in \u001b[0;36mcheck_consistent_length\u001b[0;34m(*arrays)\u001b[0m\n\u001b[1;32m    198\u001b[0m     \"\"\"\n\u001b[1;32m    199\u001b[0m \u001b[0;34m\u001b[0m\u001b[0m\n\u001b[0;32m--> 200\u001b[0;31m     \u001b[0mlengths\u001b[0m \u001b[0;34m=\u001b[0m \u001b[0;34m[\u001b[0m\u001b[0m_num_samples\u001b[0m\u001b[0;34m(\u001b[0m\u001b[0mX\u001b[0m\u001b[0;34m)\u001b[0m \u001b[0;32mfor\u001b[0m \u001b[0mX\u001b[0m \u001b[0;32min\u001b[0m \u001b[0marrays\u001b[0m \u001b[0;32mif\u001b[0m \u001b[0mX\u001b[0m \u001b[0;32mis\u001b[0m \u001b[0;32mnot\u001b[0m \u001b[0;32mNone\u001b[0m\u001b[0;34m]\u001b[0m\u001b[0;34m\u001b[0m\u001b[0m\n\u001b[0m\u001b[1;32m    201\u001b[0m     \u001b[0muniques\u001b[0m \u001b[0;34m=\u001b[0m \u001b[0mnp\u001b[0m\u001b[0;34m.\u001b[0m\u001b[0munique\u001b[0m\u001b[0;34m(\u001b[0m\u001b[0mlengths\u001b[0m\u001b[0;34m)\u001b[0m\u001b[0;34m\u001b[0m\u001b[0m\n\u001b[1;32m    202\u001b[0m     \u001b[0;32mif\u001b[0m \u001b[0mlen\u001b[0m\u001b[0;34m(\u001b[0m\u001b[0muniques\u001b[0m\u001b[0;34m)\u001b[0m \u001b[0;34m>\u001b[0m \u001b[0;36m1\u001b[0m\u001b[0;34m:\u001b[0m\u001b[0;34m\u001b[0m\u001b[0m\n",
            "\u001b[0;32m/usr/local/lib/python3.6/dist-packages/sklearn/utils/validation.py\u001b[0m in \u001b[0;36m<listcomp>\u001b[0;34m(.0)\u001b[0m\n\u001b[1;32m    198\u001b[0m     \"\"\"\n\u001b[1;32m    199\u001b[0m \u001b[0;34m\u001b[0m\u001b[0m\n\u001b[0;32m--> 200\u001b[0;31m     \u001b[0mlengths\u001b[0m \u001b[0;34m=\u001b[0m \u001b[0;34m[\u001b[0m\u001b[0m_num_samples\u001b[0m\u001b[0;34m(\u001b[0m\u001b[0mX\u001b[0m\u001b[0;34m)\u001b[0m \u001b[0;32mfor\u001b[0m \u001b[0mX\u001b[0m \u001b[0;32min\u001b[0m \u001b[0marrays\u001b[0m \u001b[0;32mif\u001b[0m \u001b[0mX\u001b[0m \u001b[0;32mis\u001b[0m \u001b[0;32mnot\u001b[0m \u001b[0;32mNone\u001b[0m\u001b[0;34m]\u001b[0m\u001b[0;34m\u001b[0m\u001b[0m\n\u001b[0m\u001b[1;32m    201\u001b[0m     \u001b[0muniques\u001b[0m \u001b[0;34m=\u001b[0m \u001b[0mnp\u001b[0m\u001b[0;34m.\u001b[0m\u001b[0munique\u001b[0m\u001b[0;34m(\u001b[0m\u001b[0mlengths\u001b[0m\u001b[0;34m)\u001b[0m\u001b[0;34m\u001b[0m\u001b[0m\n\u001b[1;32m    202\u001b[0m     \u001b[0;32mif\u001b[0m \u001b[0mlen\u001b[0m\u001b[0;34m(\u001b[0m\u001b[0muniques\u001b[0m\u001b[0;34m)\u001b[0m \u001b[0;34m>\u001b[0m \u001b[0;36m1\u001b[0m\u001b[0;34m:\u001b[0m\u001b[0;34m\u001b[0m\u001b[0m\n",
            "\u001b[0;32m/usr/local/lib/python3.6/dist-packages/sklearn/utils/validation.py\u001b[0m in \u001b[0;36m_num_samples\u001b[0;34m(x)\u001b[0m\n\u001b[1;32m    104\u001b[0m \u001b[0;32mdef\u001b[0m \u001b[0m_num_samples\u001b[0m\u001b[0;34m(\u001b[0m\u001b[0mx\u001b[0m\u001b[0;34m)\u001b[0m\u001b[0;34m:\u001b[0m\u001b[0;34m\u001b[0m\u001b[0m\n\u001b[1;32m    105\u001b[0m     \u001b[0;34m\"\"\"Return number of samples in array-like x.\"\"\"\u001b[0m\u001b[0;34m\u001b[0m\u001b[0m\n\u001b[0;32m--> 106\u001b[0;31m     \u001b[0;32mif\u001b[0m \u001b[0mhasattr\u001b[0m\u001b[0;34m(\u001b[0m\u001b[0mx\u001b[0m\u001b[0;34m,\u001b[0m \u001b[0;34m'fit'\u001b[0m\u001b[0;34m)\u001b[0m \u001b[0;32mand\u001b[0m \u001b[0mcallable\u001b[0m\u001b[0;34m(\u001b[0m\u001b[0mx\u001b[0m\u001b[0;34m.\u001b[0m\u001b[0mfit\u001b[0m\u001b[0;34m)\u001b[0m\u001b[0;34m:\u001b[0m\u001b[0;34m\u001b[0m\u001b[0m\n\u001b[0m\u001b[1;32m    107\u001b[0m         \u001b[0;31m# Don't get num_samples from an ensembles length!\u001b[0m\u001b[0;34m\u001b[0m\u001b[0;34m\u001b[0m\u001b[0m\n\u001b[1;32m    108\u001b[0m         raise TypeError('Expected sequence or array-like, got '\n",
            "\u001b[0;32m/usr/local/lib/python3.6/dist-packages/pandas/core/generic.py\u001b[0m in \u001b[0;36m__getattr__\u001b[0;34m(self, name)\u001b[0m\n\u001b[1;32m   3610\u001b[0m             \u001b[0;32mreturn\u001b[0m \u001b[0mobject\u001b[0m\u001b[0;34m.\u001b[0m\u001b[0m__getattribute__\u001b[0m\u001b[0;34m(\u001b[0m\u001b[0mself\u001b[0m\u001b[0;34m,\u001b[0m \u001b[0mname\u001b[0m\u001b[0;34m)\u001b[0m\u001b[0;34m\u001b[0m\u001b[0m\n\u001b[1;32m   3611\u001b[0m         \u001b[0;32melse\u001b[0m\u001b[0;34m:\u001b[0m\u001b[0;34m\u001b[0m\u001b[0m\n\u001b[0;32m-> 3612\u001b[0;31m             \u001b[0;32mif\u001b[0m \u001b[0mname\u001b[0m \u001b[0;32min\u001b[0m \u001b[0mself\u001b[0m\u001b[0;34m.\u001b[0m\u001b[0m_info_axis\u001b[0m\u001b[0;34m:\u001b[0m\u001b[0;34m\u001b[0m\u001b[0m\n\u001b[0m\u001b[1;32m   3613\u001b[0m                 \u001b[0;32mreturn\u001b[0m \u001b[0mself\u001b[0m\u001b[0;34m[\u001b[0m\u001b[0mname\u001b[0m\u001b[0;34m]\u001b[0m\u001b[0;34m\u001b[0m\u001b[0m\n\u001b[1;32m   3614\u001b[0m             \u001b[0;32mreturn\u001b[0m \u001b[0mobject\u001b[0m\u001b[0;34m.\u001b[0m\u001b[0m__getattribute__\u001b[0m\u001b[0;34m(\u001b[0m\u001b[0mself\u001b[0m\u001b[0;34m,\u001b[0m \u001b[0mname\u001b[0m\u001b[0;34m)\u001b[0m\u001b[0;34m\u001b[0m\u001b[0m\n",
            "\u001b[0;32m/usr/local/lib/python3.6/dist-packages/pandas/core/indexes/base.py\u001b[0m in \u001b[0;36m__contains__\u001b[0;34m(self, key)\u001b[0m\n\u001b[1;32m   1694\u001b[0m         \u001b[0mhash\u001b[0m\u001b[0;34m(\u001b[0m\u001b[0mkey\u001b[0m\u001b[0;34m)\u001b[0m\u001b[0;34m\u001b[0m\u001b[0m\n\u001b[1;32m   1695\u001b[0m         \u001b[0;32mtry\u001b[0m\u001b[0;34m:\u001b[0m\u001b[0;34m\u001b[0m\u001b[0m\n\u001b[0;32m-> 1696\u001b[0;31m             \u001b[0;32mreturn\u001b[0m \u001b[0mkey\u001b[0m \u001b[0;32min\u001b[0m \u001b[0mself\u001b[0m\u001b[0;34m.\u001b[0m\u001b[0m_engine\u001b[0m\u001b[0;34m\u001b[0m\u001b[0m\n\u001b[0m\u001b[1;32m   1697\u001b[0m         \u001b[0;32mexcept\u001b[0m \u001b[0;34m(\u001b[0m\u001b[0mOverflowError\u001b[0m\u001b[0;34m,\u001b[0m \u001b[0mTypeError\u001b[0m\u001b[0;34m,\u001b[0m \u001b[0mValueError\u001b[0m\u001b[0;34m)\u001b[0m\u001b[0;34m:\u001b[0m\u001b[0;34m\u001b[0m\u001b[0m\n\u001b[1;32m   1698\u001b[0m             \u001b[0;32mreturn\u001b[0m \u001b[0;32mFalse\u001b[0m\u001b[0;34m\u001b[0m\u001b[0m\n",
            "\u001b[0;31mKeyboardInterrupt\u001b[0m: "
          ]
        }
      ]
    },
    {
      "metadata": {
        "id": "cCm5T5-xUiK_",
        "colab_type": "code",
        "outputId": "d56b9486-ca23-4f66-a1b3-53911469edb1",
        "colab": {
          "base_uri": "https://localhost:8080/",
          "height": 163
        }
      },
      "cell_type": "code",
      "source": [
        " regRidgeCV.alpha_"
      ],
      "execution_count": 76,
      "outputs": [
        {
          "output_type": "error",
          "ename": "AttributeError",
          "evalue": "ignored",
          "traceback": [
            "\u001b[0;31m---------------------------------------------------------------------------\u001b[0m",
            "\u001b[0;31mAttributeError\u001b[0m                            Traceback (most recent call last)",
            "\u001b[0;32m<ipython-input-76-9234f1b71f69>\u001b[0m in \u001b[0;36m<module>\u001b[0;34m()\u001b[0m\n\u001b[0;32m----> 1\u001b[0;31m \u001b[0mregRidgeCV\u001b[0m\u001b[0;34m.\u001b[0m\u001b[0malpha_\u001b[0m\u001b[0;34m\u001b[0m\u001b[0m\n\u001b[0m",
            "\u001b[0;31mAttributeError\u001b[0m: 'RidgeCV' object has no attribute 'alpha_'"
          ]
        }
      ]
    },
    {
      "metadata": {
        "id": "MehdI3UoXEuO",
        "colab_type": "code",
        "colab": {
          "base_uri": "https://localhost:8080/",
          "height": 163
        },
        "outputId": "f948d0a5-f612-4317-d6bf-11f6356320b3"
      },
      "cell_type": "code",
      "source": [
        "model_Ridge= lm.Ridge (alpha =regRidgeCV.alpha_,fit_intercept=True,max_iter=3000,)"
      ],
      "execution_count": 77,
      "outputs": [
        {
          "output_type": "error",
          "ename": "AttributeError",
          "evalue": "ignored",
          "traceback": [
            "\u001b[0;31m---------------------------------------------------------------------------\u001b[0m",
            "\u001b[0;31mAttributeError\u001b[0m                            Traceback (most recent call last)",
            "\u001b[0;32m<ipython-input-77-3ce513b4bef5>\u001b[0m in \u001b[0;36m<module>\u001b[0;34m()\u001b[0m\n\u001b[0;32m----> 1\u001b[0;31m \u001b[0mmodel_Ridge\u001b[0m\u001b[0;34m=\u001b[0m \u001b[0mlm\u001b[0m\u001b[0;34m.\u001b[0m\u001b[0mRidge\u001b[0m \u001b[0;34m(\u001b[0m\u001b[0malpha\u001b[0m \u001b[0;34m=\u001b[0m\u001b[0mregRidgeCV\u001b[0m\u001b[0;34m.\u001b[0m\u001b[0malpha_\u001b[0m\u001b[0;34m,\u001b[0m\u001b[0mfit_intercept\u001b[0m\u001b[0;34m=\u001b[0m\u001b[0;32mTrue\u001b[0m\u001b[0;34m,\u001b[0m\u001b[0mmax_iter\u001b[0m\u001b[0;34m=\u001b[0m\u001b[0;36m3000\u001b[0m\u001b[0;34m,\u001b[0m\u001b[0;34m)\u001b[0m\u001b[0;34m\u001b[0m\u001b[0m\n\u001b[0m",
            "\u001b[0;31mAttributeError\u001b[0m: 'RidgeCV' object has no attribute 'alpha_'"
          ]
        }
      ]
    },
    {
      "metadata": {
        "id": "m08XbJMcXQ-s",
        "colab_type": "code",
        "outputId": "33a573ac-05a3-43c3-c68f-e5c6120660f0",
        "colab": {
          "base_uri": "https://localhost:8080/",
          "height": 51
        }
      },
      "cell_type": "code",
      "source": [
        "model_Ridge.fit(x_train, y_train)"
      ],
      "execution_count": 39,
      "outputs": [
        {
          "output_type": "execute_result",
          "data": {
            "text/plain": [
              "Ridge(alpha=0.001, copy_X=True, fit_intercept=True, max_iter=3000,\n",
              "   normalize=False, random_state=None, solver='auto', tol=0.001)"
            ]
          },
          "metadata": {
            "tags": []
          },
          "execution_count": 39
        }
      ]
    },
    {
      "metadata": {
        "id": "GfKfENzfXRHP",
        "colab_type": "code",
        "outputId": "fb0e0a8f-e99f-40d4-d334-4c3cdcf34461",
        "colab": {
          "base_uri": "https://localhost:8080/",
          "height": 34
        }
      },
      "cell_type": "code",
      "source": [
        "predRidge=model_Ridge.predict(X=x_test)\n",
        "predRidge"
      ],
      "execution_count": 40,
      "outputs": [
        {
          "output_type": "execute_result",
          "data": {
            "text/plain": [
              "array([17., 14., 27., ..., 16., 18., 48.])"
            ]
          },
          "metadata": {
            "tags": []
          },
          "execution_count": 40
        }
      ]
    },
    {
      "metadata": {
        "id": "gS-jX9umUrHY",
        "colab_type": "code",
        "outputId": "35583a4e-e723-4e74-9817-8d5d6c45f10c",
        "colab": {
          "base_uri": "https://localhost:8080/",
          "height": 119
        }
      },
      "cell_type": "code",
      "source": [
        " print(model_Ridge,'MAE',mean_absolute_error(y_test,predRidge))\n",
        " print(model_Ridge,'MSE',mean_squared_error(y_test,predRidge))\n",
        " print(model_Ridge,'R2S',r2_score(y_test,predRidge))"
      ],
      "execution_count": 41,
      "outputs": [
        {
          "output_type": "stream",
          "text": [
            "Ridge(alpha=0.001, copy_X=True, fit_intercept=True, max_iter=3000,\n",
            "   normalize=False, random_state=None, solver='auto', tol=0.001) MAE 8.581430272772022e-11\n",
            "Ridge(alpha=0.001, copy_X=True, fit_intercept=True, max_iter=3000,\n",
            "   normalize=False, random_state=None, solver='auto', tol=0.001) MSE 1.885879903668744e-20\n",
            "Ridge(alpha=0.001, copy_X=True, fit_intercept=True, max_iter=3000,\n",
            "   normalize=False, random_state=None, solver='auto', tol=0.001) R2S 1.0\n"
          ],
          "name": "stdout"
        }
      ]
    },
    {
      "metadata": {
        "id": "q_CxJtOsmUeK",
        "colab_type": "code",
        "outputId": "2b95c198-b521-4882-bb9c-1a0e82390376",
        "colab": {
          "base_uri": "https://localhost:8080/",
          "height": 248
        }
      },
      "cell_type": "code",
      "source": [
        "import time\n",
        "from tqdm import *\n",
        "\n",
        "mridge = lm.Ridge()\n",
        "\n",
        "\n",
        "errors = []\n",
        "\n",
        "for a in tqdm(alphas):\n",
        "    mridge.set_params(alpha=a)\n",
        "    mridge.fit(x_train, y_train)\n",
        "    coefs.append(mridge.coef_)\n",
        "    predict= mridge.predict(x_test)\n",
        "    errors.append(mean_squared_error(y_test,predict))\n",
        "\n",
        "plt.figure(figsize=(20, 6))\n",
        "\n",
        "plt.subplot(122)\n",
        "ax = plt.gca()\n",
        "ax.plot(alphas, errors)\n",
        "ax.set_xscale('log')\n",
        "plt.xlabel('alpha')\n",
        "plt.ylabel('error')\n",
        "plt.title('Coefficient error as a function of the regularization')\n",
        "plt.axis('tight')\n",
        "\n",
        "plt.show()"
      ],
      "execution_count": 42,
      "outputs": [
        {
          "output_type": "stream",
          "text": [
            "\r  0%|          | 0/1000 [00:00<?, ?it/s]\n"
          ],
          "name": "stderr"
        },
        {
          "output_type": "error",
          "ename": "NameError",
          "evalue": "ignored",
          "traceback": [
            "\u001b[0;31m---------------------------------------------------------------------------\u001b[0m",
            "\u001b[0;31mNameError\u001b[0m                                 Traceback (most recent call last)",
            "\u001b[0;32m<ipython-input-42-c0a82565a7b9>\u001b[0m in \u001b[0;36m<module>\u001b[0;34m()\u001b[0m\n\u001b[1;32m     10\u001b[0m     \u001b[0mmridge\u001b[0m\u001b[0;34m.\u001b[0m\u001b[0mset_params\u001b[0m\u001b[0;34m(\u001b[0m\u001b[0malpha\u001b[0m\u001b[0;34m=\u001b[0m\u001b[0ma\u001b[0m\u001b[0;34m)\u001b[0m\u001b[0;34m\u001b[0m\u001b[0m\n\u001b[1;32m     11\u001b[0m     \u001b[0mmridge\u001b[0m\u001b[0;34m.\u001b[0m\u001b[0mfit\u001b[0m\u001b[0;34m(\u001b[0m\u001b[0mx_train\u001b[0m\u001b[0;34m,\u001b[0m \u001b[0my_train\u001b[0m\u001b[0;34m)\u001b[0m\u001b[0;34m\u001b[0m\u001b[0m\n\u001b[0;32m---> 12\u001b[0;31m     \u001b[0mcoefs\u001b[0m\u001b[0;34m.\u001b[0m\u001b[0mappend\u001b[0m\u001b[0;34m(\u001b[0m\u001b[0mmridge\u001b[0m\u001b[0;34m.\u001b[0m\u001b[0mcoef_\u001b[0m\u001b[0;34m)\u001b[0m\u001b[0;34m\u001b[0m\u001b[0m\n\u001b[0m\u001b[1;32m     13\u001b[0m     \u001b[0mpredict\u001b[0m\u001b[0;34m=\u001b[0m \u001b[0mmridge\u001b[0m\u001b[0;34m.\u001b[0m\u001b[0mpredict\u001b[0m\u001b[0;34m(\u001b[0m\u001b[0mx_test\u001b[0m\u001b[0;34m)\u001b[0m\u001b[0;34m\u001b[0m\u001b[0m\n\u001b[1;32m     14\u001b[0m     \u001b[0merrors\u001b[0m\u001b[0;34m.\u001b[0m\u001b[0mappend\u001b[0m\u001b[0;34m(\u001b[0m\u001b[0mmean_squared_error\u001b[0m\u001b[0;34m(\u001b[0m\u001b[0my_test\u001b[0m\u001b[0;34m,\u001b[0m\u001b[0mpredict\u001b[0m\u001b[0;34m)\u001b[0m\u001b[0;34m)\u001b[0m\u001b[0;34m\u001b[0m\u001b[0m\n",
            "\u001b[0;31mNameError\u001b[0m: name 'coefs' is not defined"
          ]
        }
      ]
    },
    {
      "metadata": {
        "id": "T1rKtxXF8skH",
        "colab_type": "text"
      },
      "cell_type": "markdown",
      "source": [
        "### **CALIBRACIÓN MODELO ADABOOST REGRESSOR VÍA VALIDACIÓN CRUZADA**"
      ]
    },
    {
      "metadata": {
        "id": "ZltqvFmj874v",
        "colab_type": "code",
        "colab": {}
      },
      "cell_type": "code",
      "source": [
        "from sklearn.ensemble import AdaBoostRegressor\n",
        "from sklearn.model_selection import RandomizedSearchCV\n",
        "\n",
        "param_dist = {\n",
        " 'n_estimators': [30,50, 100],\n",
        " 'learning_rate' : [0.01,0.05,0.1,0.3,1],\n",
        " 'loss' : ['linear', 'square', 'exponential']\n",
        " }\n"
      ],
      "execution_count": 0,
      "outputs": []
    },
    {
      "metadata": {
        "id": "eMkESdsi88B_",
        "colab_type": "code",
        "colab": {}
      },
      "cell_type": "code",
      "source": [
        "pre_gs_inst = RandomizedSearchCV(AdaBoostRegressor(),param_distributions = param_dist,cv=3,n_iter = 10)"
      ],
      "execution_count": 0,
      "outputs": []
    },
    {
      "metadata": {
        "id": "6L636tOI88I-",
        "colab_type": "code",
        "colab": {}
      },
      "cell_type": "code",
      "source": [
        "pre_gs_inst.fit(x_train, y_train)"
      ],
      "execution_count": 0,
      "outputs": []
    },
    {
      "metadata": {
        "id": "xqIGaasy88S0",
        "colab_type": "code",
        "colab": {}
      },
      "cell_type": "code",
      "source": [
        "pre_gs_inst.best_params_"
      ],
      "execution_count": 0,
      "outputs": []
    },
    {
      "metadata": {
        "id": "it4XFdEY88Z8",
        "colab_type": "code",
        "colab": {}
      },
      "cell_type": "code",
      "source": [
        "ada_calibrate = AdaBoostRegressor(base_estimator=None, learning_rate=0.01, loss='linear',\n",
        "         n_estimators=30, random_state=1456)"
      ],
      "execution_count": 0,
      "outputs": []
    },
    {
      "metadata": {
        "id": "1alZu9ig88gq",
        "colab_type": "code",
        "colab": {}
      },
      "cell_type": "code",
      "source": [
        "ada_calibrate.fit(x_train, y_train)"
      ],
      "execution_count": 0,
      "outputs": []
    },
    {
      "metadata": {
        "id": "65m2UFN088nw",
        "colab_type": "code",
        "colab": {}
      },
      "cell_type": "code",
      "source": [
        "pred_ada = ada_calibrate.predict(x_test)"
      ],
      "execution_count": 0,
      "outputs": []
    },
    {
      "metadata": {
        "id": "lbFSMYJ888vR",
        "colab_type": "code",
        "colab": {}
      },
      "cell_type": "code",
      "source": [
        "# Almacenamiento de la importancia de los predictores.\n",
        "importances = ada_calibrate.feature_importances_\n",
        "indices = np.argsort(importances)\n",
        "\n",
        "# Gráfico de importancia de los predictores.\n",
        "#plt.figure(1)\n",
        "\n",
        "plt.figure(figsize=(22,20))\n",
        "plt.title('Importancia de los Predictores')\n",
        "plt.barh(range(len(indices)), importances[indices], color='b', align='center')\n",
        "plt.yticks(range(len(indices)), [features[i] for i in indices])\n",
        "plt.xlabel('Importancia Relativa')"
      ],
      "execution_count": 0,
      "outputs": []
    },
    {
      "metadata": {
        "id": "c-qM-F-K885a",
        "colab_type": "code",
        "colab": {}
      },
      "cell_type": "code",
      "source": [
        "from sklearn.metrics import mean_absolute_error,mean_squared_error,mean_squared_log_error,r2_score\n",
        "mean_squared_error(pred_ada,y_test),r2_score(y_test,pred_ada),(np.sqrt(mean_squared_error(y_test, pred_ada)))"
      ],
      "execution_count": 0,
      "outputs": []
    },
    {
      "metadata": {
        "id": "v6cKTMBC889l",
        "colab_type": "code",
        "colab": {}
      },
      "cell_type": "code",
      "source": [
        ""
      ],
      "execution_count": 0,
      "outputs": []
    },
    {
      "metadata": {
        "id": "aEWtTDNfpnxH",
        "colab_type": "text"
      },
      "cell_type": "markdown",
      "source": [
        "### **CALIBRACIÓN MODELO LINEAR SVR  REGRESSOR VÍA VALIDACIÓN CRUZADA**"
      ]
    },
    {
      "metadata": {
        "id": "-L6FWUfJ882g",
        "colab_type": "code",
        "colab": {}
      },
      "cell_type": "code",
      "source": [
        "from sklearn.svm import LinearSVR\n",
        "from sklearn.model_selection import GridSearchCV\n",
        "\n",
        "param_SVR = {\n",
        "\"C\":[0.0001, 0.001, 0.01, 0.1, 1, 10, 100],\n",
        "\"epsilon\":[0.0001, 0.001, 0.01, 0.1, 1, 2, 5],\n",
        "\"loss\":['squared_epsilon_insensitive','epsilon_insensitive']\n",
        "#\"max_iter\":[100,500,1000,1500,2000],\n",
        "#\"fit_intercept\":[True,False]\n",
        "#\"dual\":[True,False]\n",
        "}\n"
      ],
      "execution_count": 0,
      "outputs": []
    },
    {
      "metadata": {
        "id": "VoaDBThA880R",
        "colab_type": "code",
        "colab": {}
      },
      "cell_type": "code",
      "source": [
        "estimator = LinearSVR(random_state=12)"
      ],
      "execution_count": 0,
      "outputs": []
    },
    {
      "metadata": {
        "id": "2CLTxflx88sp",
        "colab_type": "code",
        "colab": {}
      },
      "cell_type": "code",
      "source": [
        "gridsearch = GridSearchCV(estimator,param_SVR,scoring=\"r2\",n_jobs=-1,cv=2,verbose=2)"
      ],
      "execution_count": 0,
      "outputs": []
    },
    {
      "metadata": {
        "id": "0lSJyLos88le",
        "colab_type": "code",
        "colab": {}
      },
      "cell_type": "code",
      "source": [
        "gridsearch.fit(x_train,y_train)"
      ],
      "execution_count": 0,
      "outputs": []
    },
    {
      "metadata": {
        "id": "afdXvbyK88eJ",
        "colab_type": "code",
        "colab": {}
      },
      "cell_type": "code",
      "source": [
        "gridsearch.best_params_"
      ],
      "execution_count": 0,
      "outputs": []
    },
    {
      "metadata": {
        "id": "Tyy-I7SV88Xe",
        "colab_type": "code",
        "colab": {}
      },
      "cell_type": "code",
      "source": [
        " SVR_calibrate = LinearSVR(C=0.01,epsilon=0.0001,random_state=0, tol=1e-5,loss='squared_epsilon_insensitive',fit_intercept=False,dual=True,max_iter :2000)"
      ],
      "execution_count": 0,
      "outputs": []
    },
    {
      "metadata": {
        "id": "OxreMSGK88QO",
        "colab_type": "code",
        "colab": {}
      },
      "cell_type": "code",
      "source": [
        " SVR_calibrate.fit(x_train, y_train)"
      ],
      "execution_count": 0,
      "outputs": []
    },
    {
      "metadata": {
        "id": "xot-Wexd88NR",
        "colab_type": "code",
        "colab": {}
      },
      "cell_type": "code",
      "source": [
        " predSVR=SVR_calibrate.predict(x_test)"
      ],
      "execution_count": 0,
      "outputs": []
    },
    {
      "metadata": {
        "id": "MyUir5Kt88GD",
        "colab_type": "code",
        "colab": {}
      },
      "cell_type": "code",
      "source": [
        "from sklearn.metrics import mean_absolute_error,mean_squared_error,mean_squared_log_error,r2_score\n",
        "mean_squared_error( predSVR,y_test),r2_score(y_test, predSVR),(np.sqrt(mean_squared_error(y_test,  predSVR)))"
      ],
      "execution_count": 0,
      "outputs": []
    },
    {
      "metadata": {
        "id": "WjCB3YDYzZia",
        "colab_type": "text"
      },
      "cell_type": "markdown",
      "source": [
        "### ** SALVADO DEL MODELO**"
      ]
    },
    {
      "metadata": {
        "id": "Pvzhbs9buyQ8",
        "colab_type": "code",
        "colab": {}
      },
      "cell_type": "code",
      "source": [
        "from sklearn.externals import joblib\n",
        "filename = 'rf.calibrate.pkl'\n",
        "joblib.dump(rf.calibrate, filename)\n"
      ],
      "execution_count": 0,
      "outputs": []
    },
    {
      "metadata": {
        "id": "ovPBfwmPu5xT",
        "colab_type": "code",
        "colab": {}
      },
      "cell_type": "code",
      "source": [
        "loaded_model = joblib.load(filename)\n",
        "result = loaded_model.score(X_test, Y_test)\n",
        "print(result)"
      ],
      "execution_count": 0,
      "outputs": []
    },
    {
      "metadata": {
        "id": "OTQGb98qNG05",
        "colab_type": "code",
        "colab": {}
      },
      "cell_type": "code",
      "source": [
        ""
      ],
      "execution_count": 0,
      "outputs": []
    },
    {
      "metadata": {
        "id": "8Z3ompqpNG6c",
        "colab_type": "code",
        "colab": {}
      },
      "cell_type": "code",
      "source": [
        ""
      ],
      "execution_count": 0,
      "outputs": []
    },
    {
      "metadata": {
        "id": "TNY62I8YNG_a",
        "colab_type": "code",
        "colab": {}
      },
      "cell_type": "code",
      "source": [
        ""
      ],
      "execution_count": 0,
      "outputs": []
    }
  ]
}